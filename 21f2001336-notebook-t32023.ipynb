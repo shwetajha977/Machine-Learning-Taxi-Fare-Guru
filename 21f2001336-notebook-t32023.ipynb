{
 "cells": [
  {
   "cell_type": "markdown",
   "id": "d597bb7f",
   "metadata": {
    "papermill": {
     "duration": 0.025362,
     "end_time": "2023-11-28T04:07:41.124758",
     "exception": false,
     "start_time": "2023-11-28T04:07:41.099396",
     "status": "completed"
    },
    "tags": []
   },
   "source": [
    "# ***Taxi Fare Guru***"
   ]
  },
  {
   "cell_type": "markdown",
   "id": "9bb35626",
   "metadata": {
    "papermill": {
     "duration": 0.02482,
     "end_time": "2023-11-28T04:07:41.175989",
     "exception": false,
     "start_time": "2023-11-28T04:07:41.151169",
     "status": "completed"
    },
    "tags": []
   },
   "source": [
    "# Importing Common Library"
   ]
  },
  {
   "cell_type": "code",
   "execution_count": 1,
   "id": "8ab00686",
   "metadata": {
    "execution": {
     "iopub.execute_input": "2023-11-28T04:07:41.228285Z",
     "iopub.status.busy": "2023-11-28T04:07:41.227753Z",
     "iopub.status.idle": "2023-11-28T04:07:41.988098Z",
     "shell.execute_reply": "2023-11-28T04:07:41.987075Z"
    },
    "papermill": {
     "duration": 0.790059,
     "end_time": "2023-11-28T04:07:41.991162",
     "exception": false,
     "start_time": "2023-11-28T04:07:41.201103",
     "status": "completed"
    },
    "tags": []
   },
   "outputs": [],
   "source": [
    "import numpy as np\n",
    "import pandas as pd"
   ]
  },
  {
   "cell_type": "markdown",
   "id": "91ae83cd",
   "metadata": {
    "papermill": {
     "duration": 0.025178,
     "end_time": "2023-11-28T04:07:42.096267",
     "exception": false,
     "start_time": "2023-11-28T04:07:42.071089",
     "status": "completed"
    },
    "tags": []
   },
   "source": [
    "# Importing Datasets"
   ]
  },
  {
   "cell_type": "code",
   "execution_count": 2,
   "id": "2bbe9909",
   "metadata": {
    "execution": {
     "iopub.execute_input": "2023-11-28T04:07:42.147918Z",
     "iopub.status.busy": "2023-11-28T04:07:42.147455Z",
     "iopub.status.idle": "2023-11-28T04:07:42.843961Z",
     "shell.execute_reply": "2023-11-28T04:07:42.842834Z"
    },
    "papermill": {
     "duration": 0.72494,
     "end_time": "2023-11-28T04:07:42.846187",
     "exception": false,
     "start_time": "2023-11-28T04:07:42.121247",
     "status": "completed"
    },
    "tags": []
   },
   "outputs": [],
   "source": [
    "df_train = pd.read_csv(\"/kaggle/input/taxi-fare-guru-total-amount-prediction-challenge/train.csv\")\n",
    "df_test = pd.read_csv(\"/kaggle/input/taxi-fare-guru-total-amount-prediction-challenge/test.csv\")\n",
    "df_sample = pd.read_csv(\"/kaggle/input/taxi-fare-guru-total-amount-prediction-challenge/sample.csv.csv\")"
   ]
  },
  {
   "cell_type": "markdown",
   "id": "109bc89c",
   "metadata": {
    "papermill": {
     "duration": 0.024536,
     "end_time": "2023-11-28T04:07:42.896206",
     "exception": false,
     "start_time": "2023-11-28T04:07:42.871670",
     "status": "completed"
    },
    "tags": []
   },
   "source": [
    "# Data Preprocessing"
   ]
  },
  {
   "cell_type": "code",
   "execution_count": 3,
   "id": "af02578d",
   "metadata": {
    "execution": {
     "iopub.execute_input": "2023-11-28T04:07:42.949141Z",
     "iopub.status.busy": "2023-11-28T04:07:42.948495Z",
     "iopub.status.idle": "2023-11-28T04:07:42.954443Z",
     "shell.execute_reply": "2023-11-28T04:07:42.953612Z"
    },
    "papermill": {
     "duration": 0.033688,
     "end_time": "2023-11-28T04:07:42.956243",
     "exception": false,
     "start_time": "2023-11-28T04:07:42.922555",
     "status": "completed"
    },
    "tags": []
   },
   "outputs": [
    {
     "data": {
      "text/plain": [
       "(1000, 2)"
      ]
     },
     "execution_count": 3,
     "metadata": {},
     "output_type": "execute_result"
    }
   ],
   "source": [
    "df_sample.shape # Shape of sample dataset"
   ]
  },
  {
   "cell_type": "code",
   "execution_count": 4,
   "id": "e95a0156",
   "metadata": {
    "execution": {
     "iopub.execute_input": "2023-11-28T04:07:43.008296Z",
     "iopub.status.busy": "2023-11-28T04:07:43.007933Z",
     "iopub.status.idle": "2023-11-28T04:07:43.026663Z",
     "shell.execute_reply": "2023-11-28T04:07:43.025795Z"
    },
    "papermill": {
     "duration": 0.047609,
     "end_time": "2023-11-28T04:07:43.028469",
     "exception": false,
     "start_time": "2023-11-28T04:07:42.980860",
     "status": "completed"
    },
    "tags": []
   },
   "outputs": [
    {
     "data": {
      "text/html": [
       "<div>\n",
       "<style scoped>\n",
       "    .dataframe tbody tr th:only-of-type {\n",
       "        vertical-align: middle;\n",
       "    }\n",
       "\n",
       "    .dataframe tbody tr th {\n",
       "        vertical-align: top;\n",
       "    }\n",
       "\n",
       "    .dataframe thead th {\n",
       "        text-align: right;\n",
       "    }\n",
       "</style>\n",
       "<table border=\"1\" class=\"dataframe\">\n",
       "  <thead>\n",
       "    <tr style=\"text-align: right;\">\n",
       "      <th></th>\n",
       "      <th>ID</th>\n",
       "      <th>total_amount</th>\n",
       "    </tr>\n",
       "  </thead>\n",
       "  <tbody>\n",
       "    <tr>\n",
       "      <th>0</th>\n",
       "      <td>1</td>\n",
       "      <td>24.456348</td>\n",
       "    </tr>\n",
       "    <tr>\n",
       "      <th>1</th>\n",
       "      <td>2</td>\n",
       "      <td>24.374058</td>\n",
       "    </tr>\n",
       "    <tr>\n",
       "      <th>2</th>\n",
       "      <td>3</td>\n",
       "      <td>19.878154</td>\n",
       "    </tr>\n",
       "    <tr>\n",
       "      <th>3</th>\n",
       "      <td>4</td>\n",
       "      <td>25.015569</td>\n",
       "    </tr>\n",
       "    <tr>\n",
       "      <th>4</th>\n",
       "      <td>5</td>\n",
       "      <td>22.252489</td>\n",
       "    </tr>\n",
       "  </tbody>\n",
       "</table>\n",
       "</div>"
      ],
      "text/plain": [
       "   ID  total_amount\n",
       "0   1     24.456348\n",
       "1   2     24.374058\n",
       "2   3     19.878154\n",
       "3   4     25.015569\n",
       "4   5     22.252489"
      ]
     },
     "execution_count": 4,
     "metadata": {},
     "output_type": "execute_result"
    }
   ],
   "source": [
    "df_sample.head()"
   ]
  },
  {
   "cell_type": "code",
   "execution_count": 5,
   "id": "dc11c57b",
   "metadata": {
    "execution": {
     "iopub.execute_input": "2023-11-28T04:07:43.084071Z",
     "iopub.status.busy": "2023-11-28T04:07:43.083694Z",
     "iopub.status.idle": "2023-11-28T04:07:43.090205Z",
     "shell.execute_reply": "2023-11-28T04:07:43.089139Z"
    },
    "papermill": {
     "duration": 0.036732,
     "end_time": "2023-11-28T04:07:43.092174",
     "exception": false,
     "start_time": "2023-11-28T04:07:43.055442",
     "status": "completed"
    },
    "tags": []
   },
   "outputs": [
    {
     "data": {
      "text/plain": [
       "(50000, 16)"
      ]
     },
     "execution_count": 5,
     "metadata": {},
     "output_type": "execute_result"
    }
   ],
   "source": [
    "df_test.shape # Shape of test dataset"
   ]
  },
  {
   "cell_type": "code",
   "execution_count": 6,
   "id": "e0555e9f",
   "metadata": {
    "execution": {
     "iopub.execute_input": "2023-11-28T04:07:43.145534Z",
     "iopub.status.busy": "2023-11-28T04:07:43.145207Z",
     "iopub.status.idle": "2023-11-28T04:07:43.162493Z",
     "shell.execute_reply": "2023-11-28T04:07:43.161622Z"
    },
    "papermill": {
     "duration": 0.0456,
     "end_time": "2023-11-28T04:07:43.164198",
     "exception": false,
     "start_time": "2023-11-28T04:07:43.118598",
     "status": "completed"
    },
    "tags": []
   },
   "outputs": [
    {
     "data": {
      "text/html": [
       "<div>\n",
       "<style scoped>\n",
       "    .dataframe tbody tr th:only-of-type {\n",
       "        vertical-align: middle;\n",
       "    }\n",
       "\n",
       "    .dataframe tbody tr th {\n",
       "        vertical-align: top;\n",
       "    }\n",
       "\n",
       "    .dataframe thead th {\n",
       "        text-align: right;\n",
       "    }\n",
       "</style>\n",
       "<table border=\"1\" class=\"dataframe\">\n",
       "  <thead>\n",
       "    <tr style=\"text-align: right;\">\n",
       "      <th></th>\n",
       "      <th>VendorID</th>\n",
       "      <th>tpep_pickup_datetime</th>\n",
       "      <th>tpep_dropoff_datetime</th>\n",
       "      <th>passenger_count</th>\n",
       "      <th>trip_distance</th>\n",
       "      <th>RatecodeID</th>\n",
       "      <th>store_and_fwd_flag</th>\n",
       "      <th>PULocationID</th>\n",
       "      <th>DOLocationID</th>\n",
       "      <th>payment_type</th>\n",
       "      <th>extra</th>\n",
       "      <th>tip_amount</th>\n",
       "      <th>tolls_amount</th>\n",
       "      <th>improvement_surcharge</th>\n",
       "      <th>congestion_surcharge</th>\n",
       "      <th>Airport_fee</th>\n",
       "    </tr>\n",
       "  </thead>\n",
       "  <tbody>\n",
       "    <tr>\n",
       "      <th>0</th>\n",
       "      <td>1</td>\n",
       "      <td>2023-06-29 00:21:20</td>\n",
       "      <td>2023-06-29 00:25:20</td>\n",
       "      <td>1.0</td>\n",
       "      <td>4.95</td>\n",
       "      <td>1.0</td>\n",
       "      <td>N</td>\n",
       "      <td>20</td>\n",
       "      <td>3</td>\n",
       "      <td>Credit Card</td>\n",
       "      <td>1.0</td>\n",
       "      <td>6.067612</td>\n",
       "      <td>0.0</td>\n",
       "      <td>1.0</td>\n",
       "      <td>2.5</td>\n",
       "      <td>0.0</td>\n",
       "    </tr>\n",
       "    <tr>\n",
       "      <th>1</th>\n",
       "      <td>1</td>\n",
       "      <td>2023-06-30 17:44:43</td>\n",
       "      <td>2023-06-30 17:53:13</td>\n",
       "      <td>1.0</td>\n",
       "      <td>2.10</td>\n",
       "      <td>1.0</td>\n",
       "      <td>N</td>\n",
       "      <td>9</td>\n",
       "      <td>81</td>\n",
       "      <td>Credit Card</td>\n",
       "      <td>2.5</td>\n",
       "      <td>6.191269</td>\n",
       "      <td>0.0</td>\n",
       "      <td>1.0</td>\n",
       "      <td>2.5</td>\n",
       "      <td>0.0</td>\n",
       "    </tr>\n",
       "    <tr>\n",
       "      <th>2</th>\n",
       "      <td>1</td>\n",
       "      <td>2023-06-29 18:17:04</td>\n",
       "      <td>2023-06-29 19:23:48</td>\n",
       "      <td>1.0</td>\n",
       "      <td>0.95</td>\n",
       "      <td>1.0</td>\n",
       "      <td>N</td>\n",
       "      <td>92</td>\n",
       "      <td>90</td>\n",
       "      <td>Cash</td>\n",
       "      <td>2.5</td>\n",
       "      <td>3.983872</td>\n",
       "      <td>0.0</td>\n",
       "      <td>1.0</td>\n",
       "      <td>2.5</td>\n",
       "      <td>0.0</td>\n",
       "    </tr>\n",
       "    <tr>\n",
       "      <th>3</th>\n",
       "      <td>0</td>\n",
       "      <td>2023-06-30 21:33:53</td>\n",
       "      <td>2023-06-30 21:46:20</td>\n",
       "      <td>1.0</td>\n",
       "      <td>0.80</td>\n",
       "      <td>1.0</td>\n",
       "      <td>N</td>\n",
       "      <td>19</td>\n",
       "      <td>102</td>\n",
       "      <td>Credit Card</td>\n",
       "      <td>3.5</td>\n",
       "      <td>6.839341</td>\n",
       "      <td>0.0</td>\n",
       "      <td>1.0</td>\n",
       "      <td>2.5</td>\n",
       "      <td>0.0</td>\n",
       "    </tr>\n",
       "    <tr>\n",
       "      <th>4</th>\n",
       "      <td>1</td>\n",
       "      <td>2023-06-29 14:53:54</td>\n",
       "      <td>2023-06-29 15:22:17</td>\n",
       "      <td>1.0</td>\n",
       "      <td>4.01</td>\n",
       "      <td>1.0</td>\n",
       "      <td>N</td>\n",
       "      <td>131</td>\n",
       "      <td>229</td>\n",
       "      <td>Cash</td>\n",
       "      <td>0.0</td>\n",
       "      <td>1.468943</td>\n",
       "      <td>0.0</td>\n",
       "      <td>1.0</td>\n",
       "      <td>0.0</td>\n",
       "      <td>0.0</td>\n",
       "    </tr>\n",
       "  </tbody>\n",
       "</table>\n",
       "</div>"
      ],
      "text/plain": [
       "   VendorID tpep_pickup_datetime tpep_dropoff_datetime  passenger_count  \\\n",
       "0         1  2023-06-29 00:21:20   2023-06-29 00:25:20              1.0   \n",
       "1         1  2023-06-30 17:44:43   2023-06-30 17:53:13              1.0   \n",
       "2         1  2023-06-29 18:17:04   2023-06-29 19:23:48              1.0   \n",
       "3         0  2023-06-30 21:33:53   2023-06-30 21:46:20              1.0   \n",
       "4         1  2023-06-29 14:53:54   2023-06-29 15:22:17              1.0   \n",
       "\n",
       "   trip_distance  RatecodeID store_and_fwd_flag  PULocationID  DOLocationID  \\\n",
       "0           4.95         1.0                  N            20             3   \n",
       "1           2.10         1.0                  N             9            81   \n",
       "2           0.95         1.0                  N            92            90   \n",
       "3           0.80         1.0                  N            19           102   \n",
       "4           4.01         1.0                  N           131           229   \n",
       "\n",
       "  payment_type  extra  tip_amount  tolls_amount  improvement_surcharge  \\\n",
       "0  Credit Card    1.0    6.067612           0.0                    1.0   \n",
       "1  Credit Card    2.5    6.191269           0.0                    1.0   \n",
       "2         Cash    2.5    3.983872           0.0                    1.0   \n",
       "3  Credit Card    3.5    6.839341           0.0                    1.0   \n",
       "4         Cash    0.0    1.468943           0.0                    1.0   \n",
       "\n",
       "   congestion_surcharge  Airport_fee  \n",
       "0                   2.5          0.0  \n",
       "1                   2.5          0.0  \n",
       "2                   2.5          0.0  \n",
       "3                   2.5          0.0  \n",
       "4                   0.0          0.0  "
      ]
     },
     "execution_count": 6,
     "metadata": {},
     "output_type": "execute_result"
    }
   ],
   "source": [
    "df_test.head()"
   ]
  },
  {
   "cell_type": "code",
   "execution_count": 7,
   "id": "2901717d",
   "metadata": {
    "execution": {
     "iopub.execute_input": "2023-11-28T04:07:43.216744Z",
     "iopub.status.busy": "2023-11-28T04:07:43.216056Z",
     "iopub.status.idle": "2023-11-28T04:07:43.220929Z",
     "shell.execute_reply": "2023-11-28T04:07:43.220113Z"
    },
    "papermill": {
     "duration": 0.032902,
     "end_time": "2023-11-28T04:07:43.222506",
     "exception": false,
     "start_time": "2023-11-28T04:07:43.189604",
     "status": "completed"
    },
    "tags": []
   },
   "outputs": [
    {
     "data": {
      "text/plain": [
       "(175000, 17)"
      ]
     },
     "execution_count": 7,
     "metadata": {},
     "output_type": "execute_result"
    }
   ],
   "source": [
    "df_train.shape # Shape of training dataset"
   ]
  },
  {
   "cell_type": "code",
   "execution_count": 8,
   "id": "734286f6",
   "metadata": {
    "execution": {
     "iopub.execute_input": "2023-11-28T04:07:43.275608Z",
     "iopub.status.busy": "2023-11-28T04:07:43.275076Z",
     "iopub.status.idle": "2023-11-28T04:07:43.293726Z",
     "shell.execute_reply": "2023-11-28T04:07:43.292820Z"
    },
    "papermill": {
     "duration": 0.047397,
     "end_time": "2023-11-28T04:07:43.295605",
     "exception": false,
     "start_time": "2023-11-28T04:07:43.248208",
     "status": "completed"
    },
    "tags": []
   },
   "outputs": [
    {
     "data": {
      "text/html": [
       "<div>\n",
       "<style scoped>\n",
       "    .dataframe tbody tr th:only-of-type {\n",
       "        vertical-align: middle;\n",
       "    }\n",
       "\n",
       "    .dataframe tbody tr th {\n",
       "        vertical-align: top;\n",
       "    }\n",
       "\n",
       "    .dataframe thead th {\n",
       "        text-align: right;\n",
       "    }\n",
       "</style>\n",
       "<table border=\"1\" class=\"dataframe\">\n",
       "  <thead>\n",
       "    <tr style=\"text-align: right;\">\n",
       "      <th></th>\n",
       "      <th>VendorID</th>\n",
       "      <th>tpep_pickup_datetime</th>\n",
       "      <th>tpep_dropoff_datetime</th>\n",
       "      <th>passenger_count</th>\n",
       "      <th>trip_distance</th>\n",
       "      <th>RatecodeID</th>\n",
       "      <th>store_and_fwd_flag</th>\n",
       "      <th>PULocationID</th>\n",
       "      <th>DOLocationID</th>\n",
       "      <th>payment_type</th>\n",
       "      <th>extra</th>\n",
       "      <th>tip_amount</th>\n",
       "      <th>tolls_amount</th>\n",
       "      <th>improvement_surcharge</th>\n",
       "      <th>total_amount</th>\n",
       "      <th>congestion_surcharge</th>\n",
       "      <th>Airport_fee</th>\n",
       "    </tr>\n",
       "  </thead>\n",
       "  <tbody>\n",
       "    <tr>\n",
       "      <th>0</th>\n",
       "      <td>1</td>\n",
       "      <td>2023-06-28 17:20:21</td>\n",
       "      <td>2023-06-28 16:34:45</td>\n",
       "      <td>1.0</td>\n",
       "      <td>2.14</td>\n",
       "      <td>1.0</td>\n",
       "      <td>N</td>\n",
       "      <td>120</td>\n",
       "      <td>9</td>\n",
       "      <td>Credit Card</td>\n",
       "      <td>2.5</td>\n",
       "      <td>7.165589</td>\n",
       "      <td>0.0</td>\n",
       "      <td>1.0</td>\n",
       "      <td>20.64</td>\n",
       "      <td>2.5</td>\n",
       "      <td>0.0</td>\n",
       "    </tr>\n",
       "    <tr>\n",
       "      <th>1</th>\n",
       "      <td>0</td>\n",
       "      <td>2023-06-29 23:05:01</td>\n",
       "      <td>2023-06-29 22:01:35</td>\n",
       "      <td>1.0</td>\n",
       "      <td>2.70</td>\n",
       "      <td>1.0</td>\n",
       "      <td>N</td>\n",
       "      <td>15</td>\n",
       "      <td>215</td>\n",
       "      <td>Credit Card</td>\n",
       "      <td>3.5</td>\n",
       "      <td>6.067401</td>\n",
       "      <td>0.0</td>\n",
       "      <td>1.0</td>\n",
       "      <td>25.55</td>\n",
       "      <td>2.5</td>\n",
       "      <td>0.0</td>\n",
       "    </tr>\n",
       "    <tr>\n",
       "      <th>2</th>\n",
       "      <td>1</td>\n",
       "      <td>2023-06-30 10:19:31</td>\n",
       "      <td>2023-06-30 11:13:10</td>\n",
       "      <td>1.0</td>\n",
       "      <td>1.15</td>\n",
       "      <td>1.0</td>\n",
       "      <td>N</td>\n",
       "      <td>167</td>\n",
       "      <td>223</td>\n",
       "      <td>Credit Card</td>\n",
       "      <td>0.0</td>\n",
       "      <td>4.111547</td>\n",
       "      <td>0.0</td>\n",
       "      <td>1.0</td>\n",
       "      <td>17.64</td>\n",
       "      <td>2.5</td>\n",
       "      <td>0.0</td>\n",
       "    </tr>\n",
       "    <tr>\n",
       "      <th>3</th>\n",
       "      <td>0</td>\n",
       "      <td>2023-06-29 13:23:09</td>\n",
       "      <td>2023-06-29 14:20:01</td>\n",
       "      <td>1.0</td>\n",
       "      <td>0.40</td>\n",
       "      <td>1.0</td>\n",
       "      <td>N</td>\n",
       "      <td>128</td>\n",
       "      <td>239</td>\n",
       "      <td>Credit Card</td>\n",
       "      <td>2.5</td>\n",
       "      <td>6.411079</td>\n",
       "      <td>0.0</td>\n",
       "      <td>1.0</td>\n",
       "      <td>12.80</td>\n",
       "      <td>2.5</td>\n",
       "      <td>0.0</td>\n",
       "    </tr>\n",
       "    <tr>\n",
       "      <th>4</th>\n",
       "      <td>1</td>\n",
       "      <td>2023-06-29 22:03:32</td>\n",
       "      <td>2023-06-29 22:22:22</td>\n",
       "      <td>3.0</td>\n",
       "      <td>1.10</td>\n",
       "      <td>1.0</td>\n",
       "      <td>N</td>\n",
       "      <td>203</td>\n",
       "      <td>52</td>\n",
       "      <td>Credit Card</td>\n",
       "      <td>1.0</td>\n",
       "      <td>4.769377</td>\n",
       "      <td>0.0</td>\n",
       "      <td>1.0</td>\n",
       "      <td>18.00</td>\n",
       "      <td>2.5</td>\n",
       "      <td>0.0</td>\n",
       "    </tr>\n",
       "  </tbody>\n",
       "</table>\n",
       "</div>"
      ],
      "text/plain": [
       "   VendorID tpep_pickup_datetime tpep_dropoff_datetime  passenger_count  \\\n",
       "0         1  2023-06-28 17:20:21   2023-06-28 16:34:45              1.0   \n",
       "1         0  2023-06-29 23:05:01   2023-06-29 22:01:35              1.0   \n",
       "2         1  2023-06-30 10:19:31   2023-06-30 11:13:10              1.0   \n",
       "3         0  2023-06-29 13:23:09   2023-06-29 14:20:01              1.0   \n",
       "4         1  2023-06-29 22:03:32   2023-06-29 22:22:22              3.0   \n",
       "\n",
       "   trip_distance  RatecodeID store_and_fwd_flag  PULocationID  DOLocationID  \\\n",
       "0           2.14         1.0                  N           120             9   \n",
       "1           2.70         1.0                  N            15           215   \n",
       "2           1.15         1.0                  N           167           223   \n",
       "3           0.40         1.0                  N           128           239   \n",
       "4           1.10         1.0                  N           203            52   \n",
       "\n",
       "  payment_type  extra  tip_amount  tolls_amount  improvement_surcharge  \\\n",
       "0  Credit Card    2.5    7.165589           0.0                    1.0   \n",
       "1  Credit Card    3.5    6.067401           0.0                    1.0   \n",
       "2  Credit Card    0.0    4.111547           0.0                    1.0   \n",
       "3  Credit Card    2.5    6.411079           0.0                    1.0   \n",
       "4  Credit Card    1.0    4.769377           0.0                    1.0   \n",
       "\n",
       "   total_amount  congestion_surcharge  Airport_fee  \n",
       "0         20.64                   2.5          0.0  \n",
       "1         25.55                   2.5          0.0  \n",
       "2         17.64                   2.5          0.0  \n",
       "3         12.80                   2.5          0.0  \n",
       "4         18.00                   2.5          0.0  "
      ]
     },
     "execution_count": 8,
     "metadata": {},
     "output_type": "execute_result"
    }
   ],
   "source": [
    "df_train.head()"
   ]
  },
  {
   "cell_type": "markdown",
   "id": "9fe861ae",
   "metadata": {
    "papermill": {
     "duration": 0.026089,
     "end_time": "2023-11-28T04:07:43.348339",
     "exception": false,
     "start_time": "2023-11-28T04:07:43.322250",
     "status": "completed"
    },
    "tags": []
   },
   "source": [
    "## Checking sum of null value"
   ]
  },
  {
   "cell_type": "code",
   "execution_count": 9,
   "id": "09cbd1da",
   "metadata": {
    "execution": {
     "iopub.execute_input": "2023-11-28T04:07:43.402651Z",
     "iopub.status.busy": "2023-11-28T04:07:43.402318Z",
     "iopub.status.idle": "2023-11-28T04:07:43.419804Z",
     "shell.execute_reply": "2023-11-28T04:07:43.418876Z"
    },
    "papermill": {
     "duration": 0.047086,
     "end_time": "2023-11-28T04:07:43.421644",
     "exception": false,
     "start_time": "2023-11-28T04:07:43.374558",
     "status": "completed"
    },
    "tags": []
   },
   "outputs": [
    {
     "data": {
      "text/plain": [
       "VendorID                    0\n",
       "tpep_pickup_datetime        0\n",
       "tpep_dropoff_datetime       0\n",
       "passenger_count          1779\n",
       "trip_distance               0\n",
       "RatecodeID               1779\n",
       "store_and_fwd_flag       1779\n",
       "PULocationID                0\n",
       "DOLocationID                0\n",
       "payment_type                0\n",
       "extra                       0\n",
       "tip_amount                  0\n",
       "tolls_amount                0\n",
       "improvement_surcharge       0\n",
       "congestion_surcharge     1779\n",
       "Airport_fee              1779\n",
       "dtype: int64"
      ]
     },
     "execution_count": 9,
     "metadata": {},
     "output_type": "execute_result"
    }
   ],
   "source": [
    "df_test.isnull().sum()"
   ]
  },
  {
   "cell_type": "code",
   "execution_count": 10,
   "id": "486075f2",
   "metadata": {
    "execution": {
     "iopub.execute_input": "2023-11-28T04:07:43.475487Z",
     "iopub.status.busy": "2023-11-28T04:07:43.474534Z",
     "iopub.status.idle": "2023-11-28T04:07:43.505595Z",
     "shell.execute_reply": "2023-11-28T04:07:43.504837Z"
    },
    "papermill": {
     "duration": 0.059921,
     "end_time": "2023-11-28T04:07:43.507809",
     "exception": false,
     "start_time": "2023-11-28T04:07:43.447888",
     "status": "completed"
    },
    "tags": []
   },
   "outputs": [
    {
     "data": {
      "text/plain": [
       "VendorID                    0\n",
       "tpep_pickup_datetime        0\n",
       "tpep_dropoff_datetime       0\n",
       "passenger_count          6077\n",
       "trip_distance               0\n",
       "RatecodeID               6077\n",
       "store_and_fwd_flag       6077\n",
       "PULocationID                0\n",
       "DOLocationID                0\n",
       "payment_type                0\n",
       "extra                       0\n",
       "tip_amount                  0\n",
       "tolls_amount                0\n",
       "improvement_surcharge       0\n",
       "total_amount                0\n",
       "congestion_surcharge     6077\n",
       "Airport_fee              6077\n",
       "dtype: int64"
      ]
     },
     "execution_count": 10,
     "metadata": {},
     "output_type": "execute_result"
    }
   ],
   "source": [
    "df_train.isnull().sum()"
   ]
  },
  {
   "cell_type": "markdown",
   "id": "8acfad70",
   "metadata": {
    "papermill": {
     "duration": 0.025423,
     "end_time": "2023-11-28T04:07:43.560046",
     "exception": false,
     "start_time": "2023-11-28T04:07:43.534623",
     "status": "completed"
    },
    "tags": []
   },
   "source": [
    "## Checking the types of data"
   ]
  },
  {
   "cell_type": "code",
   "execution_count": 11,
   "id": "16767455",
   "metadata": {
    "execution": {
     "iopub.execute_input": "2023-11-28T04:07:43.612315Z",
     "iopub.status.busy": "2023-11-28T04:07:43.611793Z",
     "iopub.status.idle": "2023-11-28T04:07:43.618176Z",
     "shell.execute_reply": "2023-11-28T04:07:43.617348Z"
    },
    "papermill": {
     "duration": 0.034954,
     "end_time": "2023-11-28T04:07:43.620293",
     "exception": false,
     "start_time": "2023-11-28T04:07:43.585339",
     "status": "completed"
    },
    "tags": []
   },
   "outputs": [
    {
     "data": {
      "text/plain": [
       "VendorID                   int64\n",
       "tpep_pickup_datetime      object\n",
       "tpep_dropoff_datetime     object\n",
       "passenger_count          float64\n",
       "trip_distance            float64\n",
       "RatecodeID               float64\n",
       "store_and_fwd_flag        object\n",
       "PULocationID               int64\n",
       "DOLocationID               int64\n",
       "payment_type              object\n",
       "extra                    float64\n",
       "tip_amount               float64\n",
       "tolls_amount             float64\n",
       "improvement_surcharge    float64\n",
       "congestion_surcharge     float64\n",
       "Airport_fee              float64\n",
       "dtype: object"
      ]
     },
     "execution_count": 11,
     "metadata": {},
     "output_type": "execute_result"
    }
   ],
   "source": [
    "df_test.dtypes"
   ]
  },
  {
   "cell_type": "code",
   "execution_count": 12,
   "id": "5347d049",
   "metadata": {
    "execution": {
     "iopub.execute_input": "2023-11-28T04:07:43.676115Z",
     "iopub.status.busy": "2023-11-28T04:07:43.675763Z",
     "iopub.status.idle": "2023-11-28T04:07:43.683294Z",
     "shell.execute_reply": "2023-11-28T04:07:43.681729Z"
    },
    "papermill": {
     "duration": 0.038434,
     "end_time": "2023-11-28T04:07:43.685751",
     "exception": false,
     "start_time": "2023-11-28T04:07:43.647317",
     "status": "completed"
    },
    "tags": []
   },
   "outputs": [
    {
     "data": {
      "text/plain": [
       "VendorID                   int64\n",
       "tpep_pickup_datetime      object\n",
       "tpep_dropoff_datetime     object\n",
       "passenger_count          float64\n",
       "trip_distance            float64\n",
       "RatecodeID               float64\n",
       "store_and_fwd_flag        object\n",
       "PULocationID               int64\n",
       "DOLocationID               int64\n",
       "payment_type              object\n",
       "extra                    float64\n",
       "tip_amount               float64\n",
       "tolls_amount             float64\n",
       "improvement_surcharge    float64\n",
       "total_amount             float64\n",
       "congestion_surcharge     float64\n",
       "Airport_fee              float64\n",
       "dtype: object"
      ]
     },
     "execution_count": 12,
     "metadata": {},
     "output_type": "execute_result"
    }
   ],
   "source": [
    "df_train.dtypes"
   ]
  },
  {
   "cell_type": "markdown",
   "id": "653b4f27",
   "metadata": {
    "papermill": {
     "duration": 0.02579,
     "end_time": "2023-11-28T04:07:43.738788",
     "exception": false,
     "start_time": "2023-11-28T04:07:43.712998",
     "status": "completed"
    },
    "tags": []
   },
   "source": [
    "## Convert Pickup and Dropoff Time to DateTime\n",
    "\n",
    "* To convert any column to datatime we use pandas\n",
    "* In pandas we use to_datatime function "
   ]
  },
  {
   "cell_type": "code",
   "execution_count": 13,
   "id": "0eeca623",
   "metadata": {
    "execution": {
     "iopub.execute_input": "2023-11-28T04:07:43.792721Z",
     "iopub.status.busy": "2023-11-28T04:07:43.792343Z",
     "iopub.status.idle": "2023-11-28T04:07:43.846172Z",
     "shell.execute_reply": "2023-11-28T04:07:43.845041Z"
    },
    "papermill": {
     "duration": 0.0838,
     "end_time": "2023-11-28T04:07:43.848632",
     "exception": false,
     "start_time": "2023-11-28T04:07:43.764832",
     "status": "completed"
    },
    "tags": []
   },
   "outputs": [],
   "source": [
    "df_train['tpep_pickup_datetime'] = pd.to_datetime(df_train['tpep_pickup_datetime'])"
   ]
  },
  {
   "cell_type": "code",
   "execution_count": 14,
   "id": "aa8fff2e",
   "metadata": {
    "execution": {
     "iopub.execute_input": "2023-11-28T04:07:43.905801Z",
     "iopub.status.busy": "2023-11-28T04:07:43.904618Z",
     "iopub.status.idle": "2023-11-28T04:07:43.953957Z",
     "shell.execute_reply": "2023-11-28T04:07:43.952988Z"
    },
    "papermill": {
     "duration": 0.080968,
     "end_time": "2023-11-28T04:07:43.956286",
     "exception": false,
     "start_time": "2023-11-28T04:07:43.875318",
     "status": "completed"
    },
    "tags": []
   },
   "outputs": [],
   "source": [
    "df_train['tpep_dropoff_datetime'] = pd.to_datetime(df_train['tpep_dropoff_datetime'])"
   ]
  },
  {
   "cell_type": "code",
   "execution_count": 15,
   "id": "13317f7e",
   "metadata": {
    "execution": {
     "iopub.execute_input": "2023-11-28T04:07:44.012633Z",
     "iopub.status.busy": "2023-11-28T04:07:44.011235Z",
     "iopub.status.idle": "2023-11-28T04:07:44.031337Z",
     "shell.execute_reply": "2023-11-28T04:07:44.030274Z"
    },
    "papermill": {
     "duration": 0.050628,
     "end_time": "2023-11-28T04:07:44.033155",
     "exception": false,
     "start_time": "2023-11-28T04:07:43.982527",
     "status": "completed"
    },
    "tags": []
   },
   "outputs": [],
   "source": [
    "df_test['tpep_pickup_datetime'] = pd.to_datetime(df_test['tpep_pickup_datetime'])"
   ]
  },
  {
   "cell_type": "code",
   "execution_count": 16,
   "id": "8d815f0d",
   "metadata": {
    "execution": {
     "iopub.execute_input": "2023-11-28T04:07:44.087746Z",
     "iopub.status.busy": "2023-11-28T04:07:44.086832Z",
     "iopub.status.idle": "2023-11-28T04:07:44.106382Z",
     "shell.execute_reply": "2023-11-28T04:07:44.104897Z"
    },
    "papermill": {
     "duration": 0.048815,
     "end_time": "2023-11-28T04:07:44.108460",
     "exception": false,
     "start_time": "2023-11-28T04:07:44.059645",
     "status": "completed"
    },
    "tags": []
   },
   "outputs": [],
   "source": [
    "df_test['tpep_dropoff_datetime'] = pd.to_datetime(df_test['tpep_dropoff_datetime'])"
   ]
  },
  {
   "cell_type": "code",
   "execution_count": 17,
   "id": "da624ee6",
   "metadata": {
    "execution": {
     "iopub.execute_input": "2023-11-28T04:07:44.162154Z",
     "iopub.status.busy": "2023-11-28T04:07:44.161795Z",
     "iopub.status.idle": "2023-11-28T04:07:44.169511Z",
     "shell.execute_reply": "2023-11-28T04:07:44.168633Z"
    },
    "papermill": {
     "duration": 0.036877,
     "end_time": "2023-11-28T04:07:44.171709",
     "exception": false,
     "start_time": "2023-11-28T04:07:44.134832",
     "status": "completed"
    },
    "tags": []
   },
   "outputs": [
    {
     "data": {
      "text/plain": [
       "<bound method NDFrame.describe of 0        2023-06-28 17:20:21\n",
       "1        2023-06-29 23:05:01\n",
       "2        2023-06-30 10:19:31\n",
       "3        2023-06-29 13:23:09\n",
       "4        2023-06-29 22:03:32\n",
       "                 ...        \n",
       "174995   2023-06-30 22:50:57\n",
       "174996   2023-06-30 13:03:33\n",
       "174997   2023-06-29 11:03:32\n",
       "174998   2023-06-29 19:47:17\n",
       "174999   2023-06-30 21:26:43\n",
       "Name: tpep_pickup_datetime, Length: 175000, dtype: datetime64[ns]>"
      ]
     },
     "execution_count": 17,
     "metadata": {},
     "output_type": "execute_result"
    }
   ],
   "source": [
    "df_train[\"tpep_pickup_datetime\"].describe"
   ]
  },
  {
   "cell_type": "code",
   "execution_count": 18,
   "id": "d4aad895",
   "metadata": {
    "execution": {
     "iopub.execute_input": "2023-11-28T04:07:44.228598Z",
     "iopub.status.busy": "2023-11-28T04:07:44.227520Z",
     "iopub.status.idle": "2023-11-28T04:07:44.235867Z",
     "shell.execute_reply": "2023-11-28T04:07:44.234819Z"
    },
    "papermill": {
     "duration": 0.038716,
     "end_time": "2023-11-28T04:07:44.237849",
     "exception": false,
     "start_time": "2023-11-28T04:07:44.199133",
     "status": "completed"
    },
    "tags": []
   },
   "outputs": [
    {
     "data": {
      "text/plain": [
       "<bound method NDFrame.describe of 0       2023-06-29 00:21:20\n",
       "1       2023-06-30 17:44:43\n",
       "2       2023-06-29 18:17:04\n",
       "3       2023-06-30 21:33:53\n",
       "4       2023-06-29 14:53:54\n",
       "                ...        \n",
       "49995   2023-06-29 17:41:59\n",
       "49996   2023-06-30 01:25:25\n",
       "49997   2023-06-30 22:28:44\n",
       "49998   2023-06-30 02:37:18\n",
       "49999   2023-06-30 18:05:15\n",
       "Name: tpep_pickup_datetime, Length: 50000, dtype: datetime64[ns]>"
      ]
     },
     "execution_count": 18,
     "metadata": {},
     "output_type": "execute_result"
    }
   ],
   "source": [
    "df_test[\"tpep_pickup_datetime\"].describe"
   ]
  },
  {
   "cell_type": "markdown",
   "id": "841a100e",
   "metadata": {
    "papermill": {
     "duration": 0.027124,
     "end_time": "2023-11-28T04:07:44.292295",
     "exception": false,
     "start_time": "2023-11-28T04:07:44.265171",
     "status": "completed"
    },
    "tags": []
   },
   "source": [
    "## Time difference"
   ]
  },
  {
   "cell_type": "code",
   "execution_count": 19,
   "id": "27ab043f",
   "metadata": {
    "execution": {
     "iopub.execute_input": "2023-11-28T04:07:44.348037Z",
     "iopub.status.busy": "2023-11-28T04:07:44.347708Z",
     "iopub.status.idle": "2023-11-28T04:07:44.359747Z",
     "shell.execute_reply": "2023-11-28T04:07:44.358416Z"
    },
    "papermill": {
     "duration": 0.042487,
     "end_time": "2023-11-28T04:07:44.361941",
     "exception": false,
     "start_time": "2023-11-28T04:07:44.319454",
     "status": "completed"
    },
    "tags": []
   },
   "outputs": [
    {
     "data": {
      "text/plain": [
       "0        -1 days +23:14:24\n",
       "1        -1 days +22:56:34\n",
       "2          0 days 00:53:39\n",
       "3          0 days 00:56:52\n",
       "4          0 days 00:18:50\n",
       "                ...       \n",
       "174995   -1 days +23:31:25\n",
       "174996     0 days 01:01:24\n",
       "174997     0 days 01:10:02\n",
       "174998   -1 days +23:21:38\n",
       "174999     0 days 01:27:59\n",
       "Name: time_difference, Length: 175000, dtype: timedelta64[ns]"
      ]
     },
     "execution_count": 19,
     "metadata": {},
     "output_type": "execute_result"
    }
   ],
   "source": [
    "df_train['time_difference'] = df_train['tpep_dropoff_datetime'] - df_train['tpep_pickup_datetime']\n",
    "df_train['time_difference']"
   ]
  },
  {
   "cell_type": "code",
   "execution_count": 20,
   "id": "b0bee965",
   "metadata": {
    "execution": {
     "iopub.execute_input": "2023-11-28T04:07:44.425730Z",
     "iopub.status.busy": "2023-11-28T04:07:44.424389Z",
     "iopub.status.idle": "2023-11-28T04:07:44.438208Z",
     "shell.execute_reply": "2023-11-28T04:07:44.436918Z"
    },
    "papermill": {
     "duration": 0.049895,
     "end_time": "2023-11-28T04:07:44.440740",
     "exception": false,
     "start_time": "2023-11-28T04:07:44.390845",
     "status": "completed"
    },
    "tags": []
   },
   "outputs": [
    {
     "data": {
      "text/plain": [
       "0         0 days 00:04:00\n",
       "1         0 days 00:08:30\n",
       "2         0 days 01:06:44\n",
       "3         0 days 00:12:27\n",
       "4         0 days 00:28:23\n",
       "               ...       \n",
       "49995     0 days 00:48:37\n",
       "49996   -1 days +23:45:15\n",
       "49997   -1 days +23:20:53\n",
       "49998   -1 days +23:33:15\n",
       "49999   -1 days +23:10:01\n",
       "Name: time_difference, Length: 50000, dtype: timedelta64[ns]"
      ]
     },
     "execution_count": 20,
     "metadata": {},
     "output_type": "execute_result"
    }
   ],
   "source": [
    "df_test['time_difference'] = df_test['tpep_dropoff_datetime'] - df_test['tpep_pickup_datetime']\n",
    "df_test['time_difference']"
   ]
  },
  {
   "cell_type": "markdown",
   "id": "1993b810",
   "metadata": {
    "papermill": {
     "duration": 0.028909,
     "end_time": "2023-11-28T04:07:44.498272",
     "exception": false,
     "start_time": "2023-11-28T04:07:44.469363",
     "status": "completed"
    },
    "tags": []
   },
   "source": [
    "## Convert datetime column in string"
   ]
  },
  {
   "cell_type": "code",
   "execution_count": 21,
   "id": "5e795493",
   "metadata": {
    "execution": {
     "iopub.execute_input": "2023-11-28T04:07:44.569173Z",
     "iopub.status.busy": "2023-11-28T04:07:44.568772Z",
     "iopub.status.idle": "2023-11-28T04:07:46.106292Z",
     "shell.execute_reply": "2023-11-28T04:07:46.105473Z"
    },
    "papermill": {
     "duration": 1.57472,
     "end_time": "2023-11-28T04:07:46.107944",
     "exception": false,
     "start_time": "2023-11-28T04:07:44.533224",
     "status": "completed"
    },
    "tags": []
   },
   "outputs": [
    {
     "data": {
      "text/plain": [
       "0         -1 days +23:14:24\n",
       "1         -1 days +22:56:34\n",
       "2           0 days 00:53:39\n",
       "3           0 days 00:56:52\n",
       "4           0 days 00:18:50\n",
       "                ...        \n",
       "174995    -1 days +23:31:25\n",
       "174996      0 days 01:01:24\n",
       "174997      0 days 01:10:02\n",
       "174998    -1 days +23:21:38\n",
       "174999      0 days 01:27:59\n",
       "Name: time_difference, Length: 175000, dtype: object"
      ]
     },
     "execution_count": 21,
     "metadata": {},
     "output_type": "execute_result"
    }
   ],
   "source": [
    "df_train['time_difference'] = df_train['time_difference'].astype(str)\n",
    "df_train['time_difference']"
   ]
  },
  {
   "cell_type": "code",
   "execution_count": 22,
   "id": "45910f25",
   "metadata": {
    "execution": {
     "iopub.execute_input": "2023-11-28T04:07:46.164328Z",
     "iopub.status.busy": "2023-11-28T04:07:46.163736Z",
     "iopub.status.idle": "2023-11-28T04:07:46.588042Z",
     "shell.execute_reply": "2023-11-28T04:07:46.587141Z"
    },
    "papermill": {
     "duration": 0.455146,
     "end_time": "2023-11-28T04:07:46.589868",
     "exception": false,
     "start_time": "2023-11-28T04:07:46.134722",
     "status": "completed"
    },
    "tags": []
   },
   "outputs": [
    {
     "data": {
      "text/plain": [
       "0          0 days 00:04:00\n",
       "1          0 days 00:08:30\n",
       "2          0 days 01:06:44\n",
       "3          0 days 00:12:27\n",
       "4          0 days 00:28:23\n",
       "               ...        \n",
       "49995      0 days 00:48:37\n",
       "49996    -1 days +23:45:15\n",
       "49997    -1 days +23:20:53\n",
       "49998    -1 days +23:33:15\n",
       "49999    -1 days +23:10:01\n",
       "Name: time_difference, Length: 50000, dtype: object"
      ]
     },
     "execution_count": 22,
     "metadata": {},
     "output_type": "execute_result"
    }
   ],
   "source": [
    "df_test['time_difference'] = df_test['time_difference'].astype(str)\n",
    "df_test['time_difference']"
   ]
  },
  {
   "cell_type": "markdown",
   "id": "749762b2",
   "metadata": {
    "papermill": {
     "duration": 0.028062,
     "end_time": "2023-11-28T04:07:46.645681",
     "exception": false,
     "start_time": "2023-11-28T04:07:46.617619",
     "status": "completed"
    },
    "tags": []
   },
   "source": [
    "## Travel time column in minutes"
   ]
  },
  {
   "cell_type": "code",
   "execution_count": 23,
   "id": "d252d3f9",
   "metadata": {
    "execution": {
     "iopub.execute_input": "2023-11-28T04:07:46.703482Z",
     "iopub.status.busy": "2023-11-28T04:07:46.702919Z",
     "iopub.status.idle": "2023-11-28T04:07:48.329281Z",
     "shell.execute_reply": "2023-11-28T04:07:48.327924Z"
    },
    "papermill": {
     "duration": 1.657722,
     "end_time": "2023-11-28T04:07:48.331343",
     "exception": false,
     "start_time": "2023-11-28T04:07:46.673621",
     "status": "completed"
    },
    "tags": []
   },
   "outputs": [],
   "source": [
    "from datetime import datetime, timedelta\n",
    "\n",
    "# Function to parse the datetime difference strings into timedelta objects\n",
    "def parse_timedelta(s):\n",
    "    parts = s.split(' ')\n",
    "    days = int(parts[0])\n",
    "    time = parts[2]\n",
    "    time_parts = time.split(':')\n",
    "    hours = int(time_parts[0])\n",
    "    minutes = int(time_parts[1])\n",
    "    seconds = int(time_parts[2])\n",
    "    if days < 0:\n",
    "        return timedelta(days=days, hours=hours, minutes=minutes, seconds=seconds)\n",
    "    else:\n",
    "        return timedelta(hours=hours, minutes=minutes, seconds=seconds)\n",
    "\n",
    "# Apply the parse_timedelta function to the DataFrame train column\n",
    "df_train['time_difference'] = df_train['time_difference'].apply(parse_timedelta)\n",
    "\n",
    "# Convert timedelta objects to total minutes (positive values)\n",
    "df_train['total_time_taken_in_minutes'] = df_train['time_difference'].apply(lambda x: x.total_seconds()/60 if x >= timedelta(0) else -x.total_seconds()/60)\n",
    "\n",
    "# Apply the parse_timedelta function to the DataFrame test column\n",
    "df_test['time_difference'] = df_test['time_difference'].apply(parse_timedelta)\n",
    "\n",
    "# Convert timedelta objects to total minutes (positive values)\n",
    "df_test['total_time_taken_in_minutes'] = df_test['time_difference'].apply(lambda x: x.total_seconds()/60 if x >= timedelta(0) else -x.total_seconds()/60)"
   ]
  },
  {
   "cell_type": "code",
   "execution_count": 24,
   "id": "c22266d4",
   "metadata": {
    "execution": {
     "iopub.execute_input": "2023-11-28T04:07:48.387050Z",
     "iopub.status.busy": "2023-11-28T04:07:48.386711Z",
     "iopub.status.idle": "2023-11-28T04:07:48.394366Z",
     "shell.execute_reply": "2023-11-28T04:07:48.393408Z"
    },
    "papermill": {
     "duration": 0.037751,
     "end_time": "2023-11-28T04:07:48.396164",
     "exception": false,
     "start_time": "2023-11-28T04:07:48.358413",
     "status": "completed"
    },
    "tags": []
   },
   "outputs": [
    {
     "data": {
      "text/plain": [
       "0         45.600000\n",
       "1         63.433333\n",
       "2         53.650000\n",
       "3         56.866667\n",
       "4         18.833333\n",
       "            ...    \n",
       "174995    28.583333\n",
       "174996    61.400000\n",
       "174997    70.033333\n",
       "174998    38.366667\n",
       "174999    87.983333\n",
       "Name: total_time_taken_in_minutes, Length: 175000, dtype: float64"
      ]
     },
     "execution_count": 24,
     "metadata": {},
     "output_type": "execute_result"
    }
   ],
   "source": [
    "df_train['total_time_taken_in_minutes'] "
   ]
  },
  {
   "cell_type": "code",
   "execution_count": 25,
   "id": "ece595a7",
   "metadata": {
    "execution": {
     "iopub.execute_input": "2023-11-28T04:07:48.455239Z",
     "iopub.status.busy": "2023-11-28T04:07:48.454706Z",
     "iopub.status.idle": "2023-11-28T04:07:48.462556Z",
     "shell.execute_reply": "2023-11-28T04:07:48.461939Z"
    },
    "papermill": {
     "duration": 0.039128,
     "end_time": "2023-11-28T04:07:48.464062",
     "exception": false,
     "start_time": "2023-11-28T04:07:48.424934",
     "status": "completed"
    },
    "tags": []
   },
   "outputs": [
    {
     "data": {
      "text/plain": [
       "0         4.000000\n",
       "1         8.500000\n",
       "2        66.733333\n",
       "3        12.450000\n",
       "4        28.383333\n",
       "           ...    \n",
       "49995    48.616667\n",
       "49996    14.750000\n",
       "49997    39.116667\n",
       "49998    26.750000\n",
       "49999    49.983333\n",
       "Name: total_time_taken_in_minutes, Length: 50000, dtype: float64"
      ]
     },
     "execution_count": 25,
     "metadata": {},
     "output_type": "execute_result"
    }
   ],
   "source": [
    "df_test['total_time_taken_in_minutes'] "
   ]
  },
  {
   "cell_type": "code",
   "execution_count": 26,
   "id": "920a4d4c",
   "metadata": {
    "execution": {
     "iopub.execute_input": "2023-11-28T04:07:48.522486Z",
     "iopub.status.busy": "2023-11-28T04:07:48.521991Z",
     "iopub.status.idle": "2023-11-28T04:07:48.551262Z",
     "shell.execute_reply": "2023-11-28T04:07:48.550622Z"
    },
    "papermill": {
     "duration": 0.061083,
     "end_time": "2023-11-28T04:07:48.552894",
     "exception": false,
     "start_time": "2023-11-28T04:07:48.491811",
     "status": "completed"
    },
    "tags": []
   },
   "outputs": [
    {
     "data": {
      "text/html": [
       "<div>\n",
       "<style scoped>\n",
       "    .dataframe tbody tr th:only-of-type {\n",
       "        vertical-align: middle;\n",
       "    }\n",
       "\n",
       "    .dataframe tbody tr th {\n",
       "        vertical-align: top;\n",
       "    }\n",
       "\n",
       "    .dataframe thead th {\n",
       "        text-align: right;\n",
       "    }\n",
       "</style>\n",
       "<table border=\"1\" class=\"dataframe\">\n",
       "  <thead>\n",
       "    <tr style=\"text-align: right;\">\n",
       "      <th></th>\n",
       "      <th>VendorID</th>\n",
       "      <th>tpep_pickup_datetime</th>\n",
       "      <th>tpep_dropoff_datetime</th>\n",
       "      <th>passenger_count</th>\n",
       "      <th>trip_distance</th>\n",
       "      <th>RatecodeID</th>\n",
       "      <th>store_and_fwd_flag</th>\n",
       "      <th>PULocationID</th>\n",
       "      <th>DOLocationID</th>\n",
       "      <th>payment_type</th>\n",
       "      <th>extra</th>\n",
       "      <th>tip_amount</th>\n",
       "      <th>tolls_amount</th>\n",
       "      <th>improvement_surcharge</th>\n",
       "      <th>total_amount</th>\n",
       "      <th>congestion_surcharge</th>\n",
       "      <th>Airport_fee</th>\n",
       "      <th>time_difference</th>\n",
       "      <th>total_time_taken_in_minutes</th>\n",
       "    </tr>\n",
       "  </thead>\n",
       "  <tbody>\n",
       "    <tr>\n",
       "      <th>0</th>\n",
       "      <td>1</td>\n",
       "      <td>2023-06-28 17:20:21</td>\n",
       "      <td>2023-06-28 16:34:45</td>\n",
       "      <td>1.0</td>\n",
       "      <td>2.14</td>\n",
       "      <td>1.0</td>\n",
       "      <td>N</td>\n",
       "      <td>120</td>\n",
       "      <td>9</td>\n",
       "      <td>Credit Card</td>\n",
       "      <td>2.5</td>\n",
       "      <td>7.165589</td>\n",
       "      <td>0.0</td>\n",
       "      <td>1.0</td>\n",
       "      <td>20.64</td>\n",
       "      <td>2.5</td>\n",
       "      <td>0.00</td>\n",
       "      <td>-1 days +23:14:24</td>\n",
       "      <td>45.600000</td>\n",
       "    </tr>\n",
       "    <tr>\n",
       "      <th>1</th>\n",
       "      <td>0</td>\n",
       "      <td>2023-06-29 23:05:01</td>\n",
       "      <td>2023-06-29 22:01:35</td>\n",
       "      <td>1.0</td>\n",
       "      <td>2.70</td>\n",
       "      <td>1.0</td>\n",
       "      <td>N</td>\n",
       "      <td>15</td>\n",
       "      <td>215</td>\n",
       "      <td>Credit Card</td>\n",
       "      <td>3.5</td>\n",
       "      <td>6.067401</td>\n",
       "      <td>0.0</td>\n",
       "      <td>1.0</td>\n",
       "      <td>25.55</td>\n",
       "      <td>2.5</td>\n",
       "      <td>0.00</td>\n",
       "      <td>-1 days +22:56:34</td>\n",
       "      <td>63.433333</td>\n",
       "    </tr>\n",
       "    <tr>\n",
       "      <th>2</th>\n",
       "      <td>1</td>\n",
       "      <td>2023-06-30 10:19:31</td>\n",
       "      <td>2023-06-30 11:13:10</td>\n",
       "      <td>1.0</td>\n",
       "      <td>1.15</td>\n",
       "      <td>1.0</td>\n",
       "      <td>N</td>\n",
       "      <td>167</td>\n",
       "      <td>223</td>\n",
       "      <td>Credit Card</td>\n",
       "      <td>0.0</td>\n",
       "      <td>4.111547</td>\n",
       "      <td>0.0</td>\n",
       "      <td>1.0</td>\n",
       "      <td>17.64</td>\n",
       "      <td>2.5</td>\n",
       "      <td>0.00</td>\n",
       "      <td>0 days 00:53:39</td>\n",
       "      <td>53.650000</td>\n",
       "    </tr>\n",
       "    <tr>\n",
       "      <th>3</th>\n",
       "      <td>0</td>\n",
       "      <td>2023-06-29 13:23:09</td>\n",
       "      <td>2023-06-29 14:20:01</td>\n",
       "      <td>1.0</td>\n",
       "      <td>0.40</td>\n",
       "      <td>1.0</td>\n",
       "      <td>N</td>\n",
       "      <td>128</td>\n",
       "      <td>239</td>\n",
       "      <td>Credit Card</td>\n",
       "      <td>2.5</td>\n",
       "      <td>6.411079</td>\n",
       "      <td>0.0</td>\n",
       "      <td>1.0</td>\n",
       "      <td>12.80</td>\n",
       "      <td>2.5</td>\n",
       "      <td>0.00</td>\n",
       "      <td>0 days 00:56:52</td>\n",
       "      <td>56.866667</td>\n",
       "    </tr>\n",
       "    <tr>\n",
       "      <th>4</th>\n",
       "      <td>1</td>\n",
       "      <td>2023-06-29 22:03:32</td>\n",
       "      <td>2023-06-29 22:22:22</td>\n",
       "      <td>3.0</td>\n",
       "      <td>1.10</td>\n",
       "      <td>1.0</td>\n",
       "      <td>N</td>\n",
       "      <td>203</td>\n",
       "      <td>52</td>\n",
       "      <td>Credit Card</td>\n",
       "      <td>1.0</td>\n",
       "      <td>4.769377</td>\n",
       "      <td>0.0</td>\n",
       "      <td>1.0</td>\n",
       "      <td>18.00</td>\n",
       "      <td>2.5</td>\n",
       "      <td>0.00</td>\n",
       "      <td>0 days 00:18:50</td>\n",
       "      <td>18.833333</td>\n",
       "    </tr>\n",
       "    <tr>\n",
       "      <th>...</th>\n",
       "      <td>...</td>\n",
       "      <td>...</td>\n",
       "      <td>...</td>\n",
       "      <td>...</td>\n",
       "      <td>...</td>\n",
       "      <td>...</td>\n",
       "      <td>...</td>\n",
       "      <td>...</td>\n",
       "      <td>...</td>\n",
       "      <td>...</td>\n",
       "      <td>...</td>\n",
       "      <td>...</td>\n",
       "      <td>...</td>\n",
       "      <td>...</td>\n",
       "      <td>...</td>\n",
       "      <td>...</td>\n",
       "      <td>...</td>\n",
       "      <td>...</td>\n",
       "      <td>...</td>\n",
       "    </tr>\n",
       "    <tr>\n",
       "      <th>174995</th>\n",
       "      <td>1</td>\n",
       "      <td>2023-06-30 22:50:57</td>\n",
       "      <td>2023-06-30 22:22:22</td>\n",
       "      <td>3.0</td>\n",
       "      <td>3.45</td>\n",
       "      <td>1.0</td>\n",
       "      <td>N</td>\n",
       "      <td>147</td>\n",
       "      <td>167</td>\n",
       "      <td>Credit Card</td>\n",
       "      <td>1.0</td>\n",
       "      <td>8.732495</td>\n",
       "      <td>0.0</td>\n",
       "      <td>1.0</td>\n",
       "      <td>28.08</td>\n",
       "      <td>2.5</td>\n",
       "      <td>0.00</td>\n",
       "      <td>-1 days +23:31:25</td>\n",
       "      <td>28.583333</td>\n",
       "    </tr>\n",
       "    <tr>\n",
       "      <th>174996</th>\n",
       "      <td>1</td>\n",
       "      <td>2023-06-30 13:03:33</td>\n",
       "      <td>2023-06-30 14:04:57</td>\n",
       "      <td>1.0</td>\n",
       "      <td>9.44</td>\n",
       "      <td>1.0</td>\n",
       "      <td>N</td>\n",
       "      <td>154</td>\n",
       "      <td>191</td>\n",
       "      <td>Cash</td>\n",
       "      <td>5.0</td>\n",
       "      <td>0.283275</td>\n",
       "      <td>0.0</td>\n",
       "      <td>1.0</td>\n",
       "      <td>59.95</td>\n",
       "      <td>2.5</td>\n",
       "      <td>1.75</td>\n",
       "      <td>0 days 01:01:24</td>\n",
       "      <td>61.400000</td>\n",
       "    </tr>\n",
       "    <tr>\n",
       "      <th>174997</th>\n",
       "      <td>0</td>\n",
       "      <td>2023-06-29 11:03:32</td>\n",
       "      <td>2023-06-29 12:13:34</td>\n",
       "      <td>1.0</td>\n",
       "      <td>2.40</td>\n",
       "      <td>1.0</td>\n",
       "      <td>N</td>\n",
       "      <td>168</td>\n",
       "      <td>106</td>\n",
       "      <td>Credit Card</td>\n",
       "      <td>2.5</td>\n",
       "      <td>4.245354</td>\n",
       "      <td>0.0</td>\n",
       "      <td>1.0</td>\n",
       "      <td>33.50</td>\n",
       "      <td>2.5</td>\n",
       "      <td>0.00</td>\n",
       "      <td>0 days 01:10:02</td>\n",
       "      <td>70.033333</td>\n",
       "    </tr>\n",
       "    <tr>\n",
       "      <th>174998</th>\n",
       "      <td>1</td>\n",
       "      <td>2023-06-29 19:47:17</td>\n",
       "      <td>2023-06-29 19:08:55</td>\n",
       "      <td>1.0</td>\n",
       "      <td>4.71</td>\n",
       "      <td>1.0</td>\n",
       "      <td>N</td>\n",
       "      <td>240</td>\n",
       "      <td>100</td>\n",
       "      <td>Credit Card</td>\n",
       "      <td>2.5</td>\n",
       "      <td>10.479776</td>\n",
       "      <td>0.0</td>\n",
       "      <td>1.0</td>\n",
       "      <td>40.80</td>\n",
       "      <td>2.5</td>\n",
       "      <td>0.00</td>\n",
       "      <td>-1 days +23:21:38</td>\n",
       "      <td>38.366667</td>\n",
       "    </tr>\n",
       "    <tr>\n",
       "      <th>174999</th>\n",
       "      <td>1</td>\n",
       "      <td>2023-06-30 21:26:43</td>\n",
       "      <td>2023-06-30 22:54:42</td>\n",
       "      <td>1.0</td>\n",
       "      <td>1.01</td>\n",
       "      <td>1.0</td>\n",
       "      <td>N</td>\n",
       "      <td>153</td>\n",
       "      <td>72</td>\n",
       "      <td>Credit Card</td>\n",
       "      <td>1.0</td>\n",
       "      <td>6.541699</td>\n",
       "      <td>0.0</td>\n",
       "      <td>1.0</td>\n",
       "      <td>16.32</td>\n",
       "      <td>2.5</td>\n",
       "      <td>0.00</td>\n",
       "      <td>0 days 01:27:59</td>\n",
       "      <td>87.983333</td>\n",
       "    </tr>\n",
       "  </tbody>\n",
       "</table>\n",
       "<p>175000 rows × 19 columns</p>\n",
       "</div>"
      ],
      "text/plain": [
       "        VendorID tpep_pickup_datetime tpep_dropoff_datetime  passenger_count  \\\n",
       "0              1  2023-06-28 17:20:21   2023-06-28 16:34:45              1.0   \n",
       "1              0  2023-06-29 23:05:01   2023-06-29 22:01:35              1.0   \n",
       "2              1  2023-06-30 10:19:31   2023-06-30 11:13:10              1.0   \n",
       "3              0  2023-06-29 13:23:09   2023-06-29 14:20:01              1.0   \n",
       "4              1  2023-06-29 22:03:32   2023-06-29 22:22:22              3.0   \n",
       "...          ...                  ...                   ...              ...   \n",
       "174995         1  2023-06-30 22:50:57   2023-06-30 22:22:22              3.0   \n",
       "174996         1  2023-06-30 13:03:33   2023-06-30 14:04:57              1.0   \n",
       "174997         0  2023-06-29 11:03:32   2023-06-29 12:13:34              1.0   \n",
       "174998         1  2023-06-29 19:47:17   2023-06-29 19:08:55              1.0   \n",
       "174999         1  2023-06-30 21:26:43   2023-06-30 22:54:42              1.0   \n",
       "\n",
       "        trip_distance  RatecodeID store_and_fwd_flag  PULocationID  \\\n",
       "0                2.14         1.0                  N           120   \n",
       "1                2.70         1.0                  N            15   \n",
       "2                1.15         1.0                  N           167   \n",
       "3                0.40         1.0                  N           128   \n",
       "4                1.10         1.0                  N           203   \n",
       "...               ...         ...                ...           ...   \n",
       "174995           3.45         1.0                  N           147   \n",
       "174996           9.44         1.0                  N           154   \n",
       "174997           2.40         1.0                  N           168   \n",
       "174998           4.71         1.0                  N           240   \n",
       "174999           1.01         1.0                  N           153   \n",
       "\n",
       "        DOLocationID payment_type  extra  tip_amount  tolls_amount  \\\n",
       "0                  9  Credit Card    2.5    7.165589           0.0   \n",
       "1                215  Credit Card    3.5    6.067401           0.0   \n",
       "2                223  Credit Card    0.0    4.111547           0.0   \n",
       "3                239  Credit Card    2.5    6.411079           0.0   \n",
       "4                 52  Credit Card    1.0    4.769377           0.0   \n",
       "...              ...          ...    ...         ...           ...   \n",
       "174995           167  Credit Card    1.0    8.732495           0.0   \n",
       "174996           191         Cash    5.0    0.283275           0.0   \n",
       "174997           106  Credit Card    2.5    4.245354           0.0   \n",
       "174998           100  Credit Card    2.5   10.479776           0.0   \n",
       "174999            72  Credit Card    1.0    6.541699           0.0   \n",
       "\n",
       "        improvement_surcharge  total_amount  congestion_surcharge  \\\n",
       "0                         1.0         20.64                   2.5   \n",
       "1                         1.0         25.55                   2.5   \n",
       "2                         1.0         17.64                   2.5   \n",
       "3                         1.0         12.80                   2.5   \n",
       "4                         1.0         18.00                   2.5   \n",
       "...                       ...           ...                   ...   \n",
       "174995                    1.0         28.08                   2.5   \n",
       "174996                    1.0         59.95                   2.5   \n",
       "174997                    1.0         33.50                   2.5   \n",
       "174998                    1.0         40.80                   2.5   \n",
       "174999                    1.0         16.32                   2.5   \n",
       "\n",
       "        Airport_fee   time_difference  total_time_taken_in_minutes  \n",
       "0              0.00 -1 days +23:14:24                    45.600000  \n",
       "1              0.00 -1 days +22:56:34                    63.433333  \n",
       "2              0.00   0 days 00:53:39                    53.650000  \n",
       "3              0.00   0 days 00:56:52                    56.866667  \n",
       "4              0.00   0 days 00:18:50                    18.833333  \n",
       "...             ...               ...                          ...  \n",
       "174995         0.00 -1 days +23:31:25                    28.583333  \n",
       "174996         1.75   0 days 01:01:24                    61.400000  \n",
       "174997         0.00   0 days 01:10:02                    70.033333  \n",
       "174998         0.00 -1 days +23:21:38                    38.366667  \n",
       "174999         0.00   0 days 01:27:59                    87.983333  \n",
       "\n",
       "[175000 rows x 19 columns]"
      ]
     },
     "execution_count": 26,
     "metadata": {},
     "output_type": "execute_result"
    }
   ],
   "source": [
    "df_train"
   ]
  },
  {
   "cell_type": "code",
   "execution_count": 27,
   "id": "6c712cb1",
   "metadata": {
    "execution": {
     "iopub.execute_input": "2023-11-28T04:07:48.610782Z",
     "iopub.status.busy": "2023-11-28T04:07:48.610282Z",
     "iopub.status.idle": "2023-11-28T04:07:48.635796Z",
     "shell.execute_reply": "2023-11-28T04:07:48.634345Z"
    },
    "papermill": {
     "duration": 0.056952,
     "end_time": "2023-11-28T04:07:48.637960",
     "exception": false,
     "start_time": "2023-11-28T04:07:48.581008",
     "status": "completed"
    },
    "tags": []
   },
   "outputs": [
    {
     "data": {
      "text/html": [
       "<div>\n",
       "<style scoped>\n",
       "    .dataframe tbody tr th:only-of-type {\n",
       "        vertical-align: middle;\n",
       "    }\n",
       "\n",
       "    .dataframe tbody tr th {\n",
       "        vertical-align: top;\n",
       "    }\n",
       "\n",
       "    .dataframe thead th {\n",
       "        text-align: right;\n",
       "    }\n",
       "</style>\n",
       "<table border=\"1\" class=\"dataframe\">\n",
       "  <thead>\n",
       "    <tr style=\"text-align: right;\">\n",
       "      <th></th>\n",
       "      <th>VendorID</th>\n",
       "      <th>tpep_pickup_datetime</th>\n",
       "      <th>tpep_dropoff_datetime</th>\n",
       "      <th>passenger_count</th>\n",
       "      <th>trip_distance</th>\n",
       "      <th>RatecodeID</th>\n",
       "      <th>store_and_fwd_flag</th>\n",
       "      <th>PULocationID</th>\n",
       "      <th>DOLocationID</th>\n",
       "      <th>payment_type</th>\n",
       "      <th>extra</th>\n",
       "      <th>tip_amount</th>\n",
       "      <th>tolls_amount</th>\n",
       "      <th>improvement_surcharge</th>\n",
       "      <th>congestion_surcharge</th>\n",
       "      <th>Airport_fee</th>\n",
       "      <th>time_difference</th>\n",
       "      <th>total_time_taken_in_minutes</th>\n",
       "    </tr>\n",
       "  </thead>\n",
       "  <tbody>\n",
       "    <tr>\n",
       "      <th>0</th>\n",
       "      <td>1</td>\n",
       "      <td>2023-06-29 00:21:20</td>\n",
       "      <td>2023-06-29 00:25:20</td>\n",
       "      <td>1.0</td>\n",
       "      <td>4.95</td>\n",
       "      <td>1.0</td>\n",
       "      <td>N</td>\n",
       "      <td>20</td>\n",
       "      <td>3</td>\n",
       "      <td>Credit Card</td>\n",
       "      <td>1.0</td>\n",
       "      <td>6.067612</td>\n",
       "      <td>0.0</td>\n",
       "      <td>1.0</td>\n",
       "      <td>2.5</td>\n",
       "      <td>0.00</td>\n",
       "      <td>0 days 00:04:00</td>\n",
       "      <td>4.000000</td>\n",
       "    </tr>\n",
       "    <tr>\n",
       "      <th>1</th>\n",
       "      <td>1</td>\n",
       "      <td>2023-06-30 17:44:43</td>\n",
       "      <td>2023-06-30 17:53:13</td>\n",
       "      <td>1.0</td>\n",
       "      <td>2.10</td>\n",
       "      <td>1.0</td>\n",
       "      <td>N</td>\n",
       "      <td>9</td>\n",
       "      <td>81</td>\n",
       "      <td>Credit Card</td>\n",
       "      <td>2.5</td>\n",
       "      <td>6.191269</td>\n",
       "      <td>0.0</td>\n",
       "      <td>1.0</td>\n",
       "      <td>2.5</td>\n",
       "      <td>0.00</td>\n",
       "      <td>0 days 00:08:30</td>\n",
       "      <td>8.500000</td>\n",
       "    </tr>\n",
       "    <tr>\n",
       "      <th>2</th>\n",
       "      <td>1</td>\n",
       "      <td>2023-06-29 18:17:04</td>\n",
       "      <td>2023-06-29 19:23:48</td>\n",
       "      <td>1.0</td>\n",
       "      <td>0.95</td>\n",
       "      <td>1.0</td>\n",
       "      <td>N</td>\n",
       "      <td>92</td>\n",
       "      <td>90</td>\n",
       "      <td>Cash</td>\n",
       "      <td>2.5</td>\n",
       "      <td>3.983872</td>\n",
       "      <td>0.0</td>\n",
       "      <td>1.0</td>\n",
       "      <td>2.5</td>\n",
       "      <td>0.00</td>\n",
       "      <td>0 days 01:06:44</td>\n",
       "      <td>66.733333</td>\n",
       "    </tr>\n",
       "    <tr>\n",
       "      <th>3</th>\n",
       "      <td>0</td>\n",
       "      <td>2023-06-30 21:33:53</td>\n",
       "      <td>2023-06-30 21:46:20</td>\n",
       "      <td>1.0</td>\n",
       "      <td>0.80</td>\n",
       "      <td>1.0</td>\n",
       "      <td>N</td>\n",
       "      <td>19</td>\n",
       "      <td>102</td>\n",
       "      <td>Credit Card</td>\n",
       "      <td>3.5</td>\n",
       "      <td>6.839341</td>\n",
       "      <td>0.0</td>\n",
       "      <td>1.0</td>\n",
       "      <td>2.5</td>\n",
       "      <td>0.00</td>\n",
       "      <td>0 days 00:12:27</td>\n",
       "      <td>12.450000</td>\n",
       "    </tr>\n",
       "    <tr>\n",
       "      <th>4</th>\n",
       "      <td>1</td>\n",
       "      <td>2023-06-29 14:53:54</td>\n",
       "      <td>2023-06-29 15:22:17</td>\n",
       "      <td>1.0</td>\n",
       "      <td>4.01</td>\n",
       "      <td>1.0</td>\n",
       "      <td>N</td>\n",
       "      <td>131</td>\n",
       "      <td>229</td>\n",
       "      <td>Cash</td>\n",
       "      <td>0.0</td>\n",
       "      <td>1.468943</td>\n",
       "      <td>0.0</td>\n",
       "      <td>1.0</td>\n",
       "      <td>0.0</td>\n",
       "      <td>0.00</td>\n",
       "      <td>0 days 00:28:23</td>\n",
       "      <td>28.383333</td>\n",
       "    </tr>\n",
       "    <tr>\n",
       "      <th>...</th>\n",
       "      <td>...</td>\n",
       "      <td>...</td>\n",
       "      <td>...</td>\n",
       "      <td>...</td>\n",
       "      <td>...</td>\n",
       "      <td>...</td>\n",
       "      <td>...</td>\n",
       "      <td>...</td>\n",
       "      <td>...</td>\n",
       "      <td>...</td>\n",
       "      <td>...</td>\n",
       "      <td>...</td>\n",
       "      <td>...</td>\n",
       "      <td>...</td>\n",
       "      <td>...</td>\n",
       "      <td>...</td>\n",
       "      <td>...</td>\n",
       "      <td>...</td>\n",
       "    </tr>\n",
       "    <tr>\n",
       "      <th>49995</th>\n",
       "      <td>1</td>\n",
       "      <td>2023-06-29 17:41:59</td>\n",
       "      <td>2023-06-29 18:30:36</td>\n",
       "      <td>1.0</td>\n",
       "      <td>0.61</td>\n",
       "      <td>1.0</td>\n",
       "      <td>N</td>\n",
       "      <td>48</td>\n",
       "      <td>72</td>\n",
       "      <td>Credit Card</td>\n",
       "      <td>2.5</td>\n",
       "      <td>4.043482</td>\n",
       "      <td>0.0</td>\n",
       "      <td>1.0</td>\n",
       "      <td>2.5</td>\n",
       "      <td>0.00</td>\n",
       "      <td>0 days 00:48:37</td>\n",
       "      <td>48.616667</td>\n",
       "    </tr>\n",
       "    <tr>\n",
       "      <th>49996</th>\n",
       "      <td>1</td>\n",
       "      <td>2023-06-30 01:25:25</td>\n",
       "      <td>2023-06-30 01:10:40</td>\n",
       "      <td>1.0</td>\n",
       "      <td>5.02</td>\n",
       "      <td>1.0</td>\n",
       "      <td>N</td>\n",
       "      <td>57</td>\n",
       "      <td>103</td>\n",
       "      <td>Cash</td>\n",
       "      <td>1.0</td>\n",
       "      <td>2.895882</td>\n",
       "      <td>0.0</td>\n",
       "      <td>1.0</td>\n",
       "      <td>0.0</td>\n",
       "      <td>1.75</td>\n",
       "      <td>-1 days +23:45:15</td>\n",
       "      <td>14.750000</td>\n",
       "    </tr>\n",
       "    <tr>\n",
       "      <th>49997</th>\n",
       "      <td>1</td>\n",
       "      <td>2023-06-30 22:28:44</td>\n",
       "      <td>2023-06-30 21:49:37</td>\n",
       "      <td>1.0</td>\n",
       "      <td>1.92</td>\n",
       "      <td>1.0</td>\n",
       "      <td>N</td>\n",
       "      <td>150</td>\n",
       "      <td>78</td>\n",
       "      <td>Credit Card</td>\n",
       "      <td>1.0</td>\n",
       "      <td>5.636590</td>\n",
       "      <td>0.0</td>\n",
       "      <td>1.0</td>\n",
       "      <td>2.5</td>\n",
       "      <td>0.00</td>\n",
       "      <td>-1 days +23:20:53</td>\n",
       "      <td>39.116667</td>\n",
       "    </tr>\n",
       "    <tr>\n",
       "      <th>49998</th>\n",
       "      <td>0</td>\n",
       "      <td>2023-06-30 02:37:18</td>\n",
       "      <td>2023-06-30 02:10:33</td>\n",
       "      <td>1.0</td>\n",
       "      <td>5.40</td>\n",
       "      <td>1.0</td>\n",
       "      <td>N</td>\n",
       "      <td>4</td>\n",
       "      <td>154</td>\n",
       "      <td>Credit Card</td>\n",
       "      <td>3.5</td>\n",
       "      <td>7.293144</td>\n",
       "      <td>0.0</td>\n",
       "      <td>1.0</td>\n",
       "      <td>2.5</td>\n",
       "      <td>0.00</td>\n",
       "      <td>-1 days +23:33:15</td>\n",
       "      <td>26.750000</td>\n",
       "    </tr>\n",
       "    <tr>\n",
       "      <th>49999</th>\n",
       "      <td>1</td>\n",
       "      <td>2023-06-30 18:05:15</td>\n",
       "      <td>2023-06-30 17:15:16</td>\n",
       "      <td>1.0</td>\n",
       "      <td>1.31</td>\n",
       "      <td>1.0</td>\n",
       "      <td>N</td>\n",
       "      <td>7</td>\n",
       "      <td>174</td>\n",
       "      <td>Cash</td>\n",
       "      <td>2.5</td>\n",
       "      <td>1.966592</td>\n",
       "      <td>0.0</td>\n",
       "      <td>1.0</td>\n",
       "      <td>2.5</td>\n",
       "      <td>0.00</td>\n",
       "      <td>-1 days +23:10:01</td>\n",
       "      <td>49.983333</td>\n",
       "    </tr>\n",
       "  </tbody>\n",
       "</table>\n",
       "<p>50000 rows × 18 columns</p>\n",
       "</div>"
      ],
      "text/plain": [
       "       VendorID tpep_pickup_datetime tpep_dropoff_datetime  passenger_count  \\\n",
       "0             1  2023-06-29 00:21:20   2023-06-29 00:25:20              1.0   \n",
       "1             1  2023-06-30 17:44:43   2023-06-30 17:53:13              1.0   \n",
       "2             1  2023-06-29 18:17:04   2023-06-29 19:23:48              1.0   \n",
       "3             0  2023-06-30 21:33:53   2023-06-30 21:46:20              1.0   \n",
       "4             1  2023-06-29 14:53:54   2023-06-29 15:22:17              1.0   \n",
       "...         ...                  ...                   ...              ...   \n",
       "49995         1  2023-06-29 17:41:59   2023-06-29 18:30:36              1.0   \n",
       "49996         1  2023-06-30 01:25:25   2023-06-30 01:10:40              1.0   \n",
       "49997         1  2023-06-30 22:28:44   2023-06-30 21:49:37              1.0   \n",
       "49998         0  2023-06-30 02:37:18   2023-06-30 02:10:33              1.0   \n",
       "49999         1  2023-06-30 18:05:15   2023-06-30 17:15:16              1.0   \n",
       "\n",
       "       trip_distance  RatecodeID store_and_fwd_flag  PULocationID  \\\n",
       "0               4.95         1.0                  N            20   \n",
       "1               2.10         1.0                  N             9   \n",
       "2               0.95         1.0                  N            92   \n",
       "3               0.80         1.0                  N            19   \n",
       "4               4.01         1.0                  N           131   \n",
       "...              ...         ...                ...           ...   \n",
       "49995           0.61         1.0                  N            48   \n",
       "49996           5.02         1.0                  N            57   \n",
       "49997           1.92         1.0                  N           150   \n",
       "49998           5.40         1.0                  N             4   \n",
       "49999           1.31         1.0                  N             7   \n",
       "\n",
       "       DOLocationID payment_type  extra  tip_amount  tolls_amount  \\\n",
       "0                 3  Credit Card    1.0    6.067612           0.0   \n",
       "1                81  Credit Card    2.5    6.191269           0.0   \n",
       "2                90         Cash    2.5    3.983872           0.0   \n",
       "3               102  Credit Card    3.5    6.839341           0.0   \n",
       "4               229         Cash    0.0    1.468943           0.0   \n",
       "...             ...          ...    ...         ...           ...   \n",
       "49995            72  Credit Card    2.5    4.043482           0.0   \n",
       "49996           103         Cash    1.0    2.895882           0.0   \n",
       "49997            78  Credit Card    1.0    5.636590           0.0   \n",
       "49998           154  Credit Card    3.5    7.293144           0.0   \n",
       "49999           174         Cash    2.5    1.966592           0.0   \n",
       "\n",
       "       improvement_surcharge  congestion_surcharge  Airport_fee  \\\n",
       "0                        1.0                   2.5         0.00   \n",
       "1                        1.0                   2.5         0.00   \n",
       "2                        1.0                   2.5         0.00   \n",
       "3                        1.0                   2.5         0.00   \n",
       "4                        1.0                   0.0         0.00   \n",
       "...                      ...                   ...          ...   \n",
       "49995                    1.0                   2.5         0.00   \n",
       "49996                    1.0                   0.0         1.75   \n",
       "49997                    1.0                   2.5         0.00   \n",
       "49998                    1.0                   2.5         0.00   \n",
       "49999                    1.0                   2.5         0.00   \n",
       "\n",
       "        time_difference  total_time_taken_in_minutes  \n",
       "0       0 days 00:04:00                     4.000000  \n",
       "1       0 days 00:08:30                     8.500000  \n",
       "2       0 days 01:06:44                    66.733333  \n",
       "3       0 days 00:12:27                    12.450000  \n",
       "4       0 days 00:28:23                    28.383333  \n",
       "...                 ...                          ...  \n",
       "49995   0 days 00:48:37                    48.616667  \n",
       "49996 -1 days +23:45:15                    14.750000  \n",
       "49997 -1 days +23:20:53                    39.116667  \n",
       "49998 -1 days +23:33:15                    26.750000  \n",
       "49999 -1 days +23:10:01                    49.983333  \n",
       "\n",
       "[50000 rows x 18 columns]"
      ]
     },
     "execution_count": 27,
     "metadata": {},
     "output_type": "execute_result"
    }
   ],
   "source": [
    "df_test"
   ]
  },
  {
   "cell_type": "markdown",
   "id": "8a54afc3",
   "metadata": {
    "papermill": {
     "duration": 0.028132,
     "end_time": "2023-11-28T04:07:48.695876",
     "exception": false,
     "start_time": "2023-11-28T04:07:48.667744",
     "status": "completed"
    },
    "tags": []
   },
   "source": [
    "## Dropping irrelevant columns"
   ]
  },
  {
   "cell_type": "code",
   "execution_count": 28,
   "id": "42886371",
   "metadata": {
    "execution": {
     "iopub.execute_input": "2023-11-28T04:07:48.755261Z",
     "iopub.status.busy": "2023-11-28T04:07:48.754907Z",
     "iopub.status.idle": "2023-11-28T04:07:48.789976Z",
     "shell.execute_reply": "2023-11-28T04:07:48.789041Z"
    },
    "papermill": {
     "duration": 0.066793,
     "end_time": "2023-11-28T04:07:48.791860",
     "exception": false,
     "start_time": "2023-11-28T04:07:48.725067",
     "status": "completed"
    },
    "tags": []
   },
   "outputs": [
    {
     "data": {
      "text/html": [
       "<div>\n",
       "<style scoped>\n",
       "    .dataframe tbody tr th:only-of-type {\n",
       "        vertical-align: middle;\n",
       "    }\n",
       "\n",
       "    .dataframe tbody tr th {\n",
       "        vertical-align: top;\n",
       "    }\n",
       "\n",
       "    .dataframe thead th {\n",
       "        text-align: right;\n",
       "    }\n",
       "</style>\n",
       "<table border=\"1\" class=\"dataframe\">\n",
       "  <thead>\n",
       "    <tr style=\"text-align: right;\">\n",
       "      <th></th>\n",
       "      <th>VendorID</th>\n",
       "      <th>passenger_count</th>\n",
       "      <th>trip_distance</th>\n",
       "      <th>RatecodeID</th>\n",
       "      <th>store_and_fwd_flag</th>\n",
       "      <th>PULocationID</th>\n",
       "      <th>DOLocationID</th>\n",
       "      <th>payment_type</th>\n",
       "      <th>extra</th>\n",
       "      <th>tip_amount</th>\n",
       "      <th>tolls_amount</th>\n",
       "      <th>improvement_surcharge</th>\n",
       "      <th>total_amount</th>\n",
       "      <th>congestion_surcharge</th>\n",
       "      <th>Airport_fee</th>\n",
       "      <th>total_time_taken_in_minutes</th>\n",
       "    </tr>\n",
       "  </thead>\n",
       "  <tbody>\n",
       "    <tr>\n",
       "      <th>0</th>\n",
       "      <td>1</td>\n",
       "      <td>1.0</td>\n",
       "      <td>2.14</td>\n",
       "      <td>1.0</td>\n",
       "      <td>N</td>\n",
       "      <td>120</td>\n",
       "      <td>9</td>\n",
       "      <td>Credit Card</td>\n",
       "      <td>2.5</td>\n",
       "      <td>7.165589</td>\n",
       "      <td>0.0</td>\n",
       "      <td>1.0</td>\n",
       "      <td>20.64</td>\n",
       "      <td>2.5</td>\n",
       "      <td>0.00</td>\n",
       "      <td>45.600000</td>\n",
       "    </tr>\n",
       "    <tr>\n",
       "      <th>1</th>\n",
       "      <td>0</td>\n",
       "      <td>1.0</td>\n",
       "      <td>2.70</td>\n",
       "      <td>1.0</td>\n",
       "      <td>N</td>\n",
       "      <td>15</td>\n",
       "      <td>215</td>\n",
       "      <td>Credit Card</td>\n",
       "      <td>3.5</td>\n",
       "      <td>6.067401</td>\n",
       "      <td>0.0</td>\n",
       "      <td>1.0</td>\n",
       "      <td>25.55</td>\n",
       "      <td>2.5</td>\n",
       "      <td>0.00</td>\n",
       "      <td>63.433333</td>\n",
       "    </tr>\n",
       "    <tr>\n",
       "      <th>2</th>\n",
       "      <td>1</td>\n",
       "      <td>1.0</td>\n",
       "      <td>1.15</td>\n",
       "      <td>1.0</td>\n",
       "      <td>N</td>\n",
       "      <td>167</td>\n",
       "      <td>223</td>\n",
       "      <td>Credit Card</td>\n",
       "      <td>0.0</td>\n",
       "      <td>4.111547</td>\n",
       "      <td>0.0</td>\n",
       "      <td>1.0</td>\n",
       "      <td>17.64</td>\n",
       "      <td>2.5</td>\n",
       "      <td>0.00</td>\n",
       "      <td>53.650000</td>\n",
       "    </tr>\n",
       "    <tr>\n",
       "      <th>3</th>\n",
       "      <td>0</td>\n",
       "      <td>1.0</td>\n",
       "      <td>0.40</td>\n",
       "      <td>1.0</td>\n",
       "      <td>N</td>\n",
       "      <td>128</td>\n",
       "      <td>239</td>\n",
       "      <td>Credit Card</td>\n",
       "      <td>2.5</td>\n",
       "      <td>6.411079</td>\n",
       "      <td>0.0</td>\n",
       "      <td>1.0</td>\n",
       "      <td>12.80</td>\n",
       "      <td>2.5</td>\n",
       "      <td>0.00</td>\n",
       "      <td>56.866667</td>\n",
       "    </tr>\n",
       "    <tr>\n",
       "      <th>4</th>\n",
       "      <td>1</td>\n",
       "      <td>3.0</td>\n",
       "      <td>1.10</td>\n",
       "      <td>1.0</td>\n",
       "      <td>N</td>\n",
       "      <td>203</td>\n",
       "      <td>52</td>\n",
       "      <td>Credit Card</td>\n",
       "      <td>1.0</td>\n",
       "      <td>4.769377</td>\n",
       "      <td>0.0</td>\n",
       "      <td>1.0</td>\n",
       "      <td>18.00</td>\n",
       "      <td>2.5</td>\n",
       "      <td>0.00</td>\n",
       "      <td>18.833333</td>\n",
       "    </tr>\n",
       "    <tr>\n",
       "      <th>...</th>\n",
       "      <td>...</td>\n",
       "      <td>...</td>\n",
       "      <td>...</td>\n",
       "      <td>...</td>\n",
       "      <td>...</td>\n",
       "      <td>...</td>\n",
       "      <td>...</td>\n",
       "      <td>...</td>\n",
       "      <td>...</td>\n",
       "      <td>...</td>\n",
       "      <td>...</td>\n",
       "      <td>...</td>\n",
       "      <td>...</td>\n",
       "      <td>...</td>\n",
       "      <td>...</td>\n",
       "      <td>...</td>\n",
       "    </tr>\n",
       "    <tr>\n",
       "      <th>174995</th>\n",
       "      <td>1</td>\n",
       "      <td>3.0</td>\n",
       "      <td>3.45</td>\n",
       "      <td>1.0</td>\n",
       "      <td>N</td>\n",
       "      <td>147</td>\n",
       "      <td>167</td>\n",
       "      <td>Credit Card</td>\n",
       "      <td>1.0</td>\n",
       "      <td>8.732495</td>\n",
       "      <td>0.0</td>\n",
       "      <td>1.0</td>\n",
       "      <td>28.08</td>\n",
       "      <td>2.5</td>\n",
       "      <td>0.00</td>\n",
       "      <td>28.583333</td>\n",
       "    </tr>\n",
       "    <tr>\n",
       "      <th>174996</th>\n",
       "      <td>1</td>\n",
       "      <td>1.0</td>\n",
       "      <td>9.44</td>\n",
       "      <td>1.0</td>\n",
       "      <td>N</td>\n",
       "      <td>154</td>\n",
       "      <td>191</td>\n",
       "      <td>Cash</td>\n",
       "      <td>5.0</td>\n",
       "      <td>0.283275</td>\n",
       "      <td>0.0</td>\n",
       "      <td>1.0</td>\n",
       "      <td>59.95</td>\n",
       "      <td>2.5</td>\n",
       "      <td>1.75</td>\n",
       "      <td>61.400000</td>\n",
       "    </tr>\n",
       "    <tr>\n",
       "      <th>174997</th>\n",
       "      <td>0</td>\n",
       "      <td>1.0</td>\n",
       "      <td>2.40</td>\n",
       "      <td>1.0</td>\n",
       "      <td>N</td>\n",
       "      <td>168</td>\n",
       "      <td>106</td>\n",
       "      <td>Credit Card</td>\n",
       "      <td>2.5</td>\n",
       "      <td>4.245354</td>\n",
       "      <td>0.0</td>\n",
       "      <td>1.0</td>\n",
       "      <td>33.50</td>\n",
       "      <td>2.5</td>\n",
       "      <td>0.00</td>\n",
       "      <td>70.033333</td>\n",
       "    </tr>\n",
       "    <tr>\n",
       "      <th>174998</th>\n",
       "      <td>1</td>\n",
       "      <td>1.0</td>\n",
       "      <td>4.71</td>\n",
       "      <td>1.0</td>\n",
       "      <td>N</td>\n",
       "      <td>240</td>\n",
       "      <td>100</td>\n",
       "      <td>Credit Card</td>\n",
       "      <td>2.5</td>\n",
       "      <td>10.479776</td>\n",
       "      <td>0.0</td>\n",
       "      <td>1.0</td>\n",
       "      <td>40.80</td>\n",
       "      <td>2.5</td>\n",
       "      <td>0.00</td>\n",
       "      <td>38.366667</td>\n",
       "    </tr>\n",
       "    <tr>\n",
       "      <th>174999</th>\n",
       "      <td>1</td>\n",
       "      <td>1.0</td>\n",
       "      <td>1.01</td>\n",
       "      <td>1.0</td>\n",
       "      <td>N</td>\n",
       "      <td>153</td>\n",
       "      <td>72</td>\n",
       "      <td>Credit Card</td>\n",
       "      <td>1.0</td>\n",
       "      <td>6.541699</td>\n",
       "      <td>0.0</td>\n",
       "      <td>1.0</td>\n",
       "      <td>16.32</td>\n",
       "      <td>2.5</td>\n",
       "      <td>0.00</td>\n",
       "      <td>87.983333</td>\n",
       "    </tr>\n",
       "  </tbody>\n",
       "</table>\n",
       "<p>175000 rows × 16 columns</p>\n",
       "</div>"
      ],
      "text/plain": [
       "        VendorID  passenger_count  trip_distance  RatecodeID  \\\n",
       "0              1              1.0           2.14         1.0   \n",
       "1              0              1.0           2.70         1.0   \n",
       "2              1              1.0           1.15         1.0   \n",
       "3              0              1.0           0.40         1.0   \n",
       "4              1              3.0           1.10         1.0   \n",
       "...          ...              ...            ...         ...   \n",
       "174995         1              3.0           3.45         1.0   \n",
       "174996         1              1.0           9.44         1.0   \n",
       "174997         0              1.0           2.40         1.0   \n",
       "174998         1              1.0           4.71         1.0   \n",
       "174999         1              1.0           1.01         1.0   \n",
       "\n",
       "       store_and_fwd_flag  PULocationID  DOLocationID payment_type  extra  \\\n",
       "0                       N           120             9  Credit Card    2.5   \n",
       "1                       N            15           215  Credit Card    3.5   \n",
       "2                       N           167           223  Credit Card    0.0   \n",
       "3                       N           128           239  Credit Card    2.5   \n",
       "4                       N           203            52  Credit Card    1.0   \n",
       "...                   ...           ...           ...          ...    ...   \n",
       "174995                  N           147           167  Credit Card    1.0   \n",
       "174996                  N           154           191         Cash    5.0   \n",
       "174997                  N           168           106  Credit Card    2.5   \n",
       "174998                  N           240           100  Credit Card    2.5   \n",
       "174999                  N           153            72  Credit Card    1.0   \n",
       "\n",
       "        tip_amount  tolls_amount  improvement_surcharge  total_amount  \\\n",
       "0         7.165589           0.0                    1.0         20.64   \n",
       "1         6.067401           0.0                    1.0         25.55   \n",
       "2         4.111547           0.0                    1.0         17.64   \n",
       "3         6.411079           0.0                    1.0         12.80   \n",
       "4         4.769377           0.0                    1.0         18.00   \n",
       "...            ...           ...                    ...           ...   \n",
       "174995    8.732495           0.0                    1.0         28.08   \n",
       "174996    0.283275           0.0                    1.0         59.95   \n",
       "174997    4.245354           0.0                    1.0         33.50   \n",
       "174998   10.479776           0.0                    1.0         40.80   \n",
       "174999    6.541699           0.0                    1.0         16.32   \n",
       "\n",
       "        congestion_surcharge  Airport_fee  total_time_taken_in_minutes  \n",
       "0                        2.5         0.00                    45.600000  \n",
       "1                        2.5         0.00                    63.433333  \n",
       "2                        2.5         0.00                    53.650000  \n",
       "3                        2.5         0.00                    56.866667  \n",
       "4                        2.5         0.00                    18.833333  \n",
       "...                      ...          ...                          ...  \n",
       "174995                   2.5         0.00                    28.583333  \n",
       "174996                   2.5         1.75                    61.400000  \n",
       "174997                   2.5         0.00                    70.033333  \n",
       "174998                   2.5         0.00                    38.366667  \n",
       "174999                   2.5         0.00                    87.983333  \n",
       "\n",
       "[175000 rows x 16 columns]"
      ]
     },
     "execution_count": 28,
     "metadata": {},
     "output_type": "execute_result"
    }
   ],
   "source": [
    "target_column = ['tpep_pickup_datetime','tpep_dropoff_datetime','time_difference']\n",
    "df_train = df_train.drop(target_column, axis=1)\n",
    "df_train"
   ]
  },
  {
   "cell_type": "code",
   "execution_count": 29,
   "id": "f88907f5",
   "metadata": {
    "execution": {
     "iopub.execute_input": "2023-11-28T04:07:48.851317Z",
     "iopub.status.busy": "2023-11-28T04:07:48.850711Z",
     "iopub.status.idle": "2023-11-28T04:07:48.875896Z",
     "shell.execute_reply": "2023-11-28T04:07:48.874940Z"
    },
    "papermill": {
     "duration": 0.056516,
     "end_time": "2023-11-28T04:07:48.877835",
     "exception": false,
     "start_time": "2023-11-28T04:07:48.821319",
     "status": "completed"
    },
    "tags": []
   },
   "outputs": [
    {
     "data": {
      "text/html": [
       "<div>\n",
       "<style scoped>\n",
       "    .dataframe tbody tr th:only-of-type {\n",
       "        vertical-align: middle;\n",
       "    }\n",
       "\n",
       "    .dataframe tbody tr th {\n",
       "        vertical-align: top;\n",
       "    }\n",
       "\n",
       "    .dataframe thead th {\n",
       "        text-align: right;\n",
       "    }\n",
       "</style>\n",
       "<table border=\"1\" class=\"dataframe\">\n",
       "  <thead>\n",
       "    <tr style=\"text-align: right;\">\n",
       "      <th></th>\n",
       "      <th>VendorID</th>\n",
       "      <th>passenger_count</th>\n",
       "      <th>trip_distance</th>\n",
       "      <th>RatecodeID</th>\n",
       "      <th>store_and_fwd_flag</th>\n",
       "      <th>PULocationID</th>\n",
       "      <th>DOLocationID</th>\n",
       "      <th>payment_type</th>\n",
       "      <th>extra</th>\n",
       "      <th>tip_amount</th>\n",
       "      <th>tolls_amount</th>\n",
       "      <th>improvement_surcharge</th>\n",
       "      <th>congestion_surcharge</th>\n",
       "      <th>Airport_fee</th>\n",
       "      <th>total_time_taken_in_minutes</th>\n",
       "    </tr>\n",
       "  </thead>\n",
       "  <tbody>\n",
       "    <tr>\n",
       "      <th>0</th>\n",
       "      <td>1</td>\n",
       "      <td>1.0</td>\n",
       "      <td>4.95</td>\n",
       "      <td>1.0</td>\n",
       "      <td>N</td>\n",
       "      <td>20</td>\n",
       "      <td>3</td>\n",
       "      <td>Credit Card</td>\n",
       "      <td>1.0</td>\n",
       "      <td>6.067612</td>\n",
       "      <td>0.0</td>\n",
       "      <td>1.0</td>\n",
       "      <td>2.5</td>\n",
       "      <td>0.00</td>\n",
       "      <td>4.000000</td>\n",
       "    </tr>\n",
       "    <tr>\n",
       "      <th>1</th>\n",
       "      <td>1</td>\n",
       "      <td>1.0</td>\n",
       "      <td>2.10</td>\n",
       "      <td>1.0</td>\n",
       "      <td>N</td>\n",
       "      <td>9</td>\n",
       "      <td>81</td>\n",
       "      <td>Credit Card</td>\n",
       "      <td>2.5</td>\n",
       "      <td>6.191269</td>\n",
       "      <td>0.0</td>\n",
       "      <td>1.0</td>\n",
       "      <td>2.5</td>\n",
       "      <td>0.00</td>\n",
       "      <td>8.500000</td>\n",
       "    </tr>\n",
       "    <tr>\n",
       "      <th>2</th>\n",
       "      <td>1</td>\n",
       "      <td>1.0</td>\n",
       "      <td>0.95</td>\n",
       "      <td>1.0</td>\n",
       "      <td>N</td>\n",
       "      <td>92</td>\n",
       "      <td>90</td>\n",
       "      <td>Cash</td>\n",
       "      <td>2.5</td>\n",
       "      <td>3.983872</td>\n",
       "      <td>0.0</td>\n",
       "      <td>1.0</td>\n",
       "      <td>2.5</td>\n",
       "      <td>0.00</td>\n",
       "      <td>66.733333</td>\n",
       "    </tr>\n",
       "    <tr>\n",
       "      <th>3</th>\n",
       "      <td>0</td>\n",
       "      <td>1.0</td>\n",
       "      <td>0.80</td>\n",
       "      <td>1.0</td>\n",
       "      <td>N</td>\n",
       "      <td>19</td>\n",
       "      <td>102</td>\n",
       "      <td>Credit Card</td>\n",
       "      <td>3.5</td>\n",
       "      <td>6.839341</td>\n",
       "      <td>0.0</td>\n",
       "      <td>1.0</td>\n",
       "      <td>2.5</td>\n",
       "      <td>0.00</td>\n",
       "      <td>12.450000</td>\n",
       "    </tr>\n",
       "    <tr>\n",
       "      <th>4</th>\n",
       "      <td>1</td>\n",
       "      <td>1.0</td>\n",
       "      <td>4.01</td>\n",
       "      <td>1.0</td>\n",
       "      <td>N</td>\n",
       "      <td>131</td>\n",
       "      <td>229</td>\n",
       "      <td>Cash</td>\n",
       "      <td>0.0</td>\n",
       "      <td>1.468943</td>\n",
       "      <td>0.0</td>\n",
       "      <td>1.0</td>\n",
       "      <td>0.0</td>\n",
       "      <td>0.00</td>\n",
       "      <td>28.383333</td>\n",
       "    </tr>\n",
       "    <tr>\n",
       "      <th>...</th>\n",
       "      <td>...</td>\n",
       "      <td>...</td>\n",
       "      <td>...</td>\n",
       "      <td>...</td>\n",
       "      <td>...</td>\n",
       "      <td>...</td>\n",
       "      <td>...</td>\n",
       "      <td>...</td>\n",
       "      <td>...</td>\n",
       "      <td>...</td>\n",
       "      <td>...</td>\n",
       "      <td>...</td>\n",
       "      <td>...</td>\n",
       "      <td>...</td>\n",
       "      <td>...</td>\n",
       "    </tr>\n",
       "    <tr>\n",
       "      <th>49995</th>\n",
       "      <td>1</td>\n",
       "      <td>1.0</td>\n",
       "      <td>0.61</td>\n",
       "      <td>1.0</td>\n",
       "      <td>N</td>\n",
       "      <td>48</td>\n",
       "      <td>72</td>\n",
       "      <td>Credit Card</td>\n",
       "      <td>2.5</td>\n",
       "      <td>4.043482</td>\n",
       "      <td>0.0</td>\n",
       "      <td>1.0</td>\n",
       "      <td>2.5</td>\n",
       "      <td>0.00</td>\n",
       "      <td>48.616667</td>\n",
       "    </tr>\n",
       "    <tr>\n",
       "      <th>49996</th>\n",
       "      <td>1</td>\n",
       "      <td>1.0</td>\n",
       "      <td>5.02</td>\n",
       "      <td>1.0</td>\n",
       "      <td>N</td>\n",
       "      <td>57</td>\n",
       "      <td>103</td>\n",
       "      <td>Cash</td>\n",
       "      <td>1.0</td>\n",
       "      <td>2.895882</td>\n",
       "      <td>0.0</td>\n",
       "      <td>1.0</td>\n",
       "      <td>0.0</td>\n",
       "      <td>1.75</td>\n",
       "      <td>14.750000</td>\n",
       "    </tr>\n",
       "    <tr>\n",
       "      <th>49997</th>\n",
       "      <td>1</td>\n",
       "      <td>1.0</td>\n",
       "      <td>1.92</td>\n",
       "      <td>1.0</td>\n",
       "      <td>N</td>\n",
       "      <td>150</td>\n",
       "      <td>78</td>\n",
       "      <td>Credit Card</td>\n",
       "      <td>1.0</td>\n",
       "      <td>5.636590</td>\n",
       "      <td>0.0</td>\n",
       "      <td>1.0</td>\n",
       "      <td>2.5</td>\n",
       "      <td>0.00</td>\n",
       "      <td>39.116667</td>\n",
       "    </tr>\n",
       "    <tr>\n",
       "      <th>49998</th>\n",
       "      <td>0</td>\n",
       "      <td>1.0</td>\n",
       "      <td>5.40</td>\n",
       "      <td>1.0</td>\n",
       "      <td>N</td>\n",
       "      <td>4</td>\n",
       "      <td>154</td>\n",
       "      <td>Credit Card</td>\n",
       "      <td>3.5</td>\n",
       "      <td>7.293144</td>\n",
       "      <td>0.0</td>\n",
       "      <td>1.0</td>\n",
       "      <td>2.5</td>\n",
       "      <td>0.00</td>\n",
       "      <td>26.750000</td>\n",
       "    </tr>\n",
       "    <tr>\n",
       "      <th>49999</th>\n",
       "      <td>1</td>\n",
       "      <td>1.0</td>\n",
       "      <td>1.31</td>\n",
       "      <td>1.0</td>\n",
       "      <td>N</td>\n",
       "      <td>7</td>\n",
       "      <td>174</td>\n",
       "      <td>Cash</td>\n",
       "      <td>2.5</td>\n",
       "      <td>1.966592</td>\n",
       "      <td>0.0</td>\n",
       "      <td>1.0</td>\n",
       "      <td>2.5</td>\n",
       "      <td>0.00</td>\n",
       "      <td>49.983333</td>\n",
       "    </tr>\n",
       "  </tbody>\n",
       "</table>\n",
       "<p>50000 rows × 15 columns</p>\n",
       "</div>"
      ],
      "text/plain": [
       "       VendorID  passenger_count  trip_distance  RatecodeID  \\\n",
       "0             1              1.0           4.95         1.0   \n",
       "1             1              1.0           2.10         1.0   \n",
       "2             1              1.0           0.95         1.0   \n",
       "3             0              1.0           0.80         1.0   \n",
       "4             1              1.0           4.01         1.0   \n",
       "...         ...              ...            ...         ...   \n",
       "49995         1              1.0           0.61         1.0   \n",
       "49996         1              1.0           5.02         1.0   \n",
       "49997         1              1.0           1.92         1.0   \n",
       "49998         0              1.0           5.40         1.0   \n",
       "49999         1              1.0           1.31         1.0   \n",
       "\n",
       "      store_and_fwd_flag  PULocationID  DOLocationID payment_type  extra  \\\n",
       "0                      N            20             3  Credit Card    1.0   \n",
       "1                      N             9            81  Credit Card    2.5   \n",
       "2                      N            92            90         Cash    2.5   \n",
       "3                      N            19           102  Credit Card    3.5   \n",
       "4                      N           131           229         Cash    0.0   \n",
       "...                  ...           ...           ...          ...    ...   \n",
       "49995                  N            48            72  Credit Card    2.5   \n",
       "49996                  N            57           103         Cash    1.0   \n",
       "49997                  N           150            78  Credit Card    1.0   \n",
       "49998                  N             4           154  Credit Card    3.5   \n",
       "49999                  N             7           174         Cash    2.5   \n",
       "\n",
       "       tip_amount  tolls_amount  improvement_surcharge  congestion_surcharge  \\\n",
       "0        6.067612           0.0                    1.0                   2.5   \n",
       "1        6.191269           0.0                    1.0                   2.5   \n",
       "2        3.983872           0.0                    1.0                   2.5   \n",
       "3        6.839341           0.0                    1.0                   2.5   \n",
       "4        1.468943           0.0                    1.0                   0.0   \n",
       "...           ...           ...                    ...                   ...   \n",
       "49995    4.043482           0.0                    1.0                   2.5   \n",
       "49996    2.895882           0.0                    1.0                   0.0   \n",
       "49997    5.636590           0.0                    1.0                   2.5   \n",
       "49998    7.293144           0.0                    1.0                   2.5   \n",
       "49999    1.966592           0.0                    1.0                   2.5   \n",
       "\n",
       "       Airport_fee  total_time_taken_in_minutes  \n",
       "0             0.00                     4.000000  \n",
       "1             0.00                     8.500000  \n",
       "2             0.00                    66.733333  \n",
       "3             0.00                    12.450000  \n",
       "4             0.00                    28.383333  \n",
       "...            ...                          ...  \n",
       "49995         0.00                    48.616667  \n",
       "49996         1.75                    14.750000  \n",
       "49997         0.00                    39.116667  \n",
       "49998         0.00                    26.750000  \n",
       "49999         0.00                    49.983333  \n",
       "\n",
       "[50000 rows x 15 columns]"
      ]
     },
     "execution_count": 29,
     "metadata": {},
     "output_type": "execute_result"
    }
   ],
   "source": [
    "target_column = ['tpep_pickup_datetime','tpep_dropoff_datetime','time_difference']\n",
    "df_test = df_test.drop(target_column, axis=1)\n",
    "df_test"
   ]
  },
  {
   "cell_type": "code",
   "execution_count": 30,
   "id": "05c99fa6",
   "metadata": {
    "execution": {
     "iopub.execute_input": "2023-11-28T04:07:48.937653Z",
     "iopub.status.busy": "2023-11-28T04:07:48.937312Z",
     "iopub.status.idle": "2023-11-28T04:07:48.956644Z",
     "shell.execute_reply": "2023-11-28T04:07:48.955349Z"
    },
    "papermill": {
     "duration": 0.052104,
     "end_time": "2023-11-28T04:07:48.959003",
     "exception": false,
     "start_time": "2023-11-28T04:07:48.906899",
     "status": "completed"
    },
    "tags": []
   },
   "outputs": [
    {
     "data": {
      "text/plain": [
       "VendorID                          0\n",
       "passenger_count                6077\n",
       "trip_distance                     0\n",
       "RatecodeID                     6077\n",
       "store_and_fwd_flag             6077\n",
       "PULocationID                      0\n",
       "DOLocationID                      0\n",
       "payment_type                      0\n",
       "extra                             0\n",
       "tip_amount                        0\n",
       "tolls_amount                      0\n",
       "improvement_surcharge             0\n",
       "total_amount                      0\n",
       "congestion_surcharge           6077\n",
       "Airport_fee                    6077\n",
       "total_time_taken_in_minutes       0\n",
       "dtype: int64"
      ]
     },
     "execution_count": 30,
     "metadata": {},
     "output_type": "execute_result"
    }
   ],
   "source": [
    "df_train.isnull().sum()"
   ]
  },
  {
   "cell_type": "code",
   "execution_count": 31,
   "id": "a5c6f579",
   "metadata": {
    "execution": {
     "iopub.execute_input": "2023-11-28T04:07:49.021385Z",
     "iopub.status.busy": "2023-11-28T04:07:49.021021Z",
     "iopub.status.idle": "2023-11-28T04:07:49.033428Z",
     "shell.execute_reply": "2023-11-28T04:07:49.032308Z"
    },
    "papermill": {
     "duration": 0.047185,
     "end_time": "2023-11-28T04:07:49.036065",
     "exception": false,
     "start_time": "2023-11-28T04:07:48.988880",
     "status": "completed"
    },
    "tags": []
   },
   "outputs": [
    {
     "data": {
      "text/plain": [
       "array(['N', nan, 'Y'], dtype=object)"
      ]
     },
     "execution_count": 31,
     "metadata": {},
     "output_type": "execute_result"
    }
   ],
   "source": [
    "df_train['store_and_fwd_flag'].unique()"
   ]
  },
  {
   "cell_type": "code",
   "execution_count": 32,
   "id": "561f811d",
   "metadata": {
    "execution": {
     "iopub.execute_input": "2023-11-28T04:07:49.097593Z",
     "iopub.status.busy": "2023-11-28T04:07:49.097043Z",
     "iopub.status.idle": "2023-11-28T04:07:49.111708Z",
     "shell.execute_reply": "2023-11-28T04:07:49.111003Z"
    },
    "papermill": {
     "duration": 0.047335,
     "end_time": "2023-11-28T04:07:49.113506",
     "exception": false,
     "start_time": "2023-11-28T04:07:49.066171",
     "status": "completed"
    },
    "tags": []
   },
   "outputs": [
    {
     "data": {
      "text/plain": [
       "store_and_fwd_flag\n",
       "N    167729\n",
       "Y      1194\n",
       "Name: count, dtype: int64"
      ]
     },
     "execution_count": 32,
     "metadata": {},
     "output_type": "execute_result"
    }
   ],
   "source": [
    "df_train['store_and_fwd_flag'].value_counts()"
   ]
  },
  {
   "cell_type": "code",
   "execution_count": 33,
   "id": "36395f65",
   "metadata": {
    "execution": {
     "iopub.execute_input": "2023-11-28T04:07:49.175191Z",
     "iopub.status.busy": "2023-11-28T04:07:49.174833Z",
     "iopub.status.idle": "2023-11-28T04:07:49.183966Z",
     "shell.execute_reply": "2023-11-28T04:07:49.182968Z"
    },
    "papermill": {
     "duration": 0.043083,
     "end_time": "2023-11-28T04:07:49.185715",
     "exception": false,
     "start_time": "2023-11-28T04:07:49.142632",
     "status": "completed"
    },
    "tags": []
   },
   "outputs": [
    {
     "data": {
      "text/plain": [
       "store_and_fwd_flag\n",
       "N    47881\n",
       "Y      340\n",
       "Name: count, dtype: int64"
      ]
     },
     "execution_count": 33,
     "metadata": {},
     "output_type": "execute_result"
    }
   ],
   "source": [
    "df_test['store_and_fwd_flag'].value_counts()"
   ]
  },
  {
   "cell_type": "markdown",
   "id": "be8cd676",
   "metadata": {
    "papermill": {
     "duration": 0.029352,
     "end_time": "2023-11-28T04:07:49.245309",
     "exception": false,
     "start_time": "2023-11-28T04:07:49.215957",
     "status": "completed"
    },
    "tags": []
   },
   "source": [
    "## Feature Engineering:-"
   ]
  },
  {
   "cell_type": "markdown",
   "id": "7bc1b55f",
   "metadata": {
    "papermill": {
     "duration": 0.029255,
     "end_time": "2023-11-28T04:07:49.304702",
     "exception": false,
     "start_time": "2023-11-28T04:07:49.275447",
     "status": "completed"
    },
    "tags": []
   },
   "source": [
    "## Using Label Encoder for store_and_fwd_flag column"
   ]
  },
  {
   "cell_type": "code",
   "execution_count": 34,
   "id": "5f6826c1",
   "metadata": {
    "execution": {
     "iopub.execute_input": "2023-11-28T04:07:49.366705Z",
     "iopub.status.busy": "2023-11-28T04:07:49.366125Z",
     "iopub.status.idle": "2023-11-28T04:07:50.547121Z",
     "shell.execute_reply": "2023-11-28T04:07:50.546049Z"
    },
    "papermill": {
     "duration": 1.21482,
     "end_time": "2023-11-28T04:07:50.549870",
     "exception": false,
     "start_time": "2023-11-28T04:07:49.335050",
     "status": "completed"
    },
    "tags": []
   },
   "outputs": [],
   "source": [
    "from sklearn.preprocessing import LabelEncoder\n",
    "# Create an instance of LabelEncoder\n",
    "label_encoder = LabelEncoder()\n",
    "df_train['store_and_fwd_flag'] = label_encoder.fit_transform(df_train['store_and_fwd_flag'])\n",
    "df_test['store_and_fwd_flag'] = label_encoder.transform(df_test['store_and_fwd_flag'])"
   ]
  },
  {
   "cell_type": "code",
   "execution_count": 35,
   "id": "d806ef3d",
   "metadata": {
    "execution": {
     "iopub.execute_input": "2023-11-28T04:07:50.612407Z",
     "iopub.status.busy": "2023-11-28T04:07:50.612090Z",
     "iopub.status.idle": "2023-11-28T04:07:50.629956Z",
     "shell.execute_reply": "2023-11-28T04:07:50.629295Z"
    },
    "papermill": {
     "duration": 0.050816,
     "end_time": "2023-11-28T04:07:50.631692",
     "exception": false,
     "start_time": "2023-11-28T04:07:50.580876",
     "status": "completed"
    },
    "tags": []
   },
   "outputs": [
    {
     "data": {
      "text/html": [
       "<div>\n",
       "<style scoped>\n",
       "    .dataframe tbody tr th:only-of-type {\n",
       "        vertical-align: middle;\n",
       "    }\n",
       "\n",
       "    .dataframe tbody tr th {\n",
       "        vertical-align: top;\n",
       "    }\n",
       "\n",
       "    .dataframe thead th {\n",
       "        text-align: right;\n",
       "    }\n",
       "</style>\n",
       "<table border=\"1\" class=\"dataframe\">\n",
       "  <thead>\n",
       "    <tr style=\"text-align: right;\">\n",
       "      <th></th>\n",
       "      <th>VendorID</th>\n",
       "      <th>passenger_count</th>\n",
       "      <th>trip_distance</th>\n",
       "      <th>RatecodeID</th>\n",
       "      <th>store_and_fwd_flag</th>\n",
       "      <th>PULocationID</th>\n",
       "      <th>DOLocationID</th>\n",
       "      <th>payment_type</th>\n",
       "      <th>extra</th>\n",
       "      <th>tip_amount</th>\n",
       "      <th>tolls_amount</th>\n",
       "      <th>improvement_surcharge</th>\n",
       "      <th>total_amount</th>\n",
       "      <th>congestion_surcharge</th>\n",
       "      <th>Airport_fee</th>\n",
       "      <th>total_time_taken_in_minutes</th>\n",
       "    </tr>\n",
       "  </thead>\n",
       "  <tbody>\n",
       "    <tr>\n",
       "      <th>0</th>\n",
       "      <td>1</td>\n",
       "      <td>1.0</td>\n",
       "      <td>2.14</td>\n",
       "      <td>1.0</td>\n",
       "      <td>0</td>\n",
       "      <td>120</td>\n",
       "      <td>9</td>\n",
       "      <td>Credit Card</td>\n",
       "      <td>2.5</td>\n",
       "      <td>7.165589</td>\n",
       "      <td>0.0</td>\n",
       "      <td>1.0</td>\n",
       "      <td>20.64</td>\n",
       "      <td>2.5</td>\n",
       "      <td>0.0</td>\n",
       "      <td>45.600000</td>\n",
       "    </tr>\n",
       "    <tr>\n",
       "      <th>1</th>\n",
       "      <td>0</td>\n",
       "      <td>1.0</td>\n",
       "      <td>2.70</td>\n",
       "      <td>1.0</td>\n",
       "      <td>0</td>\n",
       "      <td>15</td>\n",
       "      <td>215</td>\n",
       "      <td>Credit Card</td>\n",
       "      <td>3.5</td>\n",
       "      <td>6.067401</td>\n",
       "      <td>0.0</td>\n",
       "      <td>1.0</td>\n",
       "      <td>25.55</td>\n",
       "      <td>2.5</td>\n",
       "      <td>0.0</td>\n",
       "      <td>63.433333</td>\n",
       "    </tr>\n",
       "    <tr>\n",
       "      <th>2</th>\n",
       "      <td>1</td>\n",
       "      <td>1.0</td>\n",
       "      <td>1.15</td>\n",
       "      <td>1.0</td>\n",
       "      <td>0</td>\n",
       "      <td>167</td>\n",
       "      <td>223</td>\n",
       "      <td>Credit Card</td>\n",
       "      <td>0.0</td>\n",
       "      <td>4.111547</td>\n",
       "      <td>0.0</td>\n",
       "      <td>1.0</td>\n",
       "      <td>17.64</td>\n",
       "      <td>2.5</td>\n",
       "      <td>0.0</td>\n",
       "      <td>53.650000</td>\n",
       "    </tr>\n",
       "    <tr>\n",
       "      <th>3</th>\n",
       "      <td>0</td>\n",
       "      <td>1.0</td>\n",
       "      <td>0.40</td>\n",
       "      <td>1.0</td>\n",
       "      <td>0</td>\n",
       "      <td>128</td>\n",
       "      <td>239</td>\n",
       "      <td>Credit Card</td>\n",
       "      <td>2.5</td>\n",
       "      <td>6.411079</td>\n",
       "      <td>0.0</td>\n",
       "      <td>1.0</td>\n",
       "      <td>12.80</td>\n",
       "      <td>2.5</td>\n",
       "      <td>0.0</td>\n",
       "      <td>56.866667</td>\n",
       "    </tr>\n",
       "    <tr>\n",
       "      <th>4</th>\n",
       "      <td>1</td>\n",
       "      <td>3.0</td>\n",
       "      <td>1.10</td>\n",
       "      <td>1.0</td>\n",
       "      <td>0</td>\n",
       "      <td>203</td>\n",
       "      <td>52</td>\n",
       "      <td>Credit Card</td>\n",
       "      <td>1.0</td>\n",
       "      <td>4.769377</td>\n",
       "      <td>0.0</td>\n",
       "      <td>1.0</td>\n",
       "      <td>18.00</td>\n",
       "      <td>2.5</td>\n",
       "      <td>0.0</td>\n",
       "      <td>18.833333</td>\n",
       "    </tr>\n",
       "  </tbody>\n",
       "</table>\n",
       "</div>"
      ],
      "text/plain": [
       "   VendorID  passenger_count  trip_distance  RatecodeID  store_and_fwd_flag  \\\n",
       "0         1              1.0           2.14         1.0                   0   \n",
       "1         0              1.0           2.70         1.0                   0   \n",
       "2         1              1.0           1.15         1.0                   0   \n",
       "3         0              1.0           0.40         1.0                   0   \n",
       "4         1              3.0           1.10         1.0                   0   \n",
       "\n",
       "   PULocationID  DOLocationID payment_type  extra  tip_amount  tolls_amount  \\\n",
       "0           120             9  Credit Card    2.5    7.165589           0.0   \n",
       "1            15           215  Credit Card    3.5    6.067401           0.0   \n",
       "2           167           223  Credit Card    0.0    4.111547           0.0   \n",
       "3           128           239  Credit Card    2.5    6.411079           0.0   \n",
       "4           203            52  Credit Card    1.0    4.769377           0.0   \n",
       "\n",
       "   improvement_surcharge  total_amount  congestion_surcharge  Airport_fee  \\\n",
       "0                    1.0         20.64                   2.5          0.0   \n",
       "1                    1.0         25.55                   2.5          0.0   \n",
       "2                    1.0         17.64                   2.5          0.0   \n",
       "3                    1.0         12.80                   2.5          0.0   \n",
       "4                    1.0         18.00                   2.5          0.0   \n",
       "\n",
       "   total_time_taken_in_minutes  \n",
       "0                    45.600000  \n",
       "1                    63.433333  \n",
       "2                    53.650000  \n",
       "3                    56.866667  \n",
       "4                    18.833333  "
      ]
     },
     "execution_count": 35,
     "metadata": {},
     "output_type": "execute_result"
    }
   ],
   "source": [
    "df_train.head()"
   ]
  },
  {
   "cell_type": "markdown",
   "id": "461f2b43",
   "metadata": {
    "papermill": {
     "duration": 0.0296,
     "end_time": "2023-11-28T04:07:50.691705",
     "exception": false,
     "start_time": "2023-11-28T04:07:50.662105",
     "status": "completed"
    },
    "tags": []
   },
   "source": [
    "Values which are represented by label 2 are all which have null values in the column store_and_fwd_flag."
   ]
  },
  {
   "cell_type": "markdown",
   "id": "2143df02",
   "metadata": {
    "papermill": {
     "duration": 0.030179,
     "end_time": "2023-11-28T04:07:50.751884",
     "exception": false,
     "start_time": "2023-11-28T04:07:50.721705",
     "status": "completed"
    },
    "tags": []
   },
   "source": [
    "## Checking total null values of the columns"
   ]
  },
  {
   "cell_type": "code",
   "execution_count": 36,
   "id": "5374a645",
   "metadata": {
    "execution": {
     "iopub.execute_input": "2023-11-28T04:07:50.815153Z",
     "iopub.status.busy": "2023-11-28T04:07:50.814508Z",
     "iopub.status.idle": "2023-11-28T04:07:50.828718Z",
     "shell.execute_reply": "2023-11-28T04:07:50.827994Z"
    },
    "papermill": {
     "duration": 0.04841,
     "end_time": "2023-11-28T04:07:50.830431",
     "exception": false,
     "start_time": "2023-11-28T04:07:50.782021",
     "status": "completed"
    },
    "tags": []
   },
   "outputs": [
    {
     "data": {
      "text/plain": [
       "VendorID                          0\n",
       "passenger_count                6077\n",
       "trip_distance                     0\n",
       "RatecodeID                     6077\n",
       "store_and_fwd_flag                0\n",
       "PULocationID                      0\n",
       "DOLocationID                      0\n",
       "payment_type                      0\n",
       "extra                             0\n",
       "tip_amount                        0\n",
       "tolls_amount                      0\n",
       "improvement_surcharge             0\n",
       "total_amount                      0\n",
       "congestion_surcharge           6077\n",
       "Airport_fee                    6077\n",
       "total_time_taken_in_minutes       0\n",
       "dtype: int64"
      ]
     },
     "execution_count": 36,
     "metadata": {},
     "output_type": "execute_result"
    }
   ],
   "source": [
    "df_train.isnull().sum()"
   ]
  },
  {
   "cell_type": "code",
   "execution_count": 37,
   "id": "6772f7d4",
   "metadata": {
    "execution": {
     "iopub.execute_input": "2023-11-28T04:07:50.894163Z",
     "iopub.status.busy": "2023-11-28T04:07:50.893501Z",
     "iopub.status.idle": "2023-11-28T04:07:50.903398Z",
     "shell.execute_reply": "2023-11-28T04:07:50.902737Z"
    },
    "papermill": {
     "duration": 0.043384,
     "end_time": "2023-11-28T04:07:50.904995",
     "exception": false,
     "start_time": "2023-11-28T04:07:50.861611",
     "status": "completed"
    },
    "tags": []
   },
   "outputs": [
    {
     "data": {
      "text/plain": [
       "VendorID                          0\n",
       "passenger_count                1779\n",
       "trip_distance                     0\n",
       "RatecodeID                     1779\n",
       "store_and_fwd_flag                0\n",
       "PULocationID                      0\n",
       "DOLocationID                      0\n",
       "payment_type                      0\n",
       "extra                             0\n",
       "tip_amount                        0\n",
       "tolls_amount                      0\n",
       "improvement_surcharge             0\n",
       "congestion_surcharge           1779\n",
       "Airport_fee                    1779\n",
       "total_time_taken_in_minutes       0\n",
       "dtype: int64"
      ]
     },
     "execution_count": 37,
     "metadata": {},
     "output_type": "execute_result"
    }
   ],
   "source": [
    "df_test.isnull().sum()"
   ]
  },
  {
   "cell_type": "markdown",
   "id": "3a2998cd",
   "metadata": {
    "papermill": {
     "duration": 0.029282,
     "end_time": "2023-11-28T04:07:50.964736",
     "exception": false,
     "start_time": "2023-11-28T04:07:50.935454",
     "status": "completed"
    },
    "tags": []
   },
   "source": [
    "## Checking datatype of the columns"
   ]
  },
  {
   "cell_type": "code",
   "execution_count": 38,
   "id": "61547b45",
   "metadata": {
    "execution": {
     "iopub.execute_input": "2023-11-28T04:07:51.027810Z",
     "iopub.status.busy": "2023-11-28T04:07:51.027205Z",
     "iopub.status.idle": "2023-11-28T04:07:51.033284Z",
     "shell.execute_reply": "2023-11-28T04:07:51.032644Z"
    },
    "papermill": {
     "duration": 0.04037,
     "end_time": "2023-11-28T04:07:51.034972",
     "exception": false,
     "start_time": "2023-11-28T04:07:50.994602",
     "status": "completed"
    },
    "tags": []
   },
   "outputs": [
    {
     "data": {
      "text/plain": [
       "VendorID                         int64\n",
       "passenger_count                float64\n",
       "trip_distance                  float64\n",
       "RatecodeID                     float64\n",
       "store_and_fwd_flag               int64\n",
       "PULocationID                     int64\n",
       "DOLocationID                     int64\n",
       "payment_type                    object\n",
       "extra                          float64\n",
       "tip_amount                     float64\n",
       "tolls_amount                   float64\n",
       "improvement_surcharge          float64\n",
       "total_amount                   float64\n",
       "congestion_surcharge           float64\n",
       "Airport_fee                    float64\n",
       "total_time_taken_in_minutes    float64\n",
       "dtype: object"
      ]
     },
     "execution_count": 38,
     "metadata": {},
     "output_type": "execute_result"
    }
   ],
   "source": [
    "df_train.dtypes"
   ]
  },
  {
   "cell_type": "markdown",
   "id": "c1786a8e",
   "metadata": {
    "papermill": {
     "duration": 0.029232,
     "end_time": "2023-11-28T04:07:51.095090",
     "exception": false,
     "start_time": "2023-11-28T04:07:51.065858",
     "status": "completed"
    },
    "tags": []
   },
   "source": [
    "## Filling mean or mode value in place of null value"
   ]
  },
  {
   "cell_type": "code",
   "execution_count": 39,
   "id": "fbfdc835",
   "metadata": {
    "execution": {
     "iopub.execute_input": "2023-11-28T04:07:51.155622Z",
     "iopub.status.busy": "2023-11-28T04:07:51.154995Z",
     "iopub.status.idle": "2023-11-28T04:07:51.501680Z",
     "shell.execute_reply": "2023-11-28T04:07:51.500586Z"
    },
    "papermill": {
     "duration": 0.379402,
     "end_time": "2023-11-28T04:07:51.504039",
     "exception": false,
     "start_time": "2023-11-28T04:07:51.124637",
     "status": "completed"
    },
    "tags": []
   },
   "outputs": [],
   "source": [
    "from sklearn.impute import SimpleImputer\n",
    "# Define the columns that need imputation (excluding datetime columns)\n",
    "columns_to_impute_1 = ['congestion_surcharge','Airport_fee',]\n",
    "columns_to_impute_2 = ['passenger_count','RatecodeID']\n",
    "\n",
    "# Initialize the imputer\n",
    "imputer1 = SimpleImputer(strategy='mean')\n",
    "imputer2 = SimpleImputer(strategy='most_frequent')\n",
    "\n",
    "# Apply imputation to the specified columns\n",
    "df_train[columns_to_impute_1] = imputer1.fit_transform(df_train[columns_to_impute_1])\n",
    "df_test[columns_to_impute_1] = imputer1.transform(df_test[columns_to_impute_1])\n",
    "\n",
    "df_train[columns_to_impute_2] = imputer2.fit_transform(df_train[columns_to_impute_2])\n",
    "df_test[columns_to_impute_2] = imputer2.transform(df_test[columns_to_impute_2])"
   ]
  },
  {
   "cell_type": "code",
   "execution_count": 40,
   "id": "1d7cae2d",
   "metadata": {
    "execution": {
     "iopub.execute_input": "2023-11-28T04:07:51.567000Z",
     "iopub.status.busy": "2023-11-28T04:07:51.566645Z",
     "iopub.status.idle": "2023-11-28T04:07:51.581876Z",
     "shell.execute_reply": "2023-11-28T04:07:51.581031Z"
    },
    "papermill": {
     "duration": 0.048782,
     "end_time": "2023-11-28T04:07:51.583954",
     "exception": false,
     "start_time": "2023-11-28T04:07:51.535172",
     "status": "completed"
    },
    "tags": []
   },
   "outputs": [
    {
     "data": {
      "text/plain": [
       "VendorID                       0\n",
       "passenger_count                0\n",
       "trip_distance                  0\n",
       "RatecodeID                     0\n",
       "store_and_fwd_flag             0\n",
       "PULocationID                   0\n",
       "DOLocationID                   0\n",
       "payment_type                   0\n",
       "extra                          0\n",
       "tip_amount                     0\n",
       "tolls_amount                   0\n",
       "improvement_surcharge          0\n",
       "total_amount                   0\n",
       "congestion_surcharge           0\n",
       "Airport_fee                    0\n",
       "total_time_taken_in_minutes    0\n",
       "dtype: int64"
      ]
     },
     "execution_count": 40,
     "metadata": {},
     "output_type": "execute_result"
    }
   ],
   "source": [
    "df_train.isnull().sum()"
   ]
  },
  {
   "cell_type": "code",
   "execution_count": 41,
   "id": "f8e20fb7",
   "metadata": {
    "execution": {
     "iopub.execute_input": "2023-11-28T04:07:51.645732Z",
     "iopub.status.busy": "2023-11-28T04:07:51.645169Z",
     "iopub.status.idle": "2023-11-28T04:07:51.652965Z",
     "shell.execute_reply": "2023-11-28T04:07:51.651943Z"
    },
    "papermill": {
     "duration": 0.040897,
     "end_time": "2023-11-28T04:07:51.654786",
     "exception": false,
     "start_time": "2023-11-28T04:07:51.613889",
     "status": "completed"
    },
    "tags": []
   },
   "outputs": [
    {
     "data": {
      "text/plain": [
       "VendorID                         int64\n",
       "passenger_count                float64\n",
       "trip_distance                  float64\n",
       "RatecodeID                     float64\n",
       "store_and_fwd_flag               int64\n",
       "PULocationID                     int64\n",
       "DOLocationID                     int64\n",
       "payment_type                    object\n",
       "extra                          float64\n",
       "tip_amount                     float64\n",
       "tolls_amount                   float64\n",
       "improvement_surcharge          float64\n",
       "total_amount                   float64\n",
       "congestion_surcharge           float64\n",
       "Airport_fee                    float64\n",
       "total_time_taken_in_minutes    float64\n",
       "dtype: object"
      ]
     },
     "execution_count": 41,
     "metadata": {},
     "output_type": "execute_result"
    }
   ],
   "source": [
    "df_train.dtypes"
   ]
  },
  {
   "cell_type": "code",
   "execution_count": 42,
   "id": "ea5074e7",
   "metadata": {
    "execution": {
     "iopub.execute_input": "2023-11-28T04:07:51.717773Z",
     "iopub.status.busy": "2023-11-28T04:07:51.716663Z",
     "iopub.status.idle": "2023-11-28T04:07:51.734395Z",
     "shell.execute_reply": "2023-11-28T04:07:51.733662Z"
    },
    "papermill": {
     "duration": 0.050976,
     "end_time": "2023-11-28T04:07:51.736140",
     "exception": false,
     "start_time": "2023-11-28T04:07:51.685164",
     "status": "completed"
    },
    "tags": []
   },
   "outputs": [
    {
     "data": {
      "text/plain": [
       "array(['Credit Card', 'Cash', 'Wallet', 'UPI', 'unknown'], dtype=object)"
      ]
     },
     "execution_count": 42,
     "metadata": {},
     "output_type": "execute_result"
    }
   ],
   "source": [
    "df_train['payment_type'].unique()"
   ]
  },
  {
   "cell_type": "code",
   "execution_count": 43,
   "id": "92056521",
   "metadata": {
    "execution": {
     "iopub.execute_input": "2023-11-28T04:07:51.798892Z",
     "iopub.status.busy": "2023-11-28T04:07:51.798397Z",
     "iopub.status.idle": "2023-11-28T04:07:51.814876Z",
     "shell.execute_reply": "2023-11-28T04:07:51.813601Z"
    },
    "papermill": {
     "duration": 0.050033,
     "end_time": "2023-11-28T04:07:51.816737",
     "exception": false,
     "start_time": "2023-11-28T04:07:51.766704",
     "status": "completed"
    },
    "tags": []
   },
   "outputs": [
    {
     "data": {
      "text/plain": [
       "payment_type\n",
       "Credit Card    135257\n",
       "Cash            30141\n",
       "Wallet           6077\n",
       "unknown          2333\n",
       "UPI              1192\n",
       "Name: count, dtype: int64"
      ]
     },
     "execution_count": 43,
     "metadata": {},
     "output_type": "execute_result"
    }
   ],
   "source": [
    "df_train['payment_type'].value_counts()"
   ]
  },
  {
   "cell_type": "markdown",
   "id": "3cdb8c3c",
   "metadata": {
    "papermill": {
     "duration": 0.030272,
     "end_time": "2023-11-28T04:07:51.879330",
     "exception": false,
     "start_time": "2023-11-28T04:07:51.849058",
     "status": "completed"
    },
    "tags": []
   },
   "source": [
    "## One Hot Encoder"
   ]
  },
  {
   "cell_type": "code",
   "execution_count": 44,
   "id": "0acab894",
   "metadata": {
    "execution": {
     "iopub.execute_input": "2023-11-28T04:07:51.943317Z",
     "iopub.status.busy": "2023-11-28T04:07:51.942331Z",
     "iopub.status.idle": "2023-11-28T04:07:52.032422Z",
     "shell.execute_reply": "2023-11-28T04:07:52.031133Z"
    },
    "papermill": {
     "duration": 0.124728,
     "end_time": "2023-11-28T04:07:52.034888",
     "exception": false,
     "start_time": "2023-11-28T04:07:51.910160",
     "status": "completed"
    },
    "tags": []
   },
   "outputs": [],
   "source": [
    "from sklearn.preprocessing import OneHotEncoder\n",
    "\n",
    "# Ensure that 'payment_type' is a categorical variable with multiple categories\n",
    "\n",
    "# Extract the 'payment_type' column from both training and test data\n",
    "payment_type_train = df_train['payment_type'].values.reshape(-1, 1)\n",
    "payment_type_test = df_test['payment_type'].values.reshape(-1, 1)\n",
    "\n",
    "# Initialize the OneHotEncoder\n",
    "encoder = OneHotEncoder()\n",
    "\n",
    "# Fit and transform the encoder on the training 'payment_type' column\n",
    "payment_type_train_encoded = encoder.fit_transform(payment_type_train).toarray()\n",
    "\n",
    "# Transform the test 'payment_type' column using the same encoder\n",
    "payment_type_test_encoded = encoder.transform(payment_type_test).toarray()\n",
    "\n",
    "# Create DataFrames with the encoded values\n",
    "payment_type_train_encoded_df = pd.DataFrame(payment_type_train_encoded, columns=encoder.get_feature_names_out(['payment_type']))\n",
    "payment_type_test_encoded_df = pd.DataFrame(payment_type_test_encoded, columns=encoder.get_feature_names_out(['payment_type']))\n",
    "\n",
    "# Concatenate the original DataFrames with the encoded DataFrames\n",
    "df_train = pd.concat([df_train, payment_type_train_encoded_df], axis=1)\n",
    "df_test = pd.concat([df_test, payment_type_test_encoded_df], axis=1)\n",
    "\n",
    "# Drop the original 'payment_type' columns if needed\n",
    "df_train = df_train.drop(['payment_type'], axis=1)\n",
    "df_test = df_test.drop(['payment_type'], axis=1)\n"
   ]
  },
  {
   "cell_type": "code",
   "execution_count": 45,
   "id": "325956b8",
   "metadata": {
    "execution": {
     "iopub.execute_input": "2023-11-28T04:07:52.098280Z",
     "iopub.status.busy": "2023-11-28T04:07:52.097914Z",
     "iopub.status.idle": "2023-11-28T04:07:52.121227Z",
     "shell.execute_reply": "2023-11-28T04:07:52.119920Z"
    },
    "papermill": {
     "duration": 0.057826,
     "end_time": "2023-11-28T04:07:52.123535",
     "exception": false,
     "start_time": "2023-11-28T04:07:52.065709",
     "status": "completed"
    },
    "tags": []
   },
   "outputs": [
    {
     "data": {
      "text/html": [
       "<div>\n",
       "<style scoped>\n",
       "    .dataframe tbody tr th:only-of-type {\n",
       "        vertical-align: middle;\n",
       "    }\n",
       "\n",
       "    .dataframe tbody tr th {\n",
       "        vertical-align: top;\n",
       "    }\n",
       "\n",
       "    .dataframe thead th {\n",
       "        text-align: right;\n",
       "    }\n",
       "</style>\n",
       "<table border=\"1\" class=\"dataframe\">\n",
       "  <thead>\n",
       "    <tr style=\"text-align: right;\">\n",
       "      <th></th>\n",
       "      <th>VendorID</th>\n",
       "      <th>passenger_count</th>\n",
       "      <th>trip_distance</th>\n",
       "      <th>RatecodeID</th>\n",
       "      <th>store_and_fwd_flag</th>\n",
       "      <th>PULocationID</th>\n",
       "      <th>DOLocationID</th>\n",
       "      <th>extra</th>\n",
       "      <th>tip_amount</th>\n",
       "      <th>tolls_amount</th>\n",
       "      <th>improvement_surcharge</th>\n",
       "      <th>total_amount</th>\n",
       "      <th>congestion_surcharge</th>\n",
       "      <th>Airport_fee</th>\n",
       "      <th>total_time_taken_in_minutes</th>\n",
       "      <th>payment_type_Cash</th>\n",
       "      <th>payment_type_Credit Card</th>\n",
       "      <th>payment_type_UPI</th>\n",
       "      <th>payment_type_Wallet</th>\n",
       "      <th>payment_type_unknown</th>\n",
       "    </tr>\n",
       "  </thead>\n",
       "  <tbody>\n",
       "    <tr>\n",
       "      <th>0</th>\n",
       "      <td>1</td>\n",
       "      <td>1.0</td>\n",
       "      <td>2.14</td>\n",
       "      <td>1.0</td>\n",
       "      <td>0</td>\n",
       "      <td>120</td>\n",
       "      <td>9</td>\n",
       "      <td>2.5</td>\n",
       "      <td>7.165589</td>\n",
       "      <td>0.0</td>\n",
       "      <td>1.0</td>\n",
       "      <td>20.64</td>\n",
       "      <td>2.5</td>\n",
       "      <td>0.0</td>\n",
       "      <td>45.600000</td>\n",
       "      <td>0.0</td>\n",
       "      <td>1.0</td>\n",
       "      <td>0.0</td>\n",
       "      <td>0.0</td>\n",
       "      <td>0.0</td>\n",
       "    </tr>\n",
       "    <tr>\n",
       "      <th>1</th>\n",
       "      <td>0</td>\n",
       "      <td>1.0</td>\n",
       "      <td>2.70</td>\n",
       "      <td>1.0</td>\n",
       "      <td>0</td>\n",
       "      <td>15</td>\n",
       "      <td>215</td>\n",
       "      <td>3.5</td>\n",
       "      <td>6.067401</td>\n",
       "      <td>0.0</td>\n",
       "      <td>1.0</td>\n",
       "      <td>25.55</td>\n",
       "      <td>2.5</td>\n",
       "      <td>0.0</td>\n",
       "      <td>63.433333</td>\n",
       "      <td>0.0</td>\n",
       "      <td>1.0</td>\n",
       "      <td>0.0</td>\n",
       "      <td>0.0</td>\n",
       "      <td>0.0</td>\n",
       "    </tr>\n",
       "    <tr>\n",
       "      <th>2</th>\n",
       "      <td>1</td>\n",
       "      <td>1.0</td>\n",
       "      <td>1.15</td>\n",
       "      <td>1.0</td>\n",
       "      <td>0</td>\n",
       "      <td>167</td>\n",
       "      <td>223</td>\n",
       "      <td>0.0</td>\n",
       "      <td>4.111547</td>\n",
       "      <td>0.0</td>\n",
       "      <td>1.0</td>\n",
       "      <td>17.64</td>\n",
       "      <td>2.5</td>\n",
       "      <td>0.0</td>\n",
       "      <td>53.650000</td>\n",
       "      <td>0.0</td>\n",
       "      <td>1.0</td>\n",
       "      <td>0.0</td>\n",
       "      <td>0.0</td>\n",
       "      <td>0.0</td>\n",
       "    </tr>\n",
       "    <tr>\n",
       "      <th>3</th>\n",
       "      <td>0</td>\n",
       "      <td>1.0</td>\n",
       "      <td>0.40</td>\n",
       "      <td>1.0</td>\n",
       "      <td>0</td>\n",
       "      <td>128</td>\n",
       "      <td>239</td>\n",
       "      <td>2.5</td>\n",
       "      <td>6.411079</td>\n",
       "      <td>0.0</td>\n",
       "      <td>1.0</td>\n",
       "      <td>12.80</td>\n",
       "      <td>2.5</td>\n",
       "      <td>0.0</td>\n",
       "      <td>56.866667</td>\n",
       "      <td>0.0</td>\n",
       "      <td>1.0</td>\n",
       "      <td>0.0</td>\n",
       "      <td>0.0</td>\n",
       "      <td>0.0</td>\n",
       "    </tr>\n",
       "    <tr>\n",
       "      <th>4</th>\n",
       "      <td>1</td>\n",
       "      <td>3.0</td>\n",
       "      <td>1.10</td>\n",
       "      <td>1.0</td>\n",
       "      <td>0</td>\n",
       "      <td>203</td>\n",
       "      <td>52</td>\n",
       "      <td>1.0</td>\n",
       "      <td>4.769377</td>\n",
       "      <td>0.0</td>\n",
       "      <td>1.0</td>\n",
       "      <td>18.00</td>\n",
       "      <td>2.5</td>\n",
       "      <td>0.0</td>\n",
       "      <td>18.833333</td>\n",
       "      <td>0.0</td>\n",
       "      <td>1.0</td>\n",
       "      <td>0.0</td>\n",
       "      <td>0.0</td>\n",
       "      <td>0.0</td>\n",
       "    </tr>\n",
       "  </tbody>\n",
       "</table>\n",
       "</div>"
      ],
      "text/plain": [
       "   VendorID  passenger_count  trip_distance  RatecodeID  store_and_fwd_flag  \\\n",
       "0         1              1.0           2.14         1.0                   0   \n",
       "1         0              1.0           2.70         1.0                   0   \n",
       "2         1              1.0           1.15         1.0                   0   \n",
       "3         0              1.0           0.40         1.0                   0   \n",
       "4         1              3.0           1.10         1.0                   0   \n",
       "\n",
       "   PULocationID  DOLocationID  extra  tip_amount  tolls_amount  \\\n",
       "0           120             9    2.5    7.165589           0.0   \n",
       "1            15           215    3.5    6.067401           0.0   \n",
       "2           167           223    0.0    4.111547           0.0   \n",
       "3           128           239    2.5    6.411079           0.0   \n",
       "4           203            52    1.0    4.769377           0.0   \n",
       "\n",
       "   improvement_surcharge  total_amount  congestion_surcharge  Airport_fee  \\\n",
       "0                    1.0         20.64                   2.5          0.0   \n",
       "1                    1.0         25.55                   2.5          0.0   \n",
       "2                    1.0         17.64                   2.5          0.0   \n",
       "3                    1.0         12.80                   2.5          0.0   \n",
       "4                    1.0         18.00                   2.5          0.0   \n",
       "\n",
       "   total_time_taken_in_minutes  payment_type_Cash  payment_type_Credit Card  \\\n",
       "0                    45.600000                0.0                       1.0   \n",
       "1                    63.433333                0.0                       1.0   \n",
       "2                    53.650000                0.0                       1.0   \n",
       "3                    56.866667                0.0                       1.0   \n",
       "4                    18.833333                0.0                       1.0   \n",
       "\n",
       "   payment_type_UPI  payment_type_Wallet  payment_type_unknown  \n",
       "0               0.0                  0.0                   0.0  \n",
       "1               0.0                  0.0                   0.0  \n",
       "2               0.0                  0.0                   0.0  \n",
       "3               0.0                  0.0                   0.0  \n",
       "4               0.0                  0.0                   0.0  "
      ]
     },
     "execution_count": 45,
     "metadata": {},
     "output_type": "execute_result"
    }
   ],
   "source": [
    "df_train.head()"
   ]
  },
  {
   "cell_type": "code",
   "execution_count": 46,
   "id": "d7060dd5",
   "metadata": {
    "execution": {
     "iopub.execute_input": "2023-11-28T04:07:52.187229Z",
     "iopub.status.busy": "2023-11-28T04:07:52.186911Z",
     "iopub.status.idle": "2023-11-28T04:07:52.207675Z",
     "shell.execute_reply": "2023-11-28T04:07:52.206816Z"
    },
    "papermill": {
     "duration": 0.054638,
     "end_time": "2023-11-28T04:07:52.209323",
     "exception": false,
     "start_time": "2023-11-28T04:07:52.154685",
     "status": "completed"
    },
    "tags": []
   },
   "outputs": [
    {
     "data": {
      "text/html": [
       "<div>\n",
       "<style scoped>\n",
       "    .dataframe tbody tr th:only-of-type {\n",
       "        vertical-align: middle;\n",
       "    }\n",
       "\n",
       "    .dataframe tbody tr th {\n",
       "        vertical-align: top;\n",
       "    }\n",
       "\n",
       "    .dataframe thead th {\n",
       "        text-align: right;\n",
       "    }\n",
       "</style>\n",
       "<table border=\"1\" class=\"dataframe\">\n",
       "  <thead>\n",
       "    <tr style=\"text-align: right;\">\n",
       "      <th></th>\n",
       "      <th>VendorID</th>\n",
       "      <th>passenger_count</th>\n",
       "      <th>trip_distance</th>\n",
       "      <th>RatecodeID</th>\n",
       "      <th>store_and_fwd_flag</th>\n",
       "      <th>PULocationID</th>\n",
       "      <th>DOLocationID</th>\n",
       "      <th>extra</th>\n",
       "      <th>tip_amount</th>\n",
       "      <th>tolls_amount</th>\n",
       "      <th>improvement_surcharge</th>\n",
       "      <th>congestion_surcharge</th>\n",
       "      <th>Airport_fee</th>\n",
       "      <th>total_time_taken_in_minutes</th>\n",
       "      <th>payment_type_Cash</th>\n",
       "      <th>payment_type_Credit Card</th>\n",
       "      <th>payment_type_UPI</th>\n",
       "      <th>payment_type_Wallet</th>\n",
       "      <th>payment_type_unknown</th>\n",
       "    </tr>\n",
       "  </thead>\n",
       "  <tbody>\n",
       "    <tr>\n",
       "      <th>0</th>\n",
       "      <td>1</td>\n",
       "      <td>1.0</td>\n",
       "      <td>4.95</td>\n",
       "      <td>1.0</td>\n",
       "      <td>0</td>\n",
       "      <td>20</td>\n",
       "      <td>3</td>\n",
       "      <td>1.0</td>\n",
       "      <td>6.067612</td>\n",
       "      <td>0.0</td>\n",
       "      <td>1.0</td>\n",
       "      <td>2.5</td>\n",
       "      <td>0.0</td>\n",
       "      <td>4.000000</td>\n",
       "      <td>0.0</td>\n",
       "      <td>1.0</td>\n",
       "      <td>0.0</td>\n",
       "      <td>0.0</td>\n",
       "      <td>0.0</td>\n",
       "    </tr>\n",
       "    <tr>\n",
       "      <th>1</th>\n",
       "      <td>1</td>\n",
       "      <td>1.0</td>\n",
       "      <td>2.10</td>\n",
       "      <td>1.0</td>\n",
       "      <td>0</td>\n",
       "      <td>9</td>\n",
       "      <td>81</td>\n",
       "      <td>2.5</td>\n",
       "      <td>6.191269</td>\n",
       "      <td>0.0</td>\n",
       "      <td>1.0</td>\n",
       "      <td>2.5</td>\n",
       "      <td>0.0</td>\n",
       "      <td>8.500000</td>\n",
       "      <td>0.0</td>\n",
       "      <td>1.0</td>\n",
       "      <td>0.0</td>\n",
       "      <td>0.0</td>\n",
       "      <td>0.0</td>\n",
       "    </tr>\n",
       "    <tr>\n",
       "      <th>2</th>\n",
       "      <td>1</td>\n",
       "      <td>1.0</td>\n",
       "      <td>0.95</td>\n",
       "      <td>1.0</td>\n",
       "      <td>0</td>\n",
       "      <td>92</td>\n",
       "      <td>90</td>\n",
       "      <td>2.5</td>\n",
       "      <td>3.983872</td>\n",
       "      <td>0.0</td>\n",
       "      <td>1.0</td>\n",
       "      <td>2.5</td>\n",
       "      <td>0.0</td>\n",
       "      <td>66.733333</td>\n",
       "      <td>1.0</td>\n",
       "      <td>0.0</td>\n",
       "      <td>0.0</td>\n",
       "      <td>0.0</td>\n",
       "      <td>0.0</td>\n",
       "    </tr>\n",
       "    <tr>\n",
       "      <th>3</th>\n",
       "      <td>0</td>\n",
       "      <td>1.0</td>\n",
       "      <td>0.80</td>\n",
       "      <td>1.0</td>\n",
       "      <td>0</td>\n",
       "      <td>19</td>\n",
       "      <td>102</td>\n",
       "      <td>3.5</td>\n",
       "      <td>6.839341</td>\n",
       "      <td>0.0</td>\n",
       "      <td>1.0</td>\n",
       "      <td>2.5</td>\n",
       "      <td>0.0</td>\n",
       "      <td>12.450000</td>\n",
       "      <td>0.0</td>\n",
       "      <td>1.0</td>\n",
       "      <td>0.0</td>\n",
       "      <td>0.0</td>\n",
       "      <td>0.0</td>\n",
       "    </tr>\n",
       "    <tr>\n",
       "      <th>4</th>\n",
       "      <td>1</td>\n",
       "      <td>1.0</td>\n",
       "      <td>4.01</td>\n",
       "      <td>1.0</td>\n",
       "      <td>0</td>\n",
       "      <td>131</td>\n",
       "      <td>229</td>\n",
       "      <td>0.0</td>\n",
       "      <td>1.468943</td>\n",
       "      <td>0.0</td>\n",
       "      <td>1.0</td>\n",
       "      <td>0.0</td>\n",
       "      <td>0.0</td>\n",
       "      <td>28.383333</td>\n",
       "      <td>1.0</td>\n",
       "      <td>0.0</td>\n",
       "      <td>0.0</td>\n",
       "      <td>0.0</td>\n",
       "      <td>0.0</td>\n",
       "    </tr>\n",
       "  </tbody>\n",
       "</table>\n",
       "</div>"
      ],
      "text/plain": [
       "   VendorID  passenger_count  trip_distance  RatecodeID  store_and_fwd_flag  \\\n",
       "0         1              1.0           4.95         1.0                   0   \n",
       "1         1              1.0           2.10         1.0                   0   \n",
       "2         1              1.0           0.95         1.0                   0   \n",
       "3         0              1.0           0.80         1.0                   0   \n",
       "4         1              1.0           4.01         1.0                   0   \n",
       "\n",
       "   PULocationID  DOLocationID  extra  tip_amount  tolls_amount  \\\n",
       "0            20             3    1.0    6.067612           0.0   \n",
       "1             9            81    2.5    6.191269           0.0   \n",
       "2            92            90    2.5    3.983872           0.0   \n",
       "3            19           102    3.5    6.839341           0.0   \n",
       "4           131           229    0.0    1.468943           0.0   \n",
       "\n",
       "   improvement_surcharge  congestion_surcharge  Airport_fee  \\\n",
       "0                    1.0                   2.5          0.0   \n",
       "1                    1.0                   2.5          0.0   \n",
       "2                    1.0                   2.5          0.0   \n",
       "3                    1.0                   2.5          0.0   \n",
       "4                    1.0                   0.0          0.0   \n",
       "\n",
       "   total_time_taken_in_minutes  payment_type_Cash  payment_type_Credit Card  \\\n",
       "0                     4.000000                0.0                       1.0   \n",
       "1                     8.500000                0.0                       1.0   \n",
       "2                    66.733333                1.0                       0.0   \n",
       "3                    12.450000                0.0                       1.0   \n",
       "4                    28.383333                1.0                       0.0   \n",
       "\n",
       "   payment_type_UPI  payment_type_Wallet  payment_type_unknown  \n",
       "0               0.0                  0.0                   0.0  \n",
       "1               0.0                  0.0                   0.0  \n",
       "2               0.0                  0.0                   0.0  \n",
       "3               0.0                  0.0                   0.0  \n",
       "4               0.0                  0.0                   0.0  "
      ]
     },
     "execution_count": 46,
     "metadata": {},
     "output_type": "execute_result"
    }
   ],
   "source": [
    "df_test.head()"
   ]
  },
  {
   "cell_type": "code",
   "execution_count": 47,
   "id": "0f4a808d",
   "metadata": {
    "execution": {
     "iopub.execute_input": "2023-11-28T04:07:52.273682Z",
     "iopub.status.busy": "2023-11-28T04:07:52.273076Z",
     "iopub.status.idle": "2023-11-28T04:07:52.280680Z",
     "shell.execute_reply": "2023-11-28T04:07:52.279972Z"
    },
    "papermill": {
     "duration": 0.0418,
     "end_time": "2023-11-28T04:07:52.282325",
     "exception": false,
     "start_time": "2023-11-28T04:07:52.240525",
     "status": "completed"
    },
    "tags": []
   },
   "outputs": [
    {
     "data": {
      "text/plain": [
       "array([0, 2, 1])"
      ]
     },
     "execution_count": 47,
     "metadata": {},
     "output_type": "execute_result"
    }
   ],
   "source": [
    "df_train['store_and_fwd_flag'].unique()"
   ]
  },
  {
   "cell_type": "markdown",
   "id": "047c6911",
   "metadata": {
    "papermill": {
     "duration": 0.031106,
     "end_time": "2023-11-28T04:07:52.344654",
     "exception": false,
     "start_time": "2023-11-28T04:07:52.313548",
     "status": "completed"
    },
    "tags": []
   },
   "source": [
    "# Exploratory Data Analysis (EDA) "
   ]
  },
  {
   "cell_type": "code",
   "execution_count": 48,
   "id": "2290989c",
   "metadata": {
    "execution": {
     "iopub.execute_input": "2023-11-28T04:07:52.409399Z",
     "iopub.status.busy": "2023-11-28T04:07:52.408738Z",
     "iopub.status.idle": "2023-11-28T04:07:52.804685Z",
     "shell.execute_reply": "2023-11-28T04:07:52.803655Z"
    },
    "papermill": {
     "duration": 0.431225,
     "end_time": "2023-11-28T04:07:52.807137",
     "exception": false,
     "start_time": "2023-11-28T04:07:52.375912",
     "status": "completed"
    },
    "tags": []
   },
   "outputs": [],
   "source": [
    "# Below are the libraries that are used in order to perform EDA (Exploratory data analysis).\n",
    "import seaborn as sns                       #visualisation\n",
    "import matplotlib.pyplot as plt             #visualisation"
   ]
  },
  {
   "cell_type": "markdown",
   "id": "5b362859",
   "metadata": {
    "papermill": {
     "duration": 0.031005,
     "end_time": "2023-11-28T04:07:52.869394",
     "exception": false,
     "start_time": "2023-11-28T04:07:52.838389",
     "status": "completed"
    },
    "tags": []
   },
   "source": [
    "### Scatter Plot"
   ]
  },
  {
   "cell_type": "code",
   "execution_count": 49,
   "id": "9630d084",
   "metadata": {
    "execution": {
     "iopub.execute_input": "2023-11-28T04:07:52.933451Z",
     "iopub.status.busy": "2023-11-28T04:07:52.933109Z",
     "iopub.status.idle": "2023-11-28T04:07:53.452340Z",
     "shell.execute_reply": "2023-11-28T04:07:53.451101Z"
    },
    "papermill": {
     "duration": 0.554157,
     "end_time": "2023-11-28T04:07:53.454800",
     "exception": false,
     "start_time": "2023-11-28T04:07:52.900643",
     "status": "completed"
    },
    "tags": []
   },
   "outputs": [
    {
     "data": {
      "image/png": "[encoded data removed]",
      "text/plain": [
       "<Figure size 640x480 with 1 Axes>"
      ]
     },
     "metadata": {},
     "output_type": "display_data"
    }
   ],
   "source": [
    "# Create a line plot\n",
    "plt.scatter(df_train[\"total_amount\"], df_train[\"passenger_count\"])\n",
    "\n",
    "# Add labels and title\n",
    "plt.xlabel('Total Amount')\n",
    "plt.ylabel('Passenger Count')\n",
    "plt.title('Simple Line Plot')\n",
    "\n",
    "# Show the plot\n",
    "plt.show()"
   ]
  },
  {
   "cell_type": "markdown",
   "id": "97613c0f",
   "metadata": {
    "papermill": {
     "duration": 0.030743,
     "end_time": "2023-11-28T04:07:53.519140",
     "exception": false,
     "start_time": "2023-11-28T04:07:53.488397",
     "status": "completed"
    },
    "tags": []
   },
   "source": [
    "### Histrogram"
   ]
  },
  {
   "cell_type": "code",
   "execution_count": 50,
   "id": "3f846071",
   "metadata": {
    "execution": {
     "iopub.execute_input": "2023-11-28T04:07:53.582941Z",
     "iopub.status.busy": "2023-11-28T04:07:53.582606Z",
     "iopub.status.idle": "2023-11-28T04:07:53.777191Z",
     "shell.execute_reply": "2023-11-28T04:07:53.776014Z"
    },
    "papermill": {
     "duration": 0.229071,
     "end_time": "2023-11-28T04:07:53.779358",
     "exception": false,
     "start_time": "2023-11-28T04:07:53.550287",
     "status": "completed"
    },
    "tags": []
   },
   "outputs": [
    {
     "data": {
      "image/png": "[encoded data removed]",
      "text/plain": [
       "<Figure size 640x480 with 1 Axes>"
      ]
     },
     "metadata": {},
     "output_type": "display_data"
    }
   ],
   "source": [
    "# Create a line plot\n",
    "plt.hist(df_train[\"passenger_count\"])\n",
    "\n",
    "# Add title\n",
    "plt.title('Passenger Count')\n",
    "\n",
    "# Show the plot\n",
    "plt.show()"
   ]
  },
  {
   "cell_type": "code",
   "execution_count": 51,
   "id": "538e47cf",
   "metadata": {
    "execution": {
     "iopub.execute_input": "2023-11-28T04:07:53.843136Z",
     "iopub.status.busy": "2023-11-28T04:07:53.842781Z",
     "iopub.status.idle": "2023-11-28T04:07:54.052048Z",
     "shell.execute_reply": "2023-11-28T04:07:54.050743Z"
    },
    "papermill": {
     "duration": 0.243765,
     "end_time": "2023-11-28T04:07:54.054359",
     "exception": false,
     "start_time": "2023-11-28T04:07:53.810594",
     "status": "completed"
    },
    "tags": []
   },
   "outputs": [
    {
     "data": {
      "image/png": "[encoded data removed]",
      "text/plain": [
       "<Figure size 640x480 with 1 Axes>"
      ]
     },
     "metadata": {},
     "output_type": "display_data"
    }
   ],
   "source": [
    "# Create a line plot\n",
    "plt.hist(df_train[\"trip_distance\"])\n",
    "\n",
    "# Add title\n",
    "plt.title('Trip Distance')\n",
    "\n",
    "# Show the plot\n",
    "plt.show()"
   ]
  },
  {
   "cell_type": "code",
   "execution_count": 52,
   "id": "dab4ae42",
   "metadata": {
    "execution": {
     "iopub.execute_input": "2023-11-28T04:07:54.122049Z",
     "iopub.status.busy": "2023-11-28T04:07:54.121710Z",
     "iopub.status.idle": "2023-11-28T04:07:54.319346Z",
     "shell.execute_reply": "2023-11-28T04:07:54.318321Z"
    },
    "papermill": {
     "duration": 0.232952,
     "end_time": "2023-11-28T04:07:54.321102",
     "exception": false,
     "start_time": "2023-11-28T04:07:54.088150",
     "status": "completed"
    },
    "tags": []
   },
   "outputs": [
    {
     "data": {
      "image/png": "[encoded data removed]",
      "text/plain": [
       "<Figure size 640x480 with 1 Axes>"
      ]
     },
     "metadata": {},
     "output_type": "display_data"
    }
   ],
   "source": [
    "# Create a line plot\n",
    "plt.hist(df_train[\"tip_amount\"])\n",
    "\n",
    "# Add title\n",
    "plt.title('Trip Distance')\n",
    "\n",
    "# Show the plot\n",
    "plt.show()"
   ]
  },
  {
   "cell_type": "code",
   "execution_count": 53,
   "id": "5eb97208",
   "metadata": {
    "execution": {
     "iopub.execute_input": "2023-11-28T04:07:54.387096Z",
     "iopub.status.busy": "2023-11-28T04:07:54.386781Z",
     "iopub.status.idle": "2023-11-28T04:07:54.612358Z",
     "shell.execute_reply": "2023-11-28T04:07:54.611302Z"
    },
    "papermill": {
     "duration": 0.26162,
     "end_time": "2023-11-28T04:07:54.614336",
     "exception": false,
     "start_time": "2023-11-28T04:07:54.352716",
     "status": "completed"
    },
    "tags": []
   },
   "outputs": [
    {
     "data": {
      "image/png": "[encoded data removed]",
      "text/plain": [
       "<Figure size 640x480 with 1 Axes>"
      ]
     },
     "metadata": {},
     "output_type": "display_data"
    }
   ],
   "source": [
    "# Create a line plot\n",
    "plt.hist(df_train[\"Airport_fee\"])\n",
    "\n",
    "# Add title\n",
    "plt.title('Airport Fee')\n",
    "\n",
    "# Show the plot\n",
    "plt.show()"
   ]
  },
  {
   "cell_type": "markdown",
   "id": "24cd46d9",
   "metadata": {
    "papermill": {
     "duration": 0.032674,
     "end_time": "2023-11-28T04:07:54.679361",
     "exception": false,
     "start_time": "2023-11-28T04:07:54.646687",
     "status": "completed"
    },
    "tags": []
   },
   "source": [
    "## Feature Selection:-"
   ]
  },
  {
   "cell_type": "markdown",
   "id": "64abdf56",
   "metadata": {
    "papermill": {
     "duration": 0.03241,
     "end_time": "2023-11-28T04:07:54.745204",
     "exception": false,
     "start_time": "2023-11-28T04:07:54.712794",
     "status": "completed"
    },
    "tags": []
   },
   "source": [
    "## Relation between features"
   ]
  },
  {
   "cell_type": "code",
   "execution_count": 54,
   "id": "cf569a6c",
   "metadata": {
    "execution": {
     "iopub.execute_input": "2023-11-28T04:07:54.813914Z",
     "iopub.status.busy": "2023-11-28T04:07:54.813543Z",
     "iopub.status.idle": "2023-11-28T04:07:54.978810Z",
     "shell.execute_reply": "2023-11-28T04:07:54.977720Z"
    },
    "papermill": {
     "duration": 0.202723,
     "end_time": "2023-11-28T04:07:54.980969",
     "exception": false,
     "start_time": "2023-11-28T04:07:54.778246",
     "status": "completed"
    },
    "tags": []
   },
   "outputs": [
    {
     "data": {
      "text/html": [
       "<div>\n",
       "<style scoped>\n",
       "    .dataframe tbody tr th:only-of-type {\n",
       "        vertical-align: middle;\n",
       "    }\n",
       "\n",
       "    .dataframe tbody tr th {\n",
       "        vertical-align: top;\n",
       "    }\n",
       "\n",
       "    .dataframe thead th {\n",
       "        text-align: right;\n",
       "    }\n",
       "</style>\n",
       "<table border=\"1\" class=\"dataframe\">\n",
       "  <thead>\n",
       "    <tr style=\"text-align: right;\">\n",
       "      <th></th>\n",
       "      <th>VendorID</th>\n",
       "      <th>passenger_count</th>\n",
       "      <th>trip_distance</th>\n",
       "      <th>RatecodeID</th>\n",
       "      <th>store_and_fwd_flag</th>\n",
       "      <th>PULocationID</th>\n",
       "      <th>DOLocationID</th>\n",
       "      <th>extra</th>\n",
       "      <th>tip_amount</th>\n",
       "      <th>tolls_amount</th>\n",
       "      <th>improvement_surcharge</th>\n",
       "      <th>total_amount</th>\n",
       "      <th>congestion_surcharge</th>\n",
       "      <th>Airport_fee</th>\n",
       "      <th>total_time_taken_in_minutes</th>\n",
       "      <th>payment_type_Cash</th>\n",
       "      <th>payment_type_Credit Card</th>\n",
       "      <th>payment_type_UPI</th>\n",
       "      <th>payment_type_Wallet</th>\n",
       "      <th>payment_type_unknown</th>\n",
       "    </tr>\n",
       "  </thead>\n",
       "  <tbody>\n",
       "    <tr>\n",
       "      <th>VendorID</th>\n",
       "      <td>1.000000</td>\n",
       "      <td>0.095558</td>\n",
       "      <td>0.002857</td>\n",
       "      <td>-0.105150</td>\n",
       "      <td>0.005747</td>\n",
       "      <td>-0.001315</td>\n",
       "      <td>-0.003946</td>\n",
       "      <td>-0.530096</td>\n",
       "      <td>0.043941</td>\n",
       "      <td>0.023642</td>\n",
       "      <td>-0.063197</td>\n",
       "      <td>0.039695</td>\n",
       "      <td>-2.311807e-02</td>\n",
       "      <td>3.589733e-02</td>\n",
       "      <td>0.007247</td>\n",
       "      <td>-0.008457</td>\n",
       "      <td>-0.007900</td>\n",
       "      <td>-0.051798</td>\n",
       "      <td>3.422635e-02</td>\n",
       "      <td>0.039212</td>\n",
       "    </tr>\n",
       "    <tr>\n",
       "      <th>passenger_count</th>\n",
       "      <td>0.095558</td>\n",
       "      <td>1.000000</td>\n",
       "      <td>-0.000859</td>\n",
       "      <td>-0.022453</td>\n",
       "      <td>-0.076349</td>\n",
       "      <td>-0.001008</td>\n",
       "      <td>-0.000739</td>\n",
       "      <td>-0.026599</td>\n",
       "      <td>0.015791</td>\n",
       "      <td>0.037293</td>\n",
       "      <td>-0.003627</td>\n",
       "      <td>0.048871</td>\n",
       "      <td>-2.259466e-03</td>\n",
       "      <td>4.067200e-02</td>\n",
       "      <td>0.010894</td>\n",
       "      <td>0.047250</td>\n",
       "      <td>-0.008037</td>\n",
       "      <td>-0.007322</td>\n",
       "      <td>-7.457483e-02</td>\n",
       "      <td>-0.001900</td>\n",
       "    </tr>\n",
       "    <tr>\n",
       "      <th>trip_distance</th>\n",
       "      <td>0.002857</td>\n",
       "      <td>-0.000859</td>\n",
       "      <td>1.000000</td>\n",
       "      <td>0.000590</td>\n",
       "      <td>0.019133</td>\n",
       "      <td>-0.000958</td>\n",
       "      <td>-0.002496</td>\n",
       "      <td>-0.001849</td>\n",
       "      <td>0.005847</td>\n",
       "      <td>0.006778</td>\n",
       "      <td>0.000459</td>\n",
       "      <td>0.009911</td>\n",
       "      <td>-3.638501e-03</td>\n",
       "      <td>7.544145e-03</td>\n",
       "      <td>0.003331</td>\n",
       "      <td>-0.001629</td>\n",
       "      <td>-0.006867</td>\n",
       "      <td>-0.000596</td>\n",
       "      <td>1.963892e-02</td>\n",
       "      <td>-0.000476</td>\n",
       "    </tr>\n",
       "    <tr>\n",
       "      <th>RatecodeID</th>\n",
       "      <td>-0.105150</td>\n",
       "      <td>-0.022453</td>\n",
       "      <td>0.000590</td>\n",
       "      <td>1.000000</td>\n",
       "      <td>-0.015494</td>\n",
       "      <td>-0.001111</td>\n",
       "      <td>-0.000638</td>\n",
       "      <td>-0.067298</td>\n",
       "      <td>-0.031870</td>\n",
       "      <td>0.060594</td>\n",
       "      <td>0.002404</td>\n",
       "      <td>0.054034</td>\n",
       "      <td>-1.975865e-01</td>\n",
       "      <td>-4.479027e-03</td>\n",
       "      <td>0.021476</td>\n",
       "      <td>-0.029337</td>\n",
       "      <td>0.035150</td>\n",
       "      <td>-0.003488</td>\n",
       "      <td>-1.482427e-02</td>\n",
       "      <td>-0.005653</td>\n",
       "    </tr>\n",
       "    <tr>\n",
       "      <th>store_and_fwd_flag</th>\n",
       "      <td>0.005747</td>\n",
       "      <td>-0.076349</td>\n",
       "      <td>0.019133</td>\n",
       "      <td>-0.015494</td>\n",
       "      <td>1.000000</td>\n",
       "      <td>0.002730</td>\n",
       "      <td>0.000688</td>\n",
       "      <td>-0.146801</td>\n",
       "      <td>0.011061</td>\n",
       "      <td>0.049430</td>\n",
       "      <td>0.012537</td>\n",
       "      <td>0.043442</td>\n",
       "      <td>8.763901e-05</td>\n",
       "      <td>-1.029230e-03</td>\n",
       "      <td>0.004529</td>\n",
       "      <td>-0.080555</td>\n",
       "      <td>-0.345523</td>\n",
       "      <td>-0.010758</td>\n",
       "      <td>9.754886e-01</td>\n",
       "      <td>-0.022105</td>\n",
       "    </tr>\n",
       "    <tr>\n",
       "      <th>PULocationID</th>\n",
       "      <td>-0.001315</td>\n",
       "      <td>-0.001008</td>\n",
       "      <td>-0.000958</td>\n",
       "      <td>-0.001111</td>\n",
       "      <td>0.002730</td>\n",
       "      <td>1.000000</td>\n",
       "      <td>-0.000161</td>\n",
       "      <td>0.001495</td>\n",
       "      <td>0.000748</td>\n",
       "      <td>-0.000868</td>\n",
       "      <td>-0.000501</td>\n",
       "      <td>0.000715</td>\n",
       "      <td>1.172606e-03</td>\n",
       "      <td>-6.421522e-04</td>\n",
       "      <td>-0.004954</td>\n",
       "      <td>-0.001645</td>\n",
       "      <td>0.000875</td>\n",
       "      <td>-0.002799</td>\n",
       "      <td>2.717544e-03</td>\n",
       "      <td>-0.000111</td>\n",
       "    </tr>\n",
       "    <tr>\n",
       "      <th>DOLocationID</th>\n",
       "      <td>-0.003946</td>\n",
       "      <td>-0.000739</td>\n",
       "      <td>-0.002496</td>\n",
       "      <td>-0.000638</td>\n",
       "      <td>0.000688</td>\n",
       "      <td>-0.000161</td>\n",
       "      <td>1.000000</td>\n",
       "      <td>0.002955</td>\n",
       "      <td>-0.000247</td>\n",
       "      <td>-0.002290</td>\n",
       "      <td>-0.002810</td>\n",
       "      <td>-0.002954</td>\n",
       "      <td>6.295487e-04</td>\n",
       "      <td>-4.853102e-03</td>\n",
       "      <td>-0.003552</td>\n",
       "      <td>-0.000891</td>\n",
       "      <td>0.000858</td>\n",
       "      <td>-0.000372</td>\n",
       "      <td>3.758093e-04</td>\n",
       "      <td>-0.000533</td>\n",
       "    </tr>\n",
       "    <tr>\n",
       "      <th>extra</th>\n",
       "      <td>-0.530096</td>\n",
       "      <td>-0.026599</td>\n",
       "      <td>-0.001849</td>\n",
       "      <td>-0.067298</td>\n",
       "      <td>-0.146801</td>\n",
       "      <td>0.001495</td>\n",
       "      <td>0.002955</td>\n",
       "      <td>1.000000</td>\n",
       "      <td>0.160331</td>\n",
       "      <td>0.201179</td>\n",
       "      <td>0.170831</td>\n",
       "      <td>0.234346</td>\n",
       "      <td>6.693905e-02</td>\n",
       "      <td>3.317608e-01</td>\n",
       "      <td>0.021034</td>\n",
       "      <td>-0.011930</td>\n",
       "      <td>0.109485</td>\n",
       "      <td>-0.005299</td>\n",
       "      <td>-1.656459e-01</td>\n",
       "      <td>-0.092442</td>\n",
       "    </tr>\n",
       "    <tr>\n",
       "      <th>tip_amount</th>\n",
       "      <td>0.043941</td>\n",
       "      <td>0.015791</td>\n",
       "      <td>0.005847</td>\n",
       "      <td>-0.031870</td>\n",
       "      <td>0.011061</td>\n",
       "      <td>0.000748</td>\n",
       "      <td>-0.000247</td>\n",
       "      <td>0.160331</td>\n",
       "      <td>1.000000</td>\n",
       "      <td>0.411588</td>\n",
       "      <td>0.076436</td>\n",
       "      <td>0.638658</td>\n",
       "      <td>-5.840602e-02</td>\n",
       "      <td>3.302989e-01</td>\n",
       "      <td>0.070232</td>\n",
       "      <td>-0.357937</td>\n",
       "      <td>0.353540</td>\n",
       "      <td>-0.064283</td>\n",
       "      <td>1.427204e-02</td>\n",
       "      <td>-0.089749</td>\n",
       "    </tr>\n",
       "    <tr>\n",
       "      <th>tolls_amount</th>\n",
       "      <td>0.023642</td>\n",
       "      <td>0.037293</td>\n",
       "      <td>0.006778</td>\n",
       "      <td>0.060594</td>\n",
       "      <td>0.049430</td>\n",
       "      <td>-0.000868</td>\n",
       "      <td>-0.002290</td>\n",
       "      <td>0.201179</td>\n",
       "      <td>0.411588</td>\n",
       "      <td>1.000000</td>\n",
       "      <td>0.051190</td>\n",
       "      <td>0.684765</td>\n",
       "      <td>-1.293717e-01</td>\n",
       "      <td>4.212003e-01</td>\n",
       "      <td>0.088194</td>\n",
       "      <td>-0.009658</td>\n",
       "      <td>-0.002890</td>\n",
       "      <td>-0.013477</td>\n",
       "      <td>5.152035e-02</td>\n",
       "      <td>-0.030225</td>\n",
       "    </tr>\n",
       "    <tr>\n",
       "      <th>improvement_surcharge</th>\n",
       "      <td>-0.063197</td>\n",
       "      <td>-0.003627</td>\n",
       "      <td>0.000459</td>\n",
       "      <td>0.002404</td>\n",
       "      <td>0.012537</td>\n",
       "      <td>-0.000501</td>\n",
       "      <td>-0.002810</td>\n",
       "      <td>0.170831</td>\n",
       "      <td>0.076436</td>\n",
       "      <td>0.051190</td>\n",
       "      <td>1.000000</td>\n",
       "      <td>0.224036</td>\n",
       "      <td>5.271396e-01</td>\n",
       "      <td>8.350633e-02</td>\n",
       "      <td>0.002122</td>\n",
       "      <td>-0.017853</td>\n",
       "      <td>0.186086</td>\n",
       "      <td>-0.185869</td>\n",
       "      <td>1.129475e-02</td>\n",
       "      <td>-0.505727</td>\n",
       "    </tr>\n",
       "    <tr>\n",
       "      <th>total_amount</th>\n",
       "      <td>0.039695</td>\n",
       "      <td>0.048871</td>\n",
       "      <td>0.009911</td>\n",
       "      <td>0.054034</td>\n",
       "      <td>0.043442</td>\n",
       "      <td>0.000715</td>\n",
       "      <td>-0.002954</td>\n",
       "      <td>0.234346</td>\n",
       "      <td>0.638658</td>\n",
       "      <td>0.684765</td>\n",
       "      <td>0.224036</td>\n",
       "      <td>1.000000</td>\n",
       "      <td>-1.456267e-01</td>\n",
       "      <td>5.891778e-01</td>\n",
       "      <td>0.125422</td>\n",
       "      <td>-0.067062</td>\n",
       "      <td>0.085099</td>\n",
       "      <td>-0.055895</td>\n",
       "      <td>4.608672e-02</td>\n",
       "      <td>-0.123569</td>\n",
       "    </tr>\n",
       "    <tr>\n",
       "      <th>congestion_surcharge</th>\n",
       "      <td>-0.023118</td>\n",
       "      <td>-0.002259</td>\n",
       "      <td>-0.003639</td>\n",
       "      <td>-0.197587</td>\n",
       "      <td>0.000088</td>\n",
       "      <td>0.001173</td>\n",
       "      <td>0.000630</td>\n",
       "      <td>0.066939</td>\n",
       "      <td>-0.058406</td>\n",
       "      <td>-0.129372</td>\n",
       "      <td>0.527140</td>\n",
       "      <td>-0.145627</td>\n",
       "      <td>1.000000e+00</td>\n",
       "      <td>-3.360119e-01</td>\n",
       "      <td>-0.029041</td>\n",
       "      <td>-0.084114</td>\n",
       "      <td>0.181051</td>\n",
       "      <td>-0.130202</td>\n",
       "      <td>-2.378073e-17</td>\n",
       "      <td>-0.291082</td>\n",
       "    </tr>\n",
       "    <tr>\n",
       "      <th>Airport_fee</th>\n",
       "      <td>0.035897</td>\n",
       "      <td>0.040672</td>\n",
       "      <td>0.007544</td>\n",
       "      <td>-0.004479</td>\n",
       "      <td>-0.001029</td>\n",
       "      <td>-0.000642</td>\n",
       "      <td>-0.004853</td>\n",
       "      <td>0.331761</td>\n",
       "      <td>0.330299</td>\n",
       "      <td>0.421200</td>\n",
       "      <td>0.083506</td>\n",
       "      <td>0.589178</td>\n",
       "      <td>-3.360119e-01</td>\n",
       "      <td>1.000000e+00</td>\n",
       "      <td>0.075944</td>\n",
       "      <td>0.044096</td>\n",
       "      <td>-0.029637</td>\n",
       "      <td>-0.006812</td>\n",
       "      <td>-4.885785e-18</td>\n",
       "      <td>-0.032023</td>\n",
       "    </tr>\n",
       "    <tr>\n",
       "      <th>total_time_taken_in_minutes</th>\n",
       "      <td>0.007247</td>\n",
       "      <td>0.010894</td>\n",
       "      <td>0.003331</td>\n",
       "      <td>0.021476</td>\n",
       "      <td>0.004529</td>\n",
       "      <td>-0.004954</td>\n",
       "      <td>-0.003552</td>\n",
       "      <td>0.021034</td>\n",
       "      <td>0.070232</td>\n",
       "      <td>0.088194</td>\n",
       "      <td>0.002122</td>\n",
       "      <td>0.125422</td>\n",
       "      <td>-2.904139e-02</td>\n",
       "      <td>7.594446e-02</td>\n",
       "      <td>1.000000</td>\n",
       "      <td>-0.000307</td>\n",
       "      <td>-0.000176</td>\n",
       "      <td>-0.004073</td>\n",
       "      <td>4.770023e-03</td>\n",
       "      <td>-0.003043</td>\n",
       "    </tr>\n",
       "    <tr>\n",
       "      <th>payment_type_Cash</th>\n",
       "      <td>-0.008457</td>\n",
       "      <td>0.047250</td>\n",
       "      <td>-0.001629</td>\n",
       "      <td>-0.029337</td>\n",
       "      <td>-0.080555</td>\n",
       "      <td>-0.001645</td>\n",
       "      <td>-0.000891</td>\n",
       "      <td>-0.011930</td>\n",
       "      <td>-0.357937</td>\n",
       "      <td>-0.009658</td>\n",
       "      <td>-0.017853</td>\n",
       "      <td>-0.067062</td>\n",
       "      <td>-8.411379e-02</td>\n",
       "      <td>4.409563e-02</td>\n",
       "      <td>-0.000307</td>\n",
       "      <td>1.000000</td>\n",
       "      <td>-0.841503</td>\n",
       "      <td>-0.037775</td>\n",
       "      <td>-8.651797e-02</td>\n",
       "      <td>-0.053022</td>\n",
       "    </tr>\n",
       "    <tr>\n",
       "      <th>payment_type_Credit Card</th>\n",
       "      <td>-0.007900</td>\n",
       "      <td>-0.008037</td>\n",
       "      <td>-0.006867</td>\n",
       "      <td>0.035150</td>\n",
       "      <td>-0.345523</td>\n",
       "      <td>0.000875</td>\n",
       "      <td>0.000858</td>\n",
       "      <td>0.109485</td>\n",
       "      <td>0.353540</td>\n",
       "      <td>-0.002890</td>\n",
       "      <td>0.186086</td>\n",
       "      <td>0.085099</td>\n",
       "      <td>1.810512e-01</td>\n",
       "      <td>-2.963723e-02</td>\n",
       "      <td>-0.000176</td>\n",
       "      <td>-0.841503</td>\n",
       "      <td>1.000000</td>\n",
       "      <td>-0.152775</td>\n",
       "      <td>-3.499047e-01</td>\n",
       "      <td>-0.214438</td>\n",
       "    </tr>\n",
       "    <tr>\n",
       "      <th>payment_type_UPI</th>\n",
       "      <td>-0.051798</td>\n",
       "      <td>-0.007322</td>\n",
       "      <td>-0.000596</td>\n",
       "      <td>-0.003488</td>\n",
       "      <td>-0.010758</td>\n",
       "      <td>-0.002799</td>\n",
       "      <td>-0.000372</td>\n",
       "      <td>-0.005299</td>\n",
       "      <td>-0.064283</td>\n",
       "      <td>-0.013477</td>\n",
       "      <td>-0.185869</td>\n",
       "      <td>-0.055895</td>\n",
       "      <td>-1.302020e-01</td>\n",
       "      <td>-6.812100e-03</td>\n",
       "      <td>-0.004073</td>\n",
       "      <td>-0.037775</td>\n",
       "      <td>-0.152775</td>\n",
       "      <td>1.000000</td>\n",
       "      <td>-1.570737e-02</td>\n",
       "      <td>-0.009626</td>\n",
       "    </tr>\n",
       "    <tr>\n",
       "      <th>payment_type_Wallet</th>\n",
       "      <td>0.034226</td>\n",
       "      <td>-0.074575</td>\n",
       "      <td>0.019639</td>\n",
       "      <td>-0.014824</td>\n",
       "      <td>0.975489</td>\n",
       "      <td>0.002718</td>\n",
       "      <td>0.000376</td>\n",
       "      <td>-0.165646</td>\n",
       "      <td>0.014272</td>\n",
       "      <td>0.051520</td>\n",
       "      <td>0.011295</td>\n",
       "      <td>0.046087</td>\n",
       "      <td>-2.378073e-17</td>\n",
       "      <td>-4.885785e-18</td>\n",
       "      <td>0.004770</td>\n",
       "      <td>-0.086518</td>\n",
       "      <td>-0.349905</td>\n",
       "      <td>-0.015707</td>\n",
       "      <td>1.000000e+00</td>\n",
       "      <td>-0.022047</td>\n",
       "    </tr>\n",
       "    <tr>\n",
       "      <th>payment_type_unknown</th>\n",
       "      <td>0.039212</td>\n",
       "      <td>-0.001900</td>\n",
       "      <td>-0.000476</td>\n",
       "      <td>-0.005653</td>\n",
       "      <td>-0.022105</td>\n",
       "      <td>-0.000111</td>\n",
       "      <td>-0.000533</td>\n",
       "      <td>-0.092442</td>\n",
       "      <td>-0.089749</td>\n",
       "      <td>-0.030225</td>\n",
       "      <td>-0.505727</td>\n",
       "      <td>-0.123569</td>\n",
       "      <td>-2.910816e-01</td>\n",
       "      <td>-3.202303e-02</td>\n",
       "      <td>-0.003043</td>\n",
       "      <td>-0.053022</td>\n",
       "      <td>-0.214438</td>\n",
       "      <td>-0.009626</td>\n",
       "      <td>-2.204717e-02</td>\n",
       "      <td>1.000000</td>\n",
       "    </tr>\n",
       "  </tbody>\n",
       "</table>\n",
       "</div>"
      ],
      "text/plain": [
       "                             VendorID  passenger_count  trip_distance  \\\n",
       "VendorID                     1.000000         0.095558       0.002857   \n",
       "passenger_count              0.095558         1.000000      -0.000859   \n",
       "trip_distance                0.002857        -0.000859       1.000000   \n",
       "RatecodeID                  -0.105150        -0.022453       0.000590   \n",
       "store_and_fwd_flag           0.005747        -0.076349       0.019133   \n",
       "PULocationID                -0.001315        -0.001008      -0.000958   \n",
       "DOLocationID                -0.003946        -0.000739      -0.002496   \n",
       "extra                       -0.530096        -0.026599      -0.001849   \n",
       "tip_amount                   0.043941         0.015791       0.005847   \n",
       "tolls_amount                 0.023642         0.037293       0.006778   \n",
       "improvement_surcharge       -0.063197        -0.003627       0.000459   \n",
       "total_amount                 0.039695         0.048871       0.009911   \n",
       "congestion_surcharge        -0.023118        -0.002259      -0.003639   \n",
       "Airport_fee                  0.035897         0.040672       0.007544   \n",
       "total_time_taken_in_minutes  0.007247         0.010894       0.003331   \n",
       "payment_type_Cash           -0.008457         0.047250      -0.001629   \n",
       "payment_type_Credit Card    -0.007900        -0.008037      -0.006867   \n",
       "payment_type_UPI            -0.051798        -0.007322      -0.000596   \n",
       "payment_type_Wallet          0.034226        -0.074575       0.019639   \n",
       "payment_type_unknown         0.039212        -0.001900      -0.000476   \n",
       "\n",
       "                             RatecodeID  store_and_fwd_flag  PULocationID  \\\n",
       "VendorID                      -0.105150            0.005747     -0.001315   \n",
       "passenger_count               -0.022453           -0.076349     -0.001008   \n",
       "trip_distance                  0.000590            0.019133     -0.000958   \n",
       "RatecodeID                     1.000000           -0.015494     -0.001111   \n",
       "store_and_fwd_flag            -0.015494            1.000000      0.002730   \n",
       "PULocationID                  -0.001111            0.002730      1.000000   \n",
       "DOLocationID                  -0.000638            0.000688     -0.000161   \n",
       "extra                         -0.067298           -0.146801      0.001495   \n",
       "tip_amount                    -0.031870            0.011061      0.000748   \n",
       "tolls_amount                   0.060594            0.049430     -0.000868   \n",
       "improvement_surcharge          0.002404            0.012537     -0.000501   \n",
       "total_amount                   0.054034            0.043442      0.000715   \n",
       "congestion_surcharge          -0.197587            0.000088      0.001173   \n",
       "Airport_fee                   -0.004479           -0.001029     -0.000642   \n",
       "total_time_taken_in_minutes    0.021476            0.004529     -0.004954   \n",
       "payment_type_Cash             -0.029337           -0.080555     -0.001645   \n",
       "payment_type_Credit Card       0.035150           -0.345523      0.000875   \n",
       "payment_type_UPI              -0.003488           -0.010758     -0.002799   \n",
       "payment_type_Wallet           -0.014824            0.975489      0.002718   \n",
       "payment_type_unknown          -0.005653           -0.022105     -0.000111   \n",
       "\n",
       "                             DOLocationID     extra  tip_amount  tolls_amount  \\\n",
       "VendorID                        -0.003946 -0.530096    0.043941      0.023642   \n",
       "passenger_count                 -0.000739 -0.026599    0.015791      0.037293   \n",
       "trip_distance                   -0.002496 -0.001849    0.005847      0.006778   \n",
       "RatecodeID                      -0.000638 -0.067298   -0.031870      0.060594   \n",
       "store_and_fwd_flag               0.000688 -0.146801    0.011061      0.049430   \n",
       "PULocationID                    -0.000161  0.001495    0.000748     -0.000868   \n",
       "DOLocationID                     1.000000  0.002955   -0.000247     -0.002290   \n",
       "extra                            0.002955  1.000000    0.160331      0.201179   \n",
       "tip_amount                      -0.000247  0.160331    1.000000      0.411588   \n",
       "tolls_amount                    -0.002290  0.201179    0.411588      1.000000   \n",
       "improvement_surcharge           -0.002810  0.170831    0.076436      0.051190   \n",
       "total_amount                    -0.002954  0.234346    0.638658      0.684765   \n",
       "congestion_surcharge             0.000630  0.066939   -0.058406     -0.129372   \n",
       "Airport_fee                     -0.004853  0.331761    0.330299      0.421200   \n",
       "total_time_taken_in_minutes     -0.003552  0.021034    0.070232      0.088194   \n",
       "payment_type_Cash               -0.000891 -0.011930   -0.357937     -0.009658   \n",
       "payment_type_Credit Card         0.000858  0.109485    0.353540     -0.002890   \n",
       "payment_type_UPI                -0.000372 -0.005299   -0.064283     -0.013477   \n",
       "payment_type_Wallet              0.000376 -0.165646    0.014272      0.051520   \n",
       "payment_type_unknown            -0.000533 -0.092442   -0.089749     -0.030225   \n",
       "\n",
       "                             improvement_surcharge  total_amount  \\\n",
       "VendorID                                 -0.063197      0.039695   \n",
       "passenger_count                          -0.003627      0.048871   \n",
       "trip_distance                             0.000459      0.009911   \n",
       "RatecodeID                                0.002404      0.054034   \n",
       "store_and_fwd_flag                        0.012537      0.043442   \n",
       "PULocationID                             -0.000501      0.000715   \n",
       "DOLocationID                             -0.002810     -0.002954   \n",
       "extra                                     0.170831      0.234346   \n",
       "tip_amount                                0.076436      0.638658   \n",
       "tolls_amount                              0.051190      0.684765   \n",
       "improvement_surcharge                     1.000000      0.224036   \n",
       "total_amount                              0.224036      1.000000   \n",
       "congestion_surcharge                      0.527140     -0.145627   \n",
       "Airport_fee                               0.083506      0.589178   \n",
       "total_time_taken_in_minutes               0.002122      0.125422   \n",
       "payment_type_Cash                        -0.017853     -0.067062   \n",
       "payment_type_Credit Card                  0.186086      0.085099   \n",
       "payment_type_UPI                         -0.185869     -0.055895   \n",
       "payment_type_Wallet                       0.011295      0.046087   \n",
       "payment_type_unknown                     -0.505727     -0.123569   \n",
       "\n",
       "                             congestion_surcharge   Airport_fee  \\\n",
       "VendorID                            -2.311807e-02  3.589733e-02   \n",
       "passenger_count                     -2.259466e-03  4.067200e-02   \n",
       "trip_distance                       -3.638501e-03  7.544145e-03   \n",
       "RatecodeID                          -1.975865e-01 -4.479027e-03   \n",
       "store_and_fwd_flag                   8.763901e-05 -1.029230e-03   \n",
       "PULocationID                         1.172606e-03 -6.421522e-04   \n",
       "DOLocationID                         6.295487e-04 -4.853102e-03   \n",
       "extra                                6.693905e-02  3.317608e-01   \n",
       "tip_amount                          -5.840602e-02  3.302989e-01   \n",
       "tolls_amount                        -1.293717e-01  4.212003e-01   \n",
       "improvement_surcharge                5.271396e-01  8.350633e-02   \n",
       "total_amount                        -1.456267e-01  5.891778e-01   \n",
       "congestion_surcharge                 1.000000e+00 -3.360119e-01   \n",
       "Airport_fee                         -3.360119e-01  1.000000e+00   \n",
       "total_time_taken_in_minutes         -2.904139e-02  7.594446e-02   \n",
       "payment_type_Cash                   -8.411379e-02  4.409563e-02   \n",
       "payment_type_Credit Card             1.810512e-01 -2.963723e-02   \n",
       "payment_type_UPI                    -1.302020e-01 -6.812100e-03   \n",
       "payment_type_Wallet                 -2.378073e-17 -4.885785e-18   \n",
       "payment_type_unknown                -2.910816e-01 -3.202303e-02   \n",
       "\n",
       "                             total_time_taken_in_minutes  payment_type_Cash  \\\n",
       "VendorID                                        0.007247          -0.008457   \n",
       "passenger_count                                 0.010894           0.047250   \n",
       "trip_distance                                   0.003331          -0.001629   \n",
       "RatecodeID                                      0.021476          -0.029337   \n",
       "store_and_fwd_flag                              0.004529          -0.080555   \n",
       "PULocationID                                   -0.004954          -0.001645   \n",
       "DOLocationID                                   -0.003552          -0.000891   \n",
       "extra                                           0.021034          -0.011930   \n",
       "tip_amount                                      0.070232          -0.357937   \n",
       "tolls_amount                                    0.088194          -0.009658   \n",
       "improvement_surcharge                           0.002122          -0.017853   \n",
       "total_amount                                    0.125422          -0.067062   \n",
       "congestion_surcharge                           -0.029041          -0.084114   \n",
       "Airport_fee                                     0.075944           0.044096   \n",
       "total_time_taken_in_minutes                     1.000000          -0.000307   \n",
       "payment_type_Cash                              -0.000307           1.000000   \n",
       "payment_type_Credit Card                       -0.000176          -0.841503   \n",
       "payment_type_UPI                               -0.004073          -0.037775   \n",
       "payment_type_Wallet                             0.004770          -0.086518   \n",
       "payment_type_unknown                           -0.003043          -0.053022   \n",
       "\n",
       "                             payment_type_Credit Card  payment_type_UPI  \\\n",
       "VendorID                                    -0.007900         -0.051798   \n",
       "passenger_count                             -0.008037         -0.007322   \n",
       "trip_distance                               -0.006867         -0.000596   \n",
       "RatecodeID                                   0.035150         -0.003488   \n",
       "store_and_fwd_flag                          -0.345523         -0.010758   \n",
       "PULocationID                                 0.000875         -0.002799   \n",
       "DOLocationID                                 0.000858         -0.000372   \n",
       "extra                                        0.109485         -0.005299   \n",
       "tip_amount                                   0.353540         -0.064283   \n",
       "tolls_amount                                -0.002890         -0.013477   \n",
       "improvement_surcharge                        0.186086         -0.185869   \n",
       "total_amount                                 0.085099         -0.055895   \n",
       "congestion_surcharge                         0.181051         -0.130202   \n",
       "Airport_fee                                 -0.029637         -0.006812   \n",
       "total_time_taken_in_minutes                 -0.000176         -0.004073   \n",
       "payment_type_Cash                           -0.841503         -0.037775   \n",
       "payment_type_Credit Card                     1.000000         -0.152775   \n",
       "payment_type_UPI                            -0.152775          1.000000   \n",
       "payment_type_Wallet                         -0.349905         -0.015707   \n",
       "payment_type_unknown                        -0.214438         -0.009626   \n",
       "\n",
       "                             payment_type_Wallet  payment_type_unknown  \n",
       "VendorID                            3.422635e-02              0.039212  \n",
       "passenger_count                    -7.457483e-02             -0.001900  \n",
       "trip_distance                       1.963892e-02             -0.000476  \n",
       "RatecodeID                         -1.482427e-02             -0.005653  \n",
       "store_and_fwd_flag                  9.754886e-01             -0.022105  \n",
       "PULocationID                        2.717544e-03             -0.000111  \n",
       "DOLocationID                        3.758093e-04             -0.000533  \n",
       "extra                              -1.656459e-01             -0.092442  \n",
       "tip_amount                          1.427204e-02             -0.089749  \n",
       "tolls_amount                        5.152035e-02             -0.030225  \n",
       "improvement_surcharge               1.129475e-02             -0.505727  \n",
       "total_amount                        4.608672e-02             -0.123569  \n",
       "congestion_surcharge               -2.378073e-17             -0.291082  \n",
       "Airport_fee                        -4.885785e-18             -0.032023  \n",
       "total_time_taken_in_minutes         4.770023e-03             -0.003043  \n",
       "payment_type_Cash                  -8.651797e-02             -0.053022  \n",
       "payment_type_Credit Card           -3.499047e-01             -0.214438  \n",
       "payment_type_UPI                   -1.570737e-02             -0.009626  \n",
       "payment_type_Wallet                 1.000000e+00             -0.022047  \n",
       "payment_type_unknown               -2.204717e-02              1.000000  "
      ]
     },
     "execution_count": 54,
     "metadata": {},
     "output_type": "execute_result"
    }
   ],
   "source": [
    "corr_train = df_train.corr(method=\"pearson\", numeric_only=True)\n",
    "corr_train"
   ]
  },
  {
   "cell_type": "code",
   "execution_count": 55,
   "id": "5966b935",
   "metadata": {
    "execution": {
     "iopub.execute_input": "2023-11-28T04:07:55.053331Z",
     "iopub.status.busy": "2023-11-28T04:07:55.053000Z",
     "iopub.status.idle": "2023-11-28T04:07:55.113906Z",
     "shell.execute_reply": "2023-11-28T04:07:55.112940Z"
    },
    "papermill": {
     "duration": 0.097993,
     "end_time": "2023-11-28T04:07:55.115705",
     "exception": false,
     "start_time": "2023-11-28T04:07:55.017712",
     "status": "completed"
    },
    "tags": []
   },
   "outputs": [
    {
     "data": {
      "text/html": [
       "<div>\n",
       "<style scoped>\n",
       "    .dataframe tbody tr th:only-of-type {\n",
       "        vertical-align: middle;\n",
       "    }\n",
       "\n",
       "    .dataframe tbody tr th {\n",
       "        vertical-align: top;\n",
       "    }\n",
       "\n",
       "    .dataframe thead th {\n",
       "        text-align: right;\n",
       "    }\n",
       "</style>\n",
       "<table border=\"1\" class=\"dataframe\">\n",
       "  <thead>\n",
       "    <tr style=\"text-align: right;\">\n",
       "      <th></th>\n",
       "      <th>VendorID</th>\n",
       "      <th>passenger_count</th>\n",
       "      <th>trip_distance</th>\n",
       "      <th>RatecodeID</th>\n",
       "      <th>store_and_fwd_flag</th>\n",
       "      <th>PULocationID</th>\n",
       "      <th>DOLocationID</th>\n",
       "      <th>extra</th>\n",
       "      <th>tip_amount</th>\n",
       "      <th>tolls_amount</th>\n",
       "      <th>improvement_surcharge</th>\n",
       "      <th>congestion_surcharge</th>\n",
       "      <th>Airport_fee</th>\n",
       "      <th>total_time_taken_in_minutes</th>\n",
       "      <th>payment_type_Cash</th>\n",
       "      <th>payment_type_Credit Card</th>\n",
       "      <th>payment_type_UPI</th>\n",
       "      <th>payment_type_Wallet</th>\n",
       "      <th>payment_type_unknown</th>\n",
       "    </tr>\n",
       "  </thead>\n",
       "  <tbody>\n",
       "    <tr>\n",
       "      <th>VendorID</th>\n",
       "      <td>1.000000</td>\n",
       "      <td>0.097439</td>\n",
       "      <td>0.005574</td>\n",
       "      <td>-0.111861</td>\n",
       "      <td>0.005753</td>\n",
       "      <td>0.000709</td>\n",
       "      <td>-0.002167</td>\n",
       "      <td>-0.529794</td>\n",
       "      <td>0.039675</td>\n",
       "      <td>0.018194</td>\n",
       "      <td>-0.059925</td>\n",
       "      <td>-0.016662</td>\n",
       "      <td>0.036549</td>\n",
       "      <td>0.012967</td>\n",
       "      <td>-0.003489</td>\n",
       "      <td>-0.013045</td>\n",
       "      <td>-0.043678</td>\n",
       "      <td>0.033716</td>\n",
       "      <td>0.034701</td>\n",
       "    </tr>\n",
       "    <tr>\n",
       "      <th>passenger_count</th>\n",
       "      <td>0.097439</td>\n",
       "      <td>1.000000</td>\n",
       "      <td>0.001535</td>\n",
       "      <td>-0.024586</td>\n",
       "      <td>-0.078770</td>\n",
       "      <td>-0.005472</td>\n",
       "      <td>0.002738</td>\n",
       "      <td>-0.028918</td>\n",
       "      <td>0.022905</td>\n",
       "      <td>0.047926</td>\n",
       "      <td>-0.005925</td>\n",
       "      <td>-0.003956</td>\n",
       "      <td>0.039221</td>\n",
       "      <td>0.012471</td>\n",
       "      <td>0.052487</td>\n",
       "      <td>-0.012707</td>\n",
       "      <td>-0.004728</td>\n",
       "      <td>-0.076583</td>\n",
       "      <td>0.000847</td>\n",
       "    </tr>\n",
       "    <tr>\n",
       "      <th>trip_distance</th>\n",
       "      <td>0.005574</td>\n",
       "      <td>0.001535</td>\n",
       "      <td>1.000000</td>\n",
       "      <td>0.004132</td>\n",
       "      <td>0.026254</td>\n",
       "      <td>-0.007497</td>\n",
       "      <td>-0.001611</td>\n",
       "      <td>0.004721</td>\n",
       "      <td>0.032305</td>\n",
       "      <td>0.038315</td>\n",
       "      <td>0.000209</td>\n",
       "      <td>-0.016925</td>\n",
       "      <td>0.037548</td>\n",
       "      <td>0.014328</td>\n",
       "      <td>-0.001619</td>\n",
       "      <td>-0.009998</td>\n",
       "      <td>-0.001778</td>\n",
       "      <td>0.026897</td>\n",
       "      <td>-0.000407</td>\n",
       "    </tr>\n",
       "    <tr>\n",
       "      <th>RatecodeID</th>\n",
       "      <td>-0.111861</td>\n",
       "      <td>-0.024586</td>\n",
       "      <td>0.004132</td>\n",
       "      <td>1.000000</td>\n",
       "      <td>-0.014845</td>\n",
       "      <td>0.014217</td>\n",
       "      <td>0.000106</td>\n",
       "      <td>-0.070897</td>\n",
       "      <td>-0.038488</td>\n",
       "      <td>0.071767</td>\n",
       "      <td>0.000636</td>\n",
       "      <td>-0.211891</td>\n",
       "      <td>-0.006808</td>\n",
       "      <td>0.019570</td>\n",
       "      <td>-0.030752</td>\n",
       "      <td>0.037038</td>\n",
       "      <td>-0.004212</td>\n",
       "      <td>-0.015555</td>\n",
       "      <td>-0.006119</td>\n",
       "    </tr>\n",
       "    <tr>\n",
       "      <th>store_and_fwd_flag</th>\n",
       "      <td>0.005753</td>\n",
       "      <td>-0.078770</td>\n",
       "      <td>0.026254</td>\n",
       "      <td>-0.014845</td>\n",
       "      <td>1.000000</td>\n",
       "      <td>0.007665</td>\n",
       "      <td>-0.001457</td>\n",
       "      <td>-0.147265</td>\n",
       "      <td>0.013758</td>\n",
       "      <td>0.049567</td>\n",
       "      <td>0.012200</td>\n",
       "      <td>-0.003382</td>\n",
       "      <td>0.001971</td>\n",
       "      <td>0.004518</td>\n",
       "      <td>-0.082532</td>\n",
       "      <td>-0.348896</td>\n",
       "      <td>-0.013678</td>\n",
       "      <td>0.976113</td>\n",
       "      <td>-0.022547</td>\n",
       "    </tr>\n",
       "    <tr>\n",
       "      <th>PULocationID</th>\n",
       "      <td>0.000709</td>\n",
       "      <td>-0.005472</td>\n",
       "      <td>-0.007497</td>\n",
       "      <td>0.014217</td>\n",
       "      <td>0.007665</td>\n",
       "      <td>1.000000</td>\n",
       "      <td>-0.009733</td>\n",
       "      <td>-0.002706</td>\n",
       "      <td>0.002805</td>\n",
       "      <td>-0.001884</td>\n",
       "      <td>0.001243</td>\n",
       "      <td>-0.009881</td>\n",
       "      <td>0.001978</td>\n",
       "      <td>-0.004706</td>\n",
       "      <td>0.002173</td>\n",
       "      <td>-0.005319</td>\n",
       "      <td>0.002523</td>\n",
       "      <td>0.007944</td>\n",
       "      <td>-0.002295</td>\n",
       "    </tr>\n",
       "    <tr>\n",
       "      <th>DOLocationID</th>\n",
       "      <td>-0.002167</td>\n",
       "      <td>0.002738</td>\n",
       "      <td>-0.001611</td>\n",
       "      <td>0.000106</td>\n",
       "      <td>-0.001457</td>\n",
       "      <td>-0.009733</td>\n",
       "      <td>1.000000</td>\n",
       "      <td>0.006109</td>\n",
       "      <td>-0.005741</td>\n",
       "      <td>0.002374</td>\n",
       "      <td>-0.001340</td>\n",
       "      <td>0.006963</td>\n",
       "      <td>-0.005498</td>\n",
       "      <td>-0.001510</td>\n",
       "      <td>-0.000109</td>\n",
       "      <td>-0.000091</td>\n",
       "      <td>-0.003949</td>\n",
       "      <td>-0.000492</td>\n",
       "      <td>0.004207</td>\n",
       "    </tr>\n",
       "    <tr>\n",
       "      <th>extra</th>\n",
       "      <td>-0.529794</td>\n",
       "      <td>-0.028918</td>\n",
       "      <td>0.004721</td>\n",
       "      <td>-0.070897</td>\n",
       "      <td>-0.147265</td>\n",
       "      <td>-0.002706</td>\n",
       "      <td>0.006109</td>\n",
       "      <td>1.000000</td>\n",
       "      <td>0.172557</td>\n",
       "      <td>0.201168</td>\n",
       "      <td>0.169193</td>\n",
       "      <td>0.064244</td>\n",
       "      <td>0.328338</td>\n",
       "      <td>0.011674</td>\n",
       "      <td>-0.015299</td>\n",
       "      <td>0.110961</td>\n",
       "      <td>-0.012832</td>\n",
       "      <td>-0.165566</td>\n",
       "      <td>-0.078578</td>\n",
       "    </tr>\n",
       "    <tr>\n",
       "      <th>tip_amount</th>\n",
       "      <td>0.039675</td>\n",
       "      <td>0.022905</td>\n",
       "      <td>0.032305</td>\n",
       "      <td>-0.038488</td>\n",
       "      <td>0.013758</td>\n",
       "      <td>0.002805</td>\n",
       "      <td>-0.005741</td>\n",
       "      <td>0.172557</td>\n",
       "      <td>1.000000</td>\n",
       "      <td>0.427782</td>\n",
       "      <td>0.079455</td>\n",
       "      <td>-0.063783</td>\n",
       "      <td>0.342019</td>\n",
       "      <td>0.068039</td>\n",
       "      <td>-0.370589</td>\n",
       "      <td>0.364801</td>\n",
       "      <td>-0.067026</td>\n",
       "      <td>0.016825</td>\n",
       "      <td>-0.094903</td>\n",
       "    </tr>\n",
       "    <tr>\n",
       "      <th>tolls_amount</th>\n",
       "      <td>0.018194</td>\n",
       "      <td>0.047926</td>\n",
       "      <td>0.038315</td>\n",
       "      <td>0.071767</td>\n",
       "      <td>0.049567</td>\n",
       "      <td>-0.001884</td>\n",
       "      <td>0.002374</td>\n",
       "      <td>0.201168</td>\n",
       "      <td>0.427782</td>\n",
       "      <td>1.000000</td>\n",
       "      <td>0.055174</td>\n",
       "      <td>-0.134870</td>\n",
       "      <td>0.411804</td>\n",
       "      <td>0.091895</td>\n",
       "      <td>-0.010484</td>\n",
       "      <td>-0.003381</td>\n",
       "      <td>-0.017380</td>\n",
       "      <td>0.049917</td>\n",
       "      <td>-0.021905</td>\n",
       "    </tr>\n",
       "    <tr>\n",
       "      <th>improvement_surcharge</th>\n",
       "      <td>-0.059925</td>\n",
       "      <td>-0.005925</td>\n",
       "      <td>0.000209</td>\n",
       "      <td>0.000636</td>\n",
       "      <td>0.012200</td>\n",
       "      <td>0.001243</td>\n",
       "      <td>-0.001340</td>\n",
       "      <td>0.169193</td>\n",
       "      <td>0.079455</td>\n",
       "      <td>0.055174</td>\n",
       "      <td>1.000000</td>\n",
       "      <td>0.513236</td>\n",
       "      <td>0.087196</td>\n",
       "      <td>-0.000695</td>\n",
       "      <td>-0.016904</td>\n",
       "      <td>0.178368</td>\n",
       "      <td>-0.173533</td>\n",
       "      <td>0.011507</td>\n",
       "      <td>-0.495302</td>\n",
       "    </tr>\n",
       "    <tr>\n",
       "      <th>congestion_surcharge</th>\n",
       "      <td>-0.016662</td>\n",
       "      <td>-0.003956</td>\n",
       "      <td>-0.016925</td>\n",
       "      <td>-0.211891</td>\n",
       "      <td>-0.003382</td>\n",
       "      <td>-0.009881</td>\n",
       "      <td>0.006963</td>\n",
       "      <td>0.064244</td>\n",
       "      <td>-0.063783</td>\n",
       "      <td>-0.134870</td>\n",
       "      <td>0.513236</td>\n",
       "      <td>1.000000</td>\n",
       "      <td>-0.337129</td>\n",
       "      <td>-0.033351</td>\n",
       "      <td>-0.074378</td>\n",
       "      <td>0.166443</td>\n",
       "      <td>-0.113590</td>\n",
       "      <td>-0.001967</td>\n",
       "      <td>-0.282124</td>\n",
       "    </tr>\n",
       "    <tr>\n",
       "      <th>Airport_fee</th>\n",
       "      <td>0.036549</td>\n",
       "      <td>0.039221</td>\n",
       "      <td>0.037548</td>\n",
       "      <td>-0.006808</td>\n",
       "      <td>0.001971</td>\n",
       "      <td>0.001978</td>\n",
       "      <td>-0.005498</td>\n",
       "      <td>0.328338</td>\n",
       "      <td>0.342019</td>\n",
       "      <td>0.411804</td>\n",
       "      <td>0.087196</td>\n",
       "      <td>-0.337129</td>\n",
       "      <td>1.000000</td>\n",
       "      <td>0.075455</td>\n",
       "      <td>0.044519</td>\n",
       "      <td>-0.031007</td>\n",
       "      <td>-0.012807</td>\n",
       "      <td>0.002510</td>\n",
       "      <td>-0.028398</td>\n",
       "    </tr>\n",
       "    <tr>\n",
       "      <th>total_time_taken_in_minutes</th>\n",
       "      <td>0.012967</td>\n",
       "      <td>0.012471</td>\n",
       "      <td>0.014328</td>\n",
       "      <td>0.019570</td>\n",
       "      <td>0.004518</td>\n",
       "      <td>-0.004706</td>\n",
       "      <td>-0.001510</td>\n",
       "      <td>0.011674</td>\n",
       "      <td>0.068039</td>\n",
       "      <td>0.091895</td>\n",
       "      <td>-0.000695</td>\n",
       "      <td>-0.033351</td>\n",
       "      <td>0.075455</td>\n",
       "      <td>1.000000</td>\n",
       "      <td>0.003314</td>\n",
       "      <td>-0.005291</td>\n",
       "      <td>-0.004381</td>\n",
       "      <td>0.006066</td>\n",
       "      <td>0.001639</td>\n",
       "    </tr>\n",
       "    <tr>\n",
       "      <th>payment_type_Cash</th>\n",
       "      <td>-0.003489</td>\n",
       "      <td>0.052487</td>\n",
       "      <td>-0.001619</td>\n",
       "      <td>-0.030752</td>\n",
       "      <td>-0.082532</td>\n",
       "      <td>0.002173</td>\n",
       "      <td>-0.000109</td>\n",
       "      <td>-0.015299</td>\n",
       "      <td>-0.370589</td>\n",
       "      <td>-0.010484</td>\n",
       "      <td>-0.016904</td>\n",
       "      <td>-0.074378</td>\n",
       "      <td>0.044519</td>\n",
       "      <td>0.003314</td>\n",
       "      <td>1.000000</td>\n",
       "      <td>-0.840398</td>\n",
       "      <td>-0.036101</td>\n",
       "      <td>-0.087364</td>\n",
       "      <td>-0.052808</td>\n",
       "    </tr>\n",
       "    <tr>\n",
       "      <th>payment_type_Credit Card</th>\n",
       "      <td>-0.013045</td>\n",
       "      <td>-0.012707</td>\n",
       "      <td>-0.009998</td>\n",
       "      <td>0.037038</td>\n",
       "      <td>-0.348896</td>\n",
       "      <td>-0.005319</td>\n",
       "      <td>-0.000091</td>\n",
       "      <td>0.110961</td>\n",
       "      <td>0.364801</td>\n",
       "      <td>-0.003381</td>\n",
       "      <td>0.178368</td>\n",
       "      <td>0.166443</td>\n",
       "      <td>-0.031007</td>\n",
       "      <td>-0.005291</td>\n",
       "      <td>-0.840398</td>\n",
       "      <td>1.000000</td>\n",
       "      <td>-0.146647</td>\n",
       "      <td>-0.354888</td>\n",
       "      <td>-0.214514</td>\n",
       "    </tr>\n",
       "    <tr>\n",
       "      <th>payment_type_UPI</th>\n",
       "      <td>-0.043678</td>\n",
       "      <td>-0.004728</td>\n",
       "      <td>-0.001778</td>\n",
       "      <td>-0.004212</td>\n",
       "      <td>-0.013678</td>\n",
       "      <td>0.002523</td>\n",
       "      <td>-0.003949</td>\n",
       "      <td>-0.012832</td>\n",
       "      <td>-0.067026</td>\n",
       "      <td>-0.017380</td>\n",
       "      <td>-0.173533</td>\n",
       "      <td>-0.113590</td>\n",
       "      <td>-0.012807</td>\n",
       "      <td>-0.004381</td>\n",
       "      <td>-0.036101</td>\n",
       "      <td>-0.146647</td>\n",
       "      <td>1.000000</td>\n",
       "      <td>-0.015245</td>\n",
       "      <td>-0.009215</td>\n",
       "    </tr>\n",
       "    <tr>\n",
       "      <th>payment_type_Wallet</th>\n",
       "      <td>0.033716</td>\n",
       "      <td>-0.076583</td>\n",
       "      <td>0.026897</td>\n",
       "      <td>-0.015555</td>\n",
       "      <td>0.976113</td>\n",
       "      <td>0.007944</td>\n",
       "      <td>-0.000492</td>\n",
       "      <td>-0.165566</td>\n",
       "      <td>0.016825</td>\n",
       "      <td>0.049917</td>\n",
       "      <td>0.011507</td>\n",
       "      <td>-0.001967</td>\n",
       "      <td>0.002510</td>\n",
       "      <td>0.006066</td>\n",
       "      <td>-0.087364</td>\n",
       "      <td>-0.354888</td>\n",
       "      <td>-0.015245</td>\n",
       "      <td>1.000000</td>\n",
       "      <td>-0.022300</td>\n",
       "    </tr>\n",
       "    <tr>\n",
       "      <th>payment_type_unknown</th>\n",
       "      <td>0.034701</td>\n",
       "      <td>0.000847</td>\n",
       "      <td>-0.000407</td>\n",
       "      <td>-0.006119</td>\n",
       "      <td>-0.022547</td>\n",
       "      <td>-0.002295</td>\n",
       "      <td>0.004207</td>\n",
       "      <td>-0.078578</td>\n",
       "      <td>-0.094903</td>\n",
       "      <td>-0.021905</td>\n",
       "      <td>-0.495302</td>\n",
       "      <td>-0.282124</td>\n",
       "      <td>-0.028398</td>\n",
       "      <td>0.001639</td>\n",
       "      <td>-0.052808</td>\n",
       "      <td>-0.214514</td>\n",
       "      <td>-0.009215</td>\n",
       "      <td>-0.022300</td>\n",
       "      <td>1.000000</td>\n",
       "    </tr>\n",
       "  </tbody>\n",
       "</table>\n",
       "</div>"
      ],
      "text/plain": [
       "                             VendorID  passenger_count  trip_distance  \\\n",
       "VendorID                     1.000000         0.097439       0.005574   \n",
       "passenger_count              0.097439         1.000000       0.001535   \n",
       "trip_distance                0.005574         0.001535       1.000000   \n",
       "RatecodeID                  -0.111861        -0.024586       0.004132   \n",
       "store_and_fwd_flag           0.005753        -0.078770       0.026254   \n",
       "PULocationID                 0.000709        -0.005472      -0.007497   \n",
       "DOLocationID                -0.002167         0.002738      -0.001611   \n",
       "extra                       -0.529794        -0.028918       0.004721   \n",
       "tip_amount                   0.039675         0.022905       0.032305   \n",
       "tolls_amount                 0.018194         0.047926       0.038315   \n",
       "improvement_surcharge       -0.059925        -0.005925       0.000209   \n",
       "congestion_surcharge        -0.016662        -0.003956      -0.016925   \n",
       "Airport_fee                  0.036549         0.039221       0.037548   \n",
       "total_time_taken_in_minutes  0.012967         0.012471       0.014328   \n",
       "payment_type_Cash           -0.003489         0.052487      -0.001619   \n",
       "payment_type_Credit Card    -0.013045        -0.012707      -0.009998   \n",
       "payment_type_UPI            -0.043678        -0.004728      -0.001778   \n",
       "payment_type_Wallet          0.033716        -0.076583       0.026897   \n",
       "payment_type_unknown         0.034701         0.000847      -0.000407   \n",
       "\n",
       "                             RatecodeID  store_and_fwd_flag  PULocationID  \\\n",
       "VendorID                      -0.111861            0.005753      0.000709   \n",
       "passenger_count               -0.024586           -0.078770     -0.005472   \n",
       "trip_distance                  0.004132            0.026254     -0.007497   \n",
       "RatecodeID                     1.000000           -0.014845      0.014217   \n",
       "store_and_fwd_flag            -0.014845            1.000000      0.007665   \n",
       "PULocationID                   0.014217            0.007665      1.000000   \n",
       "DOLocationID                   0.000106           -0.001457     -0.009733   \n",
       "extra                         -0.070897           -0.147265     -0.002706   \n",
       "tip_amount                    -0.038488            0.013758      0.002805   \n",
       "tolls_amount                   0.071767            0.049567     -0.001884   \n",
       "improvement_surcharge          0.000636            0.012200      0.001243   \n",
       "congestion_surcharge          -0.211891           -0.003382     -0.009881   \n",
       "Airport_fee                   -0.006808            0.001971      0.001978   \n",
       "total_time_taken_in_minutes    0.019570            0.004518     -0.004706   \n",
       "payment_type_Cash             -0.030752           -0.082532      0.002173   \n",
       "payment_type_Credit Card       0.037038           -0.348896     -0.005319   \n",
       "payment_type_UPI              -0.004212           -0.013678      0.002523   \n",
       "payment_type_Wallet           -0.015555            0.976113      0.007944   \n",
       "payment_type_unknown          -0.006119           -0.022547     -0.002295   \n",
       "\n",
       "                             DOLocationID     extra  tip_amount  tolls_amount  \\\n",
       "VendorID                        -0.002167 -0.529794    0.039675      0.018194   \n",
       "passenger_count                  0.002738 -0.028918    0.022905      0.047926   \n",
       "trip_distance                   -0.001611  0.004721    0.032305      0.038315   \n",
       "RatecodeID                       0.000106 -0.070897   -0.038488      0.071767   \n",
       "store_and_fwd_flag              -0.001457 -0.147265    0.013758      0.049567   \n",
       "PULocationID                    -0.009733 -0.002706    0.002805     -0.001884   \n",
       "DOLocationID                     1.000000  0.006109   -0.005741      0.002374   \n",
       "extra                            0.006109  1.000000    0.172557      0.201168   \n",
       "tip_amount                      -0.005741  0.172557    1.000000      0.427782   \n",
       "tolls_amount                     0.002374  0.201168    0.427782      1.000000   \n",
       "improvement_surcharge           -0.001340  0.169193    0.079455      0.055174   \n",
       "congestion_surcharge             0.006963  0.064244   -0.063783     -0.134870   \n",
       "Airport_fee                     -0.005498  0.328338    0.342019      0.411804   \n",
       "total_time_taken_in_minutes     -0.001510  0.011674    0.068039      0.091895   \n",
       "payment_type_Cash               -0.000109 -0.015299   -0.370589     -0.010484   \n",
       "payment_type_Credit Card        -0.000091  0.110961    0.364801     -0.003381   \n",
       "payment_type_UPI                -0.003949 -0.012832   -0.067026     -0.017380   \n",
       "payment_type_Wallet             -0.000492 -0.165566    0.016825      0.049917   \n",
       "payment_type_unknown             0.004207 -0.078578   -0.094903     -0.021905   \n",
       "\n",
       "                             improvement_surcharge  congestion_surcharge  \\\n",
       "VendorID                                 -0.059925             -0.016662   \n",
       "passenger_count                          -0.005925             -0.003956   \n",
       "trip_distance                             0.000209             -0.016925   \n",
       "RatecodeID                                0.000636             -0.211891   \n",
       "store_and_fwd_flag                        0.012200             -0.003382   \n",
       "PULocationID                              0.001243             -0.009881   \n",
       "DOLocationID                             -0.001340              0.006963   \n",
       "extra                                     0.169193              0.064244   \n",
       "tip_amount                                0.079455             -0.063783   \n",
       "tolls_amount                              0.055174             -0.134870   \n",
       "improvement_surcharge                     1.000000              0.513236   \n",
       "congestion_surcharge                      0.513236              1.000000   \n",
       "Airport_fee                               0.087196             -0.337129   \n",
       "total_time_taken_in_minutes              -0.000695             -0.033351   \n",
       "payment_type_Cash                        -0.016904             -0.074378   \n",
       "payment_type_Credit Card                  0.178368              0.166443   \n",
       "payment_type_UPI                         -0.173533             -0.113590   \n",
       "payment_type_Wallet                       0.011507             -0.001967   \n",
       "payment_type_unknown                     -0.495302             -0.282124   \n",
       "\n",
       "                             Airport_fee  total_time_taken_in_minutes  \\\n",
       "VendorID                        0.036549                     0.012967   \n",
       "passenger_count                 0.039221                     0.012471   \n",
       "trip_distance                   0.037548                     0.014328   \n",
       "RatecodeID                     -0.006808                     0.019570   \n",
       "store_and_fwd_flag              0.001971                     0.004518   \n",
       "PULocationID                    0.001978                    -0.004706   \n",
       "DOLocationID                   -0.005498                    -0.001510   \n",
       "extra                           0.328338                     0.011674   \n",
       "tip_amount                      0.342019                     0.068039   \n",
       "tolls_amount                    0.411804                     0.091895   \n",
       "improvement_surcharge           0.087196                    -0.000695   \n",
       "congestion_surcharge           -0.337129                    -0.033351   \n",
       "Airport_fee                     1.000000                     0.075455   \n",
       "total_time_taken_in_minutes     0.075455                     1.000000   \n",
       "payment_type_Cash               0.044519                     0.003314   \n",
       "payment_type_Credit Card       -0.031007                    -0.005291   \n",
       "payment_type_UPI               -0.012807                    -0.004381   \n",
       "payment_type_Wallet             0.002510                     0.006066   \n",
       "payment_type_unknown           -0.028398                     0.001639   \n",
       "\n",
       "                             payment_type_Cash  payment_type_Credit Card  \\\n",
       "VendorID                             -0.003489                 -0.013045   \n",
       "passenger_count                       0.052487                 -0.012707   \n",
       "trip_distance                        -0.001619                 -0.009998   \n",
       "RatecodeID                           -0.030752                  0.037038   \n",
       "store_and_fwd_flag                   -0.082532                 -0.348896   \n",
       "PULocationID                          0.002173                 -0.005319   \n",
       "DOLocationID                         -0.000109                 -0.000091   \n",
       "extra                                -0.015299                  0.110961   \n",
       "tip_amount                           -0.370589                  0.364801   \n",
       "tolls_amount                         -0.010484                 -0.003381   \n",
       "improvement_surcharge                -0.016904                  0.178368   \n",
       "congestion_surcharge                 -0.074378                  0.166443   \n",
       "Airport_fee                           0.044519                 -0.031007   \n",
       "total_time_taken_in_minutes           0.003314                 -0.005291   \n",
       "payment_type_Cash                     1.000000                 -0.840398   \n",
       "payment_type_Credit Card             -0.840398                  1.000000   \n",
       "payment_type_UPI                     -0.036101                 -0.146647   \n",
       "payment_type_Wallet                  -0.087364                 -0.354888   \n",
       "payment_type_unknown                 -0.052808                 -0.214514   \n",
       "\n",
       "                             payment_type_UPI  payment_type_Wallet  \\\n",
       "VendorID                            -0.043678             0.033716   \n",
       "passenger_count                     -0.004728            -0.076583   \n",
       "trip_distance                       -0.001778             0.026897   \n",
       "RatecodeID                          -0.004212            -0.015555   \n",
       "store_and_fwd_flag                  -0.013678             0.976113   \n",
       "PULocationID                         0.002523             0.007944   \n",
       "DOLocationID                        -0.003949            -0.000492   \n",
       "extra                               -0.012832            -0.165566   \n",
       "tip_amount                          -0.067026             0.016825   \n",
       "tolls_amount                        -0.017380             0.049917   \n",
       "improvement_surcharge               -0.173533             0.011507   \n",
       "congestion_surcharge                -0.113590            -0.001967   \n",
       "Airport_fee                         -0.012807             0.002510   \n",
       "total_time_taken_in_minutes         -0.004381             0.006066   \n",
       "payment_type_Cash                   -0.036101            -0.087364   \n",
       "payment_type_Credit Card            -0.146647            -0.354888   \n",
       "payment_type_UPI                     1.000000            -0.015245   \n",
       "payment_type_Wallet                 -0.015245             1.000000   \n",
       "payment_type_unknown                -0.009215            -0.022300   \n",
       "\n",
       "                             payment_type_unknown  \n",
       "VendorID                                 0.034701  \n",
       "passenger_count                          0.000847  \n",
       "trip_distance                           -0.000407  \n",
       "RatecodeID                              -0.006119  \n",
       "store_and_fwd_flag                      -0.022547  \n",
       "PULocationID                            -0.002295  \n",
       "DOLocationID                             0.004207  \n",
       "extra                                   -0.078578  \n",
       "tip_amount                              -0.094903  \n",
       "tolls_amount                            -0.021905  \n",
       "improvement_surcharge                   -0.495302  \n",
       "congestion_surcharge                    -0.282124  \n",
       "Airport_fee                             -0.028398  \n",
       "total_time_taken_in_minutes              0.001639  \n",
       "payment_type_Cash                       -0.052808  \n",
       "payment_type_Credit Card                -0.214514  \n",
       "payment_type_UPI                        -0.009215  \n",
       "payment_type_Wallet                     -0.022300  \n",
       "payment_type_unknown                     1.000000  "
      ]
     },
     "execution_count": 55,
     "metadata": {},
     "output_type": "execute_result"
    }
   ],
   "source": [
    "corr_test = df_test.corr(method=\"pearson\", numeric_only=True)\n",
    "corr_test"
   ]
  },
  {
   "cell_type": "markdown",
   "id": "94994bc8",
   "metadata": {
    "papermill": {
     "duration": 0.032683,
     "end_time": "2023-11-28T04:07:55.182282",
     "exception": false,
     "start_time": "2023-11-28T04:07:55.149599",
     "status": "completed"
    },
    "tags": []
   },
   "source": [
    "## Heat Map"
   ]
  },
  {
   "cell_type": "code",
   "execution_count": 56,
   "id": "b1ecc2ea",
   "metadata": {
    "execution": {
     "iopub.execute_input": "2023-11-28T04:07:55.250259Z",
     "iopub.status.busy": "2023-11-28T04:07:55.249904Z",
     "iopub.status.idle": "2023-11-28T04:07:55.899727Z",
     "shell.execute_reply": "2023-11-28T04:07:55.898528Z"
    },
    "papermill": {
     "duration": 0.686962,
     "end_time": "2023-11-28T04:07:55.902299",
     "exception": false,
     "start_time": "2023-11-28T04:07:55.215337",
     "status": "completed"
    },
    "tags": []
   },
   "outputs": [
    {
     "data": {
      "text/plain": [
       "<Axes: >"
      ]
     },
     "execution_count": 56,
     "metadata": {},
     "output_type": "execute_result"
    },
    {
     "data": {
      "image/png": "[encoded data removed]",
      "text/plain": [
       "<Figure size 1600x1000 with 2 Axes>"
      ]
     },
     "metadata": {},
     "output_type": "display_data"
    }
   ],
   "source": [
    "plt.figure(figsize=(16, 10))\n",
    "sns.heatmap(corr_train, annot=False)\n",
    "# if we make \"annot=True\" the with colour correlation value are also comes"
   ]
  },
  {
   "cell_type": "code",
   "execution_count": 57,
   "id": "0683b20d",
   "metadata": {
    "execution": {
     "iopub.execute_input": "2023-11-28T04:07:55.973961Z",
     "iopub.status.busy": "2023-11-28T04:07:55.973519Z",
     "iopub.status.idle": "2023-11-28T04:07:56.496639Z",
     "shell.execute_reply": "2023-11-28T04:07:56.495634Z"
    },
    "papermill": {
     "duration": 0.561294,
     "end_time": "2023-11-28T04:07:56.498735",
     "exception": false,
     "start_time": "2023-11-28T04:07:55.937441",
     "status": "completed"
    },
    "tags": []
   },
   "outputs": [
    {
     "data": {
      "text/plain": [
       "<Axes: >"
      ]
     },
     "execution_count": 57,
     "metadata": {},
     "output_type": "execute_result"
    },
    {
     "data": {
      "image/png": "[encoded data removed]",
      "text/plain": [
       "<Figure size 1400x1000 with 2 Axes>"
      ]
     },
     "metadata": {},
     "output_type": "display_data"
    }
   ],
   "source": [
    "plt.figure(figsize=(14, 10))\n",
    "sns.heatmap(corr_test, annot=False) \n",
    "# if we make \"annot=True\" the with colour correlation value are also comes"
   ]
  },
  {
   "cell_type": "markdown",
   "id": "ec6ff3d1",
   "metadata": {
    "papermill": {
     "duration": 0.035764,
     "end_time": "2023-11-28T04:07:56.571805",
     "exception": false,
     "start_time": "2023-11-28T04:07:56.536041",
     "status": "completed"
    },
    "tags": []
   },
   "source": [
    "## Removing irrelevant columns"
   ]
  },
  {
   "cell_type": "code",
   "execution_count": 58,
   "id": "11a1166a",
   "metadata": {
    "execution": {
     "iopub.execute_input": "2023-11-28T04:07:56.643934Z",
     "iopub.status.busy": "2023-11-28T04:07:56.643605Z",
     "iopub.status.idle": "2023-11-28T04:07:56.647522Z",
     "shell.execute_reply": "2023-11-28T04:07:56.646721Z"
    },
    "papermill": {
     "duration": 0.042356,
     "end_time": "2023-11-28T04:07:56.649265",
     "exception": false,
     "start_time": "2023-11-28T04:07:56.606909",
     "status": "completed"
    },
    "tags": []
   },
   "outputs": [],
   "source": [
    "# target_column = ['RatecodeID', 'PULocationID', 'DOLocationID', 'VendorID', 'payment_type_unknown']\n",
    "# df_train = df_train.drop(target_column, axis=1)\n",
    "# df_train"
   ]
  },
  {
   "cell_type": "code",
   "execution_count": 59,
   "id": "1b66c3bf",
   "metadata": {
    "execution": {
     "iopub.execute_input": "2023-11-28T04:07:56.724157Z",
     "iopub.status.busy": "2023-11-28T04:07:56.723562Z",
     "iopub.status.idle": "2023-11-28T04:07:56.728062Z",
     "shell.execute_reply": "2023-11-28T04:07:56.727406Z"
    },
    "papermill": {
     "duration": 0.044773,
     "end_time": "2023-11-28T04:07:56.729806",
     "exception": false,
     "start_time": "2023-11-28T04:07:56.685033",
     "status": "completed"
    },
    "tags": []
   },
   "outputs": [],
   "source": [
    "# target_column = ['RatecodeID', 'PULocationID', 'DOLocationID', 'VendorID', 'payment_type_unknown']\n",
    "# df_test = df_test.drop(target_column, axis=1)\n",
    "# df_test"
   ]
  },
  {
   "cell_type": "markdown",
   "id": "ade86af7",
   "metadata": {
    "papermill": {
     "duration": 0.03498,
     "end_time": "2023-11-28T04:07:56.800621",
     "exception": false,
     "start_time": "2023-11-28T04:07:56.765641",
     "status": "completed"
    },
    "tags": []
   },
   "source": [
    "## Relation between features after removing irrelevant columns"
   ]
  },
  {
   "cell_type": "code",
   "execution_count": 60,
   "id": "88ef04c8",
   "metadata": {
    "execution": {
     "iopub.execute_input": "2023-11-28T04:07:56.874795Z",
     "iopub.status.busy": "2023-11-28T04:07:56.873492Z",
     "iopub.status.idle": "2023-11-28T04:07:56.877941Z",
     "shell.execute_reply": "2023-11-28T04:07:56.877179Z"
    },
    "papermill": {
     "duration": 0.043239,
     "end_time": "2023-11-28T04:07:56.879596",
     "exception": false,
     "start_time": "2023-11-28T04:07:56.836357",
     "status": "completed"
    },
    "tags": []
   },
   "outputs": [],
   "source": [
    "# corr_train = df_train.corr(method=\"pearson\", numeric_only=True)\n",
    "# corr_train"
   ]
  },
  {
   "cell_type": "code",
   "execution_count": 61,
   "id": "f74efbd1",
   "metadata": {
    "execution": {
     "iopub.execute_input": "2023-11-28T04:07:56.954529Z",
     "iopub.status.busy": "2023-11-28T04:07:56.953983Z",
     "iopub.status.idle": "2023-11-28T04:07:56.957304Z",
     "shell.execute_reply": "2023-11-28T04:07:56.956598Z"
    },
    "papermill": {
     "duration": 0.042918,
     "end_time": "2023-11-28T04:07:56.959005",
     "exception": false,
     "start_time": "2023-11-28T04:07:56.916087",
     "status": "completed"
    },
    "tags": []
   },
   "outputs": [],
   "source": [
    "# corr_test = df_test.corr(method=\"pearson\", numeric_only=True)\n",
    "# corr_test"
   ]
  },
  {
   "cell_type": "markdown",
   "id": "3ef5cf0c",
   "metadata": {
    "papermill": {
     "duration": 0.035191,
     "end_time": "2023-11-28T04:07:57.029311",
     "exception": false,
     "start_time": "2023-11-28T04:07:56.994120",
     "status": "completed"
    },
    "tags": []
   },
   "source": [
    "## Detecting Outliers"
   ]
  },
  {
   "cell_type": "code",
   "execution_count": 62,
   "id": "d56b99c3",
   "metadata": {
    "execution": {
     "iopub.execute_input": "2023-11-28T04:07:57.101708Z",
     "iopub.status.busy": "2023-11-28T04:07:57.101166Z",
     "iopub.status.idle": "2023-11-28T04:07:57.325400Z",
     "shell.execute_reply": "2023-11-28T04:07:57.324508Z"
    },
    "papermill": {
     "duration": 0.262828,
     "end_time": "2023-11-28T04:07:57.327287",
     "exception": false,
     "start_time": "2023-11-28T04:07:57.064459",
     "status": "completed"
    },
    "tags": []
   },
   "outputs": [
    {
     "data": {
      "text/plain": [
       "<Axes: xlabel='total_amount'>"
      ]
     },
     "execution_count": 62,
     "metadata": {},
     "output_type": "execute_result"
    },
    {
     "data": {
      "image/png": "[encoded data removed]",
      "text/plain": [
       "<Figure size 640x480 with 1 Axes>"
      ]
     },
     "metadata": {},
     "output_type": "display_data"
    }
   ],
   "source": [
    "sns.boxplot(x=df_train['total_amount'])"
   ]
  },
  {
   "cell_type": "code",
   "execution_count": 63,
   "id": "f86aae61",
   "metadata": {
    "execution": {
     "iopub.execute_input": "2023-11-28T04:07:57.399957Z",
     "iopub.status.busy": "2023-11-28T04:07:57.399560Z",
     "iopub.status.idle": "2023-11-28T04:07:57.624505Z",
     "shell.execute_reply": "2023-11-28T04:07:57.623556Z"
    },
    "papermill": {
     "duration": 0.263599,
     "end_time": "2023-11-28T04:07:57.626291",
     "exception": false,
     "start_time": "2023-11-28T04:07:57.362692",
     "status": "completed"
    },
    "tags": []
   },
   "outputs": [
    {
     "data": {
      "text/plain": [
       "<Axes: xlabel='trip_distance'>"
      ]
     },
     "execution_count": 63,
     "metadata": {},
     "output_type": "execute_result"
    },
    {
     "data": {
      "image/png": "[encoded data removed]",
      "text/plain": [
       "<Figure size 640x480 with 1 Axes>"
      ]
     },
     "metadata": {},
     "output_type": "display_data"
    }
   ],
   "source": [
    "sns.boxplot(x=df_train['trip_distance'])"
   ]
  },
  {
   "cell_type": "code",
   "execution_count": 64,
   "id": "48d2528b",
   "metadata": {
    "execution": {
     "iopub.execute_input": "2023-11-28T04:07:57.698768Z",
     "iopub.status.busy": "2023-11-28T04:07:57.698457Z",
     "iopub.status.idle": "2023-11-28T04:07:57.877713Z",
     "shell.execute_reply": "2023-11-28T04:07:57.876977Z"
    },
    "papermill": {
     "duration": 0.217832,
     "end_time": "2023-11-28T04:07:57.879836",
     "exception": false,
     "start_time": "2023-11-28T04:07:57.662004",
     "status": "completed"
    },
    "tags": []
   },
   "outputs": [
    {
     "data": {
      "text/plain": [
       "<Axes: xlabel='tip_amount'>"
      ]
     },
     "execution_count": 64,
     "metadata": {},
     "output_type": "execute_result"
    },
    {
     "data": {
      "image/png": "[encoded data removed]",
      "text/plain": [
       "<Figure size 640x480 with 1 Axes>"
      ]
     },
     "metadata": {},
     "output_type": "display_data"
    }
   ],
   "source": [
    "sns.boxplot(x=df_train['tip_amount'])"
   ]
  },
  {
   "cell_type": "code",
   "execution_count": 65,
   "id": "05388bcd",
   "metadata": {
    "execution": {
     "iopub.execute_input": "2023-11-28T04:07:57.956010Z",
     "iopub.status.busy": "2023-11-28T04:07:57.954859Z",
     "iopub.status.idle": "2023-11-28T04:07:58.131641Z",
     "shell.execute_reply": "2023-11-28T04:07:58.130640Z"
    },
    "papermill": {
     "duration": 0.217138,
     "end_time": "2023-11-28T04:07:58.133993",
     "exception": false,
     "start_time": "2023-11-28T04:07:57.916855",
     "status": "completed"
    },
    "tags": []
   },
   "outputs": [
    {
     "data": {
      "text/plain": [
       "<Axes: xlabel='tolls_amount'>"
      ]
     },
     "execution_count": 65,
     "metadata": {},
     "output_type": "execute_result"
    },
    {
     "data": {
      "image/png": "[encoded data removed]",
      "text/plain": [
       "<Figure size 640x480 with 1 Axes>"
      ]
     },
     "metadata": {},
     "output_type": "display_data"
    }
   ],
   "source": [
    "sns.boxplot(x=df_train['tolls_amount'])"
   ]
  },
  {
   "cell_type": "code",
   "execution_count": 66,
   "id": "3b66e13f",
   "metadata": {
    "execution": {
     "iopub.execute_input": "2023-11-28T04:07:58.210049Z",
     "iopub.status.busy": "2023-11-28T04:07:58.209689Z",
     "iopub.status.idle": "2023-11-28T04:07:58.357497Z",
     "shell.execute_reply": "2023-11-28T04:07:58.356580Z"
    },
    "papermill": {
     "duration": 0.18768,
     "end_time": "2023-11-28T04:07:58.359232",
     "exception": false,
     "start_time": "2023-11-28T04:07:58.171552",
     "status": "completed"
    },
    "tags": []
   },
   "outputs": [
    {
     "data": {
      "text/plain": [
       "<Axes: xlabel='improvement_surcharge'>"
      ]
     },
     "execution_count": 66,
     "metadata": {},
     "output_type": "execute_result"
    },
    {
     "data": {
      "image/png": "[encoded data removed]",
      "text/plain": [
       "<Figure size 640x480 with 1 Axes>"
      ]
     },
     "metadata": {},
     "output_type": "display_data"
    }
   ],
   "source": [
    "sns.boxplot(x=df_train['improvement_surcharge'])"
   ]
  },
  {
   "cell_type": "code",
   "execution_count": 67,
   "id": "b1f00908",
   "metadata": {
    "execution": {
     "iopub.execute_input": "2023-11-28T04:07:58.435759Z",
     "iopub.status.busy": "2023-11-28T04:07:58.435417Z",
     "iopub.status.idle": "2023-11-28T04:07:58.627367Z",
     "shell.execute_reply": "2023-11-28T04:07:58.626001Z"
    },
    "papermill": {
     "duration": 0.232504,
     "end_time": "2023-11-28T04:07:58.629365",
     "exception": false,
     "start_time": "2023-11-28T04:07:58.396861",
     "status": "completed"
    },
    "tags": []
   },
   "outputs": [
    {
     "data": {
      "text/plain": [
       "<Axes: xlabel='congestion_surcharge'>"
      ]
     },
     "execution_count": 67,
     "metadata": {},
     "output_type": "execute_result"
    },
    {
     "data": {
      "image/png": "[encoded data removed]",
      "text/plain": [
       "<Figure size 640x480 with 1 Axes>"
      ]
     },
     "metadata": {},
     "output_type": "display_data"
    }
   ],
   "source": [
    "sns.boxplot(x=df_train['congestion_surcharge'])"
   ]
  },
  {
   "cell_type": "code",
   "execution_count": 68,
   "id": "00fb2f9e",
   "metadata": {
    "execution": {
     "iopub.execute_input": "2023-11-28T04:07:58.704673Z",
     "iopub.status.busy": "2023-11-28T04:07:58.704326Z",
     "iopub.status.idle": "2023-11-28T04:07:58.899898Z",
     "shell.execute_reply": "2023-11-28T04:07:58.898651Z"
    },
    "papermill": {
     "duration": 0.235851,
     "end_time": "2023-11-28T04:07:58.902236",
     "exception": false,
     "start_time": "2023-11-28T04:07:58.666385",
     "status": "completed"
    },
    "tags": []
   },
   "outputs": [
    {
     "data": {
      "text/plain": [
       "<Axes: xlabel='Airport_fee'>"
      ]
     },
     "execution_count": 68,
     "metadata": {},
     "output_type": "execute_result"
    },
    {
     "data": {
      "image/png": "[encoded data removed]",
      "text/plain": [
       "<Figure size 640x480 with 1 Axes>"
      ]
     },
     "metadata": {},
     "output_type": "display_data"
    }
   ],
   "source": [
    "sns.boxplot(x=df_train['Airport_fee'])"
   ]
  },
  {
   "cell_type": "markdown",
   "id": "39984340",
   "metadata": {
    "papermill": {
     "duration": 0.036696,
     "end_time": "2023-11-28T04:07:58.976306",
     "exception": false,
     "start_time": "2023-11-28T04:07:58.939610",
     "status": "completed"
    },
    "tags": []
   },
   "source": [
    "## Removing Outliers"
   ]
  },
  {
   "cell_type": "code",
   "execution_count": 69,
   "id": "9c4f34cf",
   "metadata": {
    "execution": {
     "iopub.execute_input": "2023-11-28T04:07:59.054559Z",
     "iopub.status.busy": "2023-11-28T04:07:59.054047Z",
     "iopub.status.idle": "2023-11-28T04:07:59.058077Z",
     "shell.execute_reply": "2023-11-28T04:07:59.057058Z"
    },
    "papermill": {
     "duration": 0.045491,
     "end_time": "2023-11-28T04:07:59.059944",
     "exception": false,
     "start_time": "2023-11-28T04:07:59.014453",
     "status": "completed"
    },
    "tags": []
   },
   "outputs": [],
   "source": [
    "# # Calculate the first quartile (Q1) and third quartile (Q3) for the chosen column\n",
    "# Q1 = df_train['total_amount'].quantile(0.25)\n",
    "# Q3 = df_train['total_amount'].quantile(0.75)\n",
    "\n",
    "# # Calculate the interquartile range (IQR)\n",
    "# IQR = Q3 - Q1\n",
    "\n",
    "# # Define the lower and upper bounds to identify outliers\n",
    "# lower_bound = Q1 - 1.5 * IQR\n",
    "# upper_bound = Q3 + 1.5 * IQR\n",
    "\n",
    "# # Identify outliers in the chosen column\n",
    "# outliers = df_train[(df_train['total_amount'] < lower_bound) | (df_train['total_amount'] > upper_bound)]\n",
    "\n",
    "# # Remove outliers from the chosen column\n",
    "# cleaned_data = df_train[(df_train['total_amount'] >= lower_bound) & (df_train['total_amount'] <= upper_bound)]\n",
    "\n",
    "# # Print the number of outliers and the cleaned data\n",
    "# print(f\"Number of outliers in total_amount: {len(outliers)}\")\n",
    "# print(f\"Number of remaning to dataset: {len(cleaned_data)}\")"
   ]
  },
  {
   "cell_type": "code",
   "execution_count": 70,
   "id": "318d4329",
   "metadata": {
    "execution": {
     "iopub.execute_input": "2023-11-28T04:07:59.139516Z",
     "iopub.status.busy": "2023-11-28T04:07:59.138812Z",
     "iopub.status.idle": "2023-11-28T04:07:59.143254Z",
     "shell.execute_reply": "2023-11-28T04:07:59.142193Z"
    },
    "papermill": {
     "duration": 0.045498,
     "end_time": "2023-11-28T04:07:59.144926",
     "exception": false,
     "start_time": "2023-11-28T04:07:59.099428",
     "status": "completed"
    },
    "tags": []
   },
   "outputs": [],
   "source": [
    "# # Calculate the first quartile (Q1) and third quartile (Q3) for the chosen column\n",
    "# Q1 = df_train['trip_distance'].quantile(0.25)\n",
    "# Q3 = df_train['trip_distance'].quantile(0.75)\n",
    "\n",
    "# # Calculate the interquartile range (IQR)\n",
    "# IQR = Q3 - Q1\n",
    "\n",
    "# # Define the lower and upper bounds to identify outliers\n",
    "# lower_bound = Q1 - 1.5 * IQR\n",
    "# upper_bound = Q3 + 1.5 * IQR\n",
    "\n",
    "# # Identify outliers in the chosen column\n",
    "# outliers = df_train[(df_train['trip_distance'] < lower_bound) | (df_train['trip_distance'] > upper_bound)]\n",
    "\n",
    "# # Remove outliers from the chosen column\n",
    "# cleaned_data = df_train[(df_train['trip_distance'] >= lower_bound) & (df_train['trip_distance'] <= upper_bound)]\n",
    "\n",
    "# # Print the number of outliers and the cleaned data\n",
    "# print(f\"Number of outliers in total_amount: {len(outliers)}\")\n",
    "# print(f\"Number of remaning to dataset: {len(cleaned_data)}\")"
   ]
  },
  {
   "cell_type": "code",
   "execution_count": 71,
   "id": "050f8c10",
   "metadata": {
    "execution": {
     "iopub.execute_input": "2023-11-28T04:07:59.222723Z",
     "iopub.status.busy": "2023-11-28T04:07:59.222097Z",
     "iopub.status.idle": "2023-11-28T04:07:59.226044Z",
     "shell.execute_reply": "2023-11-28T04:07:59.225364Z"
    },
    "papermill": {
     "duration": 0.045441,
     "end_time": "2023-11-28T04:07:59.228359",
     "exception": false,
     "start_time": "2023-11-28T04:07:59.182918",
     "status": "completed"
    },
    "tags": []
   },
   "outputs": [],
   "source": [
    "# # Calculate the first quartile (Q1) and third quartile (Q3) for the chosen column\n",
    "# Q1 = df_train['tip_amount'].quantile(0.25)\n",
    "# Q3 = df_train['tip_amount'].quantile(0.75)\n",
    "\n",
    "# # Calculate the interquartile range (IQR)\n",
    "# IQR = Q3 - Q1\n",
    "\n",
    "# # Define the lower and upper bounds to identify outliers\n",
    "# lower_bound = Q1 - 1.5 * IQR\n",
    "# upper_bound = Q3 + 1.5 * IQR\n",
    "\n",
    "# # Identify outliers in the chosen column\n",
    "# outliers = df_train[(df_train['tip_amount'] < lower_bound) | (df_train['tip_amount'] > upper_bound)]\n",
    "\n",
    "# # Remove outliers from the chosen column\n",
    "# cleaned_data = df_train[(df_train['tip_amount'] >= lower_bound) & (df_train['tip_amount'] <= upper_bound)]\n",
    "\n",
    "# # Print the number of outliers and the cleaned data\n",
    "# print(f\"Number of outliers in total_amount: {len(outliers)}\")\n",
    "# print(f\"Number of remaning to dataset: {len(cleaned_data)}\")"
   ]
  },
  {
   "cell_type": "code",
   "execution_count": 72,
   "id": "ec190e76",
   "metadata": {
    "execution": {
     "iopub.execute_input": "2023-11-28T04:07:59.306467Z",
     "iopub.status.busy": "2023-11-28T04:07:59.305835Z",
     "iopub.status.idle": "2023-11-28T04:07:59.310065Z",
     "shell.execute_reply": "2023-11-28T04:07:59.309198Z"
    },
    "papermill": {
     "duration": 0.045454,
     "end_time": "2023-11-28T04:07:59.312176",
     "exception": false,
     "start_time": "2023-11-28T04:07:59.266722",
     "status": "completed"
    },
    "tags": []
   },
   "outputs": [],
   "source": [
    "# # Calculate the first quartile (Q1) and third quartile (Q3) for the chosen column\n",
    "# Q1 = df_train['tolls_amount'].quantile(0.25)\n",
    "# Q3 = df_train['tolls_amount'].quantile(0.75)\n",
    "\n",
    "# # Calculate the interquartile range (IQR)\n",
    "# IQR = Q3 - Q1\n",
    "\n",
    "# # Define the lower and upper bounds to identify outliers\n",
    "# lower_bound = Q1 - 1.5 * IQR\n",
    "# upper_bound = Q3 + 1.5 * IQR\n",
    "\n",
    "# # Identify outliers in the chosen column\n",
    "# outliers = df_train[(df_train['tolls_amount'] < lower_bound) | (df_train['tolls_amount'] > upper_bound)]\n",
    "\n",
    "# # Remove outliers from the chosen column\n",
    "# cleaned_data = df_train[(df_train['tolls_amount'] >= lower_bound) & (df_train['tolls_amount'] <= upper_bound)]\n",
    "\n",
    "# # Print the number of outliers and the cleaned data\n",
    "# print(f\"Number of outliers in total_amount: {len(outliers)}\")\n",
    "# print(f\"Number of remaning to dataset: {len(cleaned_data)}\")"
   ]
  },
  {
   "cell_type": "code",
   "execution_count": 73,
   "id": "5d871a39",
   "metadata": {
    "execution": {
     "iopub.execute_input": "2023-11-28T04:07:59.388906Z",
     "iopub.status.busy": "2023-11-28T04:07:59.388342Z",
     "iopub.status.idle": "2023-11-28T04:07:59.392503Z",
     "shell.execute_reply": "2023-11-28T04:07:59.391880Z"
    },
    "papermill": {
     "duration": 0.044419,
     "end_time": "2023-11-28T04:07:59.394157",
     "exception": false,
     "start_time": "2023-11-28T04:07:59.349738",
     "status": "completed"
    },
    "tags": []
   },
   "outputs": [],
   "source": [
    "# # Calculate the first quartile (Q1) and third quartile (Q3) for the chosen column\n",
    "# Q1 = df_train['improvement_surcharge'].quantile(0.25)\n",
    "# Q3 = df_train['improvement_surcharge'].quantile(0.75)\n",
    "\n",
    "# # Calculate the interquartile range (IQR)\n",
    "# IQR = Q3 - Q1\n",
    "\n",
    "# # Define the lower and upper bounds to identify outliers\n",
    "# lower_bound = Q1 - 1.5 * IQR\n",
    "# upper_bound = Q3 + 1.5 * IQR\n",
    "\n",
    "# # Identify outliers in the chosen column\n",
    "# outliers = df_train[(df_train['improvement_surcharge'] < lower_bound) | (df_train['improvement_surcharge'] > upper_bound)]\n",
    "\n",
    "# # Remove outliers from the chosen column\n",
    "# cleaned_data = df_train[(df_train['improvement_surcharge'] >= lower_bound) & (df_train['improvement_surcharge'] <= upper_bound)]\n",
    "\n",
    "# # Print the number of outliers and the cleaned data\n",
    "# print(f\"Number of outliers in total_amount: {len(outliers)}\")\n",
    "# print(f\"Number of remaning to dataset: {len(cleaned_data)}\")"
   ]
  },
  {
   "cell_type": "code",
   "execution_count": 74,
   "id": "6b891cb7",
   "metadata": {
    "execution": {
     "iopub.execute_input": "2023-11-28T04:07:59.471335Z",
     "iopub.status.busy": "2023-11-28T04:07:59.470812Z",
     "iopub.status.idle": "2023-11-28T04:07:59.475204Z",
     "shell.execute_reply": "2023-11-28T04:07:59.474271Z"
    },
    "papermill": {
     "duration": 0.045627,
     "end_time": "2023-11-28T04:07:59.476807",
     "exception": false,
     "start_time": "2023-11-28T04:07:59.431180",
     "status": "completed"
    },
    "tags": []
   },
   "outputs": [],
   "source": [
    "# # Calculate the first quartile (Q1) and third quartile (Q3) for the chosen column\n",
    "# Q1 = df_train['congestion_surcharge'].quantile(0.25)\n",
    "# Q3 = df_train['congestion_surcharge'].quantile(0.75)\n",
    "\n",
    "# # Calculate the interquartile range (IQR)\n",
    "# IQR = Q3 - Q1\n",
    "\n",
    "# # Define the lower and upper bounds to identify outliers\n",
    "# lower_bound = Q1 - 1.5 * IQR\n",
    "# upper_bound = Q3 + 1.5 * IQR\n",
    "\n",
    "# # Identify outliers in the chosen column\n",
    "# outliers = df_train[(df_train['congestion_surcharge'] < lower_bound) | (df_train['congestion_surcharge'] > upper_bound)]\n",
    "\n",
    "# # Remove outliers from the chosen column\n",
    "# cleaned_data = df_train[(df_train['congestion_surcharge'] >= lower_bound) & (df_train['congestion_surcharge'] <= upper_bound)]\n",
    "\n",
    "# # Print the number of outliers and the cleaned data\n",
    "# print(f\"Number of outliers in total_amount: {len(outliers)}\")\n",
    "# print(f\"Number of remaning to dataset: {len(cleaned_data)}\")"
   ]
  },
  {
   "cell_type": "code",
   "execution_count": 75,
   "id": "e44d8683",
   "metadata": {
    "execution": {
     "iopub.execute_input": "2023-11-28T04:07:59.553112Z",
     "iopub.status.busy": "2023-11-28T04:07:59.552616Z",
     "iopub.status.idle": "2023-11-28T04:07:59.557177Z",
     "shell.execute_reply": "2023-11-28T04:07:59.556166Z"
    },
    "papermill": {
     "duration": 0.045291,
     "end_time": "2023-11-28T04:07:59.559352",
     "exception": false,
     "start_time": "2023-11-28T04:07:59.514061",
     "status": "completed"
    },
    "tags": []
   },
   "outputs": [],
   "source": [
    "# # Calculate the first quartile (Q1) and third quartile (Q3) for the chosen column\n",
    "# Q1 = df_train['Airport_fee'].quantile(0.25)\n",
    "# Q3 = df_train['Airport_fee'].quantile(0.75)\n",
    "\n",
    "# # Calculate the interquartile range (IQR)\n",
    "# IQR = Q3 - Q1\n",
    "\n",
    "# # Define the lower and upper bounds to identify outliers\n",
    "# lower_bound = Q1 - 1.5 * IQR\n",
    "# upper_bound = Q3 + 1.5 * IQR\n",
    "\n",
    "# # Identify outliers in the chosen column\n",
    "# outliers = df_train[(df_train['Airport_fee'] < lower_bound) | (df_train['Airport_fee'] > upper_bound)]\n",
    "\n",
    "# # Remove outliers from the chosen column\n",
    "# cleaned_data = df_train[(df_train['Airport_fee'] >= lower_bound) & (df_train['Airport_fee'] <= upper_bound)]\n",
    "\n",
    "# # Print the number of outliers and the cleaned data\n",
    "# print(f\"Number of outliers in total_amount: {len(outliers)}\")\n",
    "# print(f\"Number of remaning to dataset: {len(cleaned_data)}\")"
   ]
  },
  {
   "cell_type": "markdown",
   "id": "6ce39d23",
   "metadata": {
    "papermill": {
     "duration": 0.039615,
     "end_time": "2023-11-28T04:07:59.637953",
     "exception": false,
     "start_time": "2023-11-28T04:07:59.598338",
     "status": "completed"
    },
    "tags": []
   },
   "source": [
    "## Checking null values"
   ]
  },
  {
   "cell_type": "code",
   "execution_count": 76,
   "id": "3f372902",
   "metadata": {
    "execution": {
     "iopub.execute_input": "2023-11-28T04:07:59.714879Z",
     "iopub.status.busy": "2023-11-28T04:07:59.714102Z",
     "iopub.status.idle": "2023-11-28T04:07:59.724884Z",
     "shell.execute_reply": "2023-11-28T04:07:59.724008Z"
    },
    "papermill": {
     "duration": 0.050867,
     "end_time": "2023-11-28T04:07:59.726553",
     "exception": false,
     "start_time": "2023-11-28T04:07:59.675686",
     "status": "completed"
    },
    "tags": []
   },
   "outputs": [
    {
     "data": {
      "text/plain": [
       "VendorID                       0\n",
       "passenger_count                0\n",
       "trip_distance                  0\n",
       "RatecodeID                     0\n",
       "store_and_fwd_flag             0\n",
       "PULocationID                   0\n",
       "DOLocationID                   0\n",
       "extra                          0\n",
       "tip_amount                     0\n",
       "tolls_amount                   0\n",
       "improvement_surcharge          0\n",
       "total_amount                   0\n",
       "congestion_surcharge           0\n",
       "Airport_fee                    0\n",
       "total_time_taken_in_minutes    0\n",
       "payment_type_Cash              0\n",
       "payment_type_Credit Card       0\n",
       "payment_type_UPI               0\n",
       "payment_type_Wallet            0\n",
       "payment_type_unknown           0\n",
       "dtype: int64"
      ]
     },
     "execution_count": 76,
     "metadata": {},
     "output_type": "execute_result"
    }
   ],
   "source": [
    "df_train.isnull().sum()"
   ]
  },
  {
   "cell_type": "code",
   "execution_count": 77,
   "id": "c414378f",
   "metadata": {
    "execution": {
     "iopub.execute_input": "2023-11-28T04:07:59.803079Z",
     "iopub.status.busy": "2023-11-28T04:07:59.802744Z",
     "iopub.status.idle": "2023-11-28T04:07:59.811189Z",
     "shell.execute_reply": "2023-11-28T04:07:59.810168Z"
    },
    "papermill": {
     "duration": 0.048976,
     "end_time": "2023-11-28T04:07:59.812864",
     "exception": false,
     "start_time": "2023-11-28T04:07:59.763888",
     "status": "completed"
    },
    "tags": []
   },
   "outputs": [
    {
     "data": {
      "text/plain": [
       "VendorID                       0\n",
       "passenger_count                0\n",
       "trip_distance                  0\n",
       "RatecodeID                     0\n",
       "store_and_fwd_flag             0\n",
       "PULocationID                   0\n",
       "DOLocationID                   0\n",
       "extra                          0\n",
       "tip_amount                     0\n",
       "tolls_amount                   0\n",
       "improvement_surcharge          0\n",
       "congestion_surcharge           0\n",
       "Airport_fee                    0\n",
       "total_time_taken_in_minutes    0\n",
       "payment_type_Cash              0\n",
       "payment_type_Credit Card       0\n",
       "payment_type_UPI               0\n",
       "payment_type_Wallet            0\n",
       "payment_type_unknown           0\n",
       "dtype: int64"
      ]
     },
     "execution_count": 77,
     "metadata": {},
     "output_type": "execute_result"
    }
   ],
   "source": [
    "df_test.isnull().sum()"
   ]
  },
  {
   "cell_type": "markdown",
   "id": "2001ed9d",
   "metadata": {
    "papermill": {
     "duration": 0.037123,
     "end_time": "2023-11-28T04:07:59.887304",
     "exception": false,
     "start_time": "2023-11-28T04:07:59.850181",
     "status": "completed"
    },
    "tags": []
   },
   "source": [
    "## Checking datatypes of columns"
   ]
  },
  {
   "cell_type": "code",
   "execution_count": 78,
   "id": "3bdecef4",
   "metadata": {
    "execution": {
     "iopub.execute_input": "2023-11-28T04:07:59.965477Z",
     "iopub.status.busy": "2023-11-28T04:07:59.964018Z",
     "iopub.status.idle": "2023-11-28T04:07:59.972677Z",
     "shell.execute_reply": "2023-11-28T04:07:59.971696Z"
    },
    "papermill": {
     "duration": 0.049852,
     "end_time": "2023-11-28T04:07:59.974559",
     "exception": false,
     "start_time": "2023-11-28T04:07:59.924707",
     "status": "completed"
    },
    "tags": []
   },
   "outputs": [
    {
     "data": {
      "text/plain": [
       "VendorID                         int64\n",
       "passenger_count                float64\n",
       "trip_distance                  float64\n",
       "RatecodeID                     float64\n",
       "store_and_fwd_flag               int64\n",
       "PULocationID                     int64\n",
       "DOLocationID                     int64\n",
       "extra                          float64\n",
       "tip_amount                     float64\n",
       "tolls_amount                   float64\n",
       "improvement_surcharge          float64\n",
       "total_amount                   float64\n",
       "congestion_surcharge           float64\n",
       "Airport_fee                    float64\n",
       "total_time_taken_in_minutes    float64\n",
       "payment_type_Cash              float64\n",
       "payment_type_Credit Card       float64\n",
       "payment_type_UPI               float64\n",
       "payment_type_Wallet            float64\n",
       "payment_type_unknown           float64\n",
       "dtype: object"
      ]
     },
     "execution_count": 78,
     "metadata": {},
     "output_type": "execute_result"
    }
   ],
   "source": [
    "df_train.dtypes"
   ]
  },
  {
   "cell_type": "code",
   "execution_count": 79,
   "id": "84c45ec3",
   "metadata": {
    "execution": {
     "iopub.execute_input": "2023-11-28T04:08:00.056954Z",
     "iopub.status.busy": "2023-11-28T04:08:00.056068Z",
     "iopub.status.idle": "2023-11-28T04:08:00.063956Z",
     "shell.execute_reply": "2023-11-28T04:08:00.062422Z"
    },
    "papermill": {
     "duration": 0.050867,
     "end_time": "2023-11-28T04:08:00.065794",
     "exception": false,
     "start_time": "2023-11-28T04:08:00.014927",
     "status": "completed"
    },
    "tags": []
   },
   "outputs": [
    {
     "data": {
      "text/plain": [
       "VendorID                         int64\n",
       "passenger_count                float64\n",
       "trip_distance                  float64\n",
       "RatecodeID                     float64\n",
       "store_and_fwd_flag               int64\n",
       "PULocationID                     int64\n",
       "DOLocationID                     int64\n",
       "extra                          float64\n",
       "tip_amount                     float64\n",
       "tolls_amount                   float64\n",
       "improvement_surcharge          float64\n",
       "congestion_surcharge           float64\n",
       "Airport_fee                    float64\n",
       "total_time_taken_in_minutes    float64\n",
       "payment_type_Cash              float64\n",
       "payment_type_Credit Card       float64\n",
       "payment_type_UPI               float64\n",
       "payment_type_Wallet            float64\n",
       "payment_type_unknown           float64\n",
       "dtype: object"
      ]
     },
     "execution_count": 79,
     "metadata": {},
     "output_type": "execute_result"
    }
   ],
   "source": [
    "df_test.dtypes"
   ]
  },
  {
   "cell_type": "markdown",
   "id": "84966b0c",
   "metadata": {
    "papermill": {
     "duration": 0.037825,
     "end_time": "2023-11-28T04:08:00.142550",
     "exception": false,
     "start_time": "2023-11-28T04:08:00.104725",
     "status": "completed"
    },
    "tags": []
   },
   "source": [
    "# Feature Scaling"
   ]
  },
  {
   "cell_type": "markdown",
   "id": "82380687",
   "metadata": {
    "papermill": {
     "duration": 0.037806,
     "end_time": "2023-11-28T04:08:00.219197",
     "exception": false,
     "start_time": "2023-11-28T04:08:00.181391",
     "status": "completed"
    },
    "tags": []
   },
   "source": [
    "##  Normalization\n",
    "\n",
    "Normalization, in the context of data and statistics, refers to the process of scaling and standardizing the values of features (variables) in a dataset. The goal is to bring the values of different features to a similar scale or range, making it easier to compare and analyze them. "
   ]
  },
  {
   "cell_type": "markdown",
   "id": "4929caeb",
   "metadata": {
    "papermill": {
     "duration": 0.039456,
     "end_time": "2023-11-28T04:08:00.297080",
     "exception": false,
     "start_time": "2023-11-28T04:08:00.257624",
     "status": "completed"
    },
    "tags": []
   },
   "source": [
    "### MinMaxScaler \n",
    "* If data is not normally distributed \n",
    "* In MinMaxScaler data lie between 0 to 1"
   ]
  },
  {
   "cell_type": "code",
   "execution_count": 80,
   "id": "0f415139",
   "metadata": {
    "execution": {
     "iopub.execute_input": "2023-11-28T04:08:00.376205Z",
     "iopub.status.busy": "2023-11-28T04:08:00.375827Z",
     "iopub.status.idle": "2023-11-28T04:08:00.407913Z",
     "shell.execute_reply": "2023-11-28T04:08:00.406223Z"
    },
    "papermill": {
     "duration": 0.074127,
     "end_time": "2023-11-28T04:08:00.410433",
     "exception": false,
     "start_time": "2023-11-28T04:08:00.336306",
     "status": "completed"
    },
    "tags": []
   },
   "outputs": [],
   "source": [
    "from sklearn.preprocessing import MinMaxScaler\n",
    "\n",
    "# Initialize the scaler\n",
    "min_max_scaler = MinMaxScaler()\n",
    "\n",
    "# Define the columns to be scaled\n",
    "columns_to_scale = ['passenger_count', 'trip_distance','extra', 'tip_amount', 'tolls_amount', 'improvement_surcharge','congestion_surcharge', 'Airport_fee']\n",
    "\n",
    "# Apply Min-Max scaling to the selected columns\n",
    "df_train[columns_to_scale] = min_max_scaler.fit_transform(df_train[columns_to_scale])\n",
    "df_test[columns_to_scale] = min_max_scaler.transform(df_test[columns_to_scale])\n"
   ]
  },
  {
   "cell_type": "markdown",
   "id": "cced900f",
   "metadata": {
    "papermill": {
     "duration": 0.040434,
     "end_time": "2023-11-28T04:08:00.488907",
     "exception": false,
     "start_time": "2023-11-28T04:08:00.448473",
     "status": "completed"
    },
    "tags": []
   },
   "source": [
    "##  Standardization\n",
    "\n",
    "Standardization, also known as z-score normalization or zero-mean normalization, is a data preprocessing technique used in statistics and machine learning. The goal of standardization is to transform the data in a way that allows for meaningful comparisons and analyses, especially when dealing with features that have different units or scales."
   ]
  },
  {
   "cell_type": "markdown",
   "id": "30ceb626",
   "metadata": {
    "papermill": {
     "duration": 0.036755,
     "end_time": "2023-11-28T04:08:00.562851",
     "exception": false,
     "start_time": "2023-11-28T04:08:00.526096",
     "status": "completed"
    },
    "tags": []
   },
   "source": [
    "### StandardScaler \n",
    "* If data is normally distributed \n",
    "* Mean = 0\n",
    "* Standard Deviation = 1"
   ]
  },
  {
   "cell_type": "code",
   "execution_count": 81,
   "id": "0c635295",
   "metadata": {
    "execution": {
     "iopub.execute_input": "2023-11-28T04:08:00.641788Z",
     "iopub.status.busy": "2023-11-28T04:08:00.641173Z",
     "iopub.status.idle": "2023-11-28T04:08:00.654966Z",
     "shell.execute_reply": "2023-11-28T04:08:00.653725Z"
    },
    "papermill": {
     "duration": 0.056979,
     "end_time": "2023-11-28T04:08:00.657302",
     "exception": false,
     "start_time": "2023-11-28T04:08:00.600323",
     "status": "completed"
    },
    "tags": []
   },
   "outputs": [],
   "source": [
    "from sklearn.preprocessing import StandardScaler\n",
    "\n",
    "# Define the columns you want to standardize\n",
    "columns_to_scale = ['passenger_count', 'trip_distance']\n",
    "\n",
    "# Initialize the scaler\n",
    "standard_scaler = StandardScaler()\n",
    "\n",
    "# Apply standardization to the selected columns\n",
    "df_train[columns_to_scale] = standard_scaler.fit_transform(df_train[columns_to_scale])\n",
    "df_test[columns_to_scale] = standard_scaler.transform(df_test[columns_to_scale])"
   ]
  },
  {
   "cell_type": "markdown",
   "id": "c90c9e44",
   "metadata": {
    "papermill": {
     "duration": 0.038213,
     "end_time": "2023-11-28T04:08:00.735452",
     "exception": false,
     "start_time": "2023-11-28T04:08:00.697239",
     "status": "completed"
    },
    "tags": []
   },
   "source": [
    "### Information about Columns"
   ]
  },
  {
   "cell_type": "code",
   "execution_count": 82,
   "id": "845fdf79",
   "metadata": {
    "execution": {
     "iopub.execute_input": "2023-11-28T04:08:00.814369Z",
     "iopub.status.busy": "2023-11-28T04:08:00.814014Z",
     "iopub.status.idle": "2023-11-28T04:08:00.831662Z",
     "shell.execute_reply": "2023-11-28T04:08:00.830767Z"
    },
    "papermill": {
     "duration": 0.059934,
     "end_time": "2023-11-28T04:08:00.833868",
     "exception": false,
     "start_time": "2023-11-28T04:08:00.773934",
     "status": "completed"
    },
    "tags": []
   },
   "outputs": [
    {
     "name": "stdout",
     "output_type": "stream",
     "text": [
      "<class 'pandas.core.frame.DataFrame'>\n",
      "RangeIndex: 50000 entries, 0 to 49999\n",
      "Data columns (total 19 columns):\n",
      " #   Column                       Non-Null Count  Dtype  \n",
      "---  ------                       --------------  -----  \n",
      " 0   VendorID                     50000 non-null  int64  \n",
      " 1   passenger_count              50000 non-null  float64\n",
      " 2   trip_distance                50000 non-null  float64\n",
      " 3   RatecodeID                   50000 non-null  float64\n",
      " 4   store_and_fwd_flag           50000 non-null  int64  \n",
      " 5   PULocationID                 50000 non-null  int64  \n",
      " 6   DOLocationID                 50000 non-null  int64  \n",
      " 7   extra                        50000 non-null  float64\n",
      " 8   tip_amount                   50000 non-null  float64\n",
      " 9   tolls_amount                 50000 non-null  float64\n",
      " 10  improvement_surcharge        50000 non-null  float64\n",
      " 11  congestion_surcharge         50000 non-null  float64\n",
      " 12  Airport_fee                  50000 non-null  float64\n",
      " 13  total_time_taken_in_minutes  50000 non-null  float64\n",
      " 14  payment_type_Cash            50000 non-null  float64\n",
      " 15  payment_type_Credit Card     50000 non-null  float64\n",
      " 16  payment_type_UPI             50000 non-null  float64\n",
      " 17  payment_type_Wallet          50000 non-null  float64\n",
      " 18  payment_type_unknown         50000 non-null  float64\n",
      "dtypes: float64(15), int64(4)\n",
      "memory usage: 7.2 MB\n"
     ]
    }
   ],
   "source": [
    "df_test.info()"
   ]
  },
  {
   "cell_type": "code",
   "execution_count": 83,
   "id": "d27a85d9",
   "metadata": {
    "execution": {
     "iopub.execute_input": "2023-11-28T04:08:00.911695Z",
     "iopub.status.busy": "2023-11-28T04:08:00.911363Z",
     "iopub.status.idle": "2023-11-28T04:08:00.925854Z",
     "shell.execute_reply": "2023-11-28T04:08:00.924617Z"
    },
    "papermill": {
     "duration": 0.055936,
     "end_time": "2023-11-28T04:08:00.927755",
     "exception": false,
     "start_time": "2023-11-28T04:08:00.871819",
     "status": "completed"
    },
    "tags": []
   },
   "outputs": [
    {
     "name": "stdout",
     "output_type": "stream",
     "text": [
      "<class 'pandas.core.frame.DataFrame'>\n",
      "RangeIndex: 175000 entries, 0 to 174999\n",
      "Data columns (total 20 columns):\n",
      " #   Column                       Non-Null Count   Dtype  \n",
      "---  ------                       --------------   -----  \n",
      " 0   VendorID                     175000 non-null  int64  \n",
      " 1   passenger_count              175000 non-null  float64\n",
      " 2   trip_distance                175000 non-null  float64\n",
      " 3   RatecodeID                   175000 non-null  float64\n",
      " 4   store_and_fwd_flag           175000 non-null  int64  \n",
      " 5   PULocationID                 175000 non-null  int64  \n",
      " 6   DOLocationID                 175000 non-null  int64  \n",
      " 7   extra                        175000 non-null  float64\n",
      " 8   tip_amount                   175000 non-null  float64\n",
      " 9   tolls_amount                 175000 non-null  float64\n",
      " 10  improvement_surcharge        175000 non-null  float64\n",
      " 11  total_amount                 175000 non-null  float64\n",
      " 12  congestion_surcharge         175000 non-null  float64\n",
      " 13  Airport_fee                  175000 non-null  float64\n",
      " 14  total_time_taken_in_minutes  175000 non-null  float64\n",
      " 15  payment_type_Cash            175000 non-null  float64\n",
      " 16  payment_type_Credit Card     175000 non-null  float64\n",
      " 17  payment_type_UPI             175000 non-null  float64\n",
      " 18  payment_type_Wallet          175000 non-null  float64\n",
      " 19  payment_type_unknown         175000 non-null  float64\n",
      "dtypes: float64(16), int64(4)\n",
      "memory usage: 26.7 MB\n"
     ]
    }
   ],
   "source": [
    "df_train.info()"
   ]
  },
  {
   "cell_type": "markdown",
   "id": "b84bc362",
   "metadata": {
    "papermill": {
     "duration": 0.038595,
     "end_time": "2023-11-28T04:08:01.004215",
     "exception": false,
     "start_time": "2023-11-28T04:08:00.965620",
     "status": "completed"
    },
    "tags": []
   },
   "source": [
    "### Description about Columns"
   ]
  },
  {
   "cell_type": "code",
   "execution_count": 84,
   "id": "a7df5a85",
   "metadata": {
    "execution": {
     "iopub.execute_input": "2023-11-28T04:08:01.082882Z",
     "iopub.status.busy": "2023-11-28T04:08:01.082181Z",
     "iopub.status.idle": "2023-11-28T04:08:01.215440Z",
     "shell.execute_reply": "2023-11-28T04:08:01.214533Z"
    },
    "papermill": {
     "duration": 0.174988,
     "end_time": "2023-11-28T04:08:01.217504",
     "exception": false,
     "start_time": "2023-11-28T04:08:01.042516",
     "status": "completed"
    },
    "tags": []
   },
   "outputs": [
    {
     "data": {
      "text/html": [
       "<div>\n",
       "<style scoped>\n",
       "    .dataframe tbody tr th:only-of-type {\n",
       "        vertical-align: middle;\n",
       "    }\n",
       "\n",
       "    .dataframe tbody tr th {\n",
       "        vertical-align: top;\n",
       "    }\n",
       "\n",
       "    .dataframe thead th {\n",
       "        text-align: right;\n",
       "    }\n",
       "</style>\n",
       "<table border=\"1\" class=\"dataframe\">\n",
       "  <thead>\n",
       "    <tr style=\"text-align: right;\">\n",
       "      <th></th>\n",
       "      <th>VendorID</th>\n",
       "      <th>passenger_count</th>\n",
       "      <th>trip_distance</th>\n",
       "      <th>RatecodeID</th>\n",
       "      <th>store_and_fwd_flag</th>\n",
       "      <th>PULocationID</th>\n",
       "      <th>DOLocationID</th>\n",
       "      <th>extra</th>\n",
       "      <th>tip_amount</th>\n",
       "      <th>tolls_amount</th>\n",
       "      <th>improvement_surcharge</th>\n",
       "      <th>total_amount</th>\n",
       "      <th>congestion_surcharge</th>\n",
       "      <th>Airport_fee</th>\n",
       "      <th>total_time_taken_in_minutes</th>\n",
       "      <th>payment_type_Cash</th>\n",
       "      <th>payment_type_Credit Card</th>\n",
       "      <th>payment_type_UPI</th>\n",
       "      <th>payment_type_Wallet</th>\n",
       "      <th>payment_type_unknown</th>\n",
       "    </tr>\n",
       "  </thead>\n",
       "  <tbody>\n",
       "    <tr>\n",
       "      <th>count</th>\n",
       "      <td>175000.000000</td>\n",
       "      <td>1.750000e+05</td>\n",
       "      <td>1.750000e+05</td>\n",
       "      <td>175000.000000</td>\n",
       "      <td>175000.000000</td>\n",
       "      <td>175000.000000</td>\n",
       "      <td>175000.000000</td>\n",
       "      <td>175000.000000</td>\n",
       "      <td>175000.000000</td>\n",
       "      <td>175000.000000</td>\n",
       "      <td>175000.000000</td>\n",
       "      <td>175000.000000</td>\n",
       "      <td>175000.000000</td>\n",
       "      <td>175000.000000</td>\n",
       "      <td>175000.000000</td>\n",
       "      <td>175000.000000</td>\n",
       "      <td>175000.000000</td>\n",
       "      <td>175000.000000</td>\n",
       "      <td>175000.000000</td>\n",
       "      <td>175000.000000</td>\n",
       "    </tr>\n",
       "    <tr>\n",
       "      <th>mean</th>\n",
       "      <td>0.728377</td>\n",
       "      <td>-5.548222e-16</td>\n",
       "      <td>-2.385393e-18</td>\n",
       "      <td>1.500309</td>\n",
       "      <td>0.076274</td>\n",
       "      <td>132.710349</td>\n",
       "      <td>132.701429</td>\n",
       "      <td>0.489981</td>\n",
       "      <td>0.012637</td>\n",
       "      <td>0.273987</td>\n",
       "      <td>0.989844</td>\n",
       "      <td>29.633901</td>\n",
       "      <td>0.949394</td>\n",
       "      <td>0.545379</td>\n",
       "      <td>44.191582</td>\n",
       "      <td>0.172234</td>\n",
       "      <td>0.772897</td>\n",
       "      <td>0.006811</td>\n",
       "      <td>0.034726</td>\n",
       "      <td>0.013331</td>\n",
       "    </tr>\n",
       "    <tr>\n",
       "      <th>std</th>\n",
       "      <td>0.445606</td>\n",
       "      <td>1.000003e+00</td>\n",
       "      <td>1.000003e+00</td>\n",
       "      <td>6.401268</td>\n",
       "      <td>0.374044</td>\n",
       "      <td>76.148799</td>\n",
       "      <td>76.192493</td>\n",
       "      <td>0.101221</td>\n",
       "      <td>0.009509</td>\n",
       "      <td>0.021302</td>\n",
       "      <td>0.099387</td>\n",
       "      <td>25.425206</td>\n",
       "      <td>0.160973</td>\n",
       "      <td>0.143714</td>\n",
       "      <td>40.849813</td>\n",
       "      <td>0.377585</td>\n",
       "      <td>0.418961</td>\n",
       "      <td>0.082250</td>\n",
       "      <td>0.183085</td>\n",
       "      <td>0.114690</td>\n",
       "    </tr>\n",
       "    <tr>\n",
       "      <th>min</th>\n",
       "      <td>0.000000</td>\n",
       "      <td>-1.531986e+00</td>\n",
       "      <td>-1.302866e-02</td>\n",
       "      <td>1.000000</td>\n",
       "      <td>0.000000</td>\n",
       "      <td>1.000000</td>\n",
       "      <td>1.000000</td>\n",
       "      <td>0.000000</td>\n",
       "      <td>0.000000</td>\n",
       "      <td>0.000000</td>\n",
       "      <td>0.000000</td>\n",
       "      <td>-576.750000</td>\n",
       "      <td>0.000000</td>\n",
       "      <td>0.000000</td>\n",
       "      <td>0.000000</td>\n",
       "      <td>0.000000</td>\n",
       "      <td>0.000000</td>\n",
       "      <td>0.000000</td>\n",
       "      <td>0.000000</td>\n",
       "      <td>0.000000</td>\n",
       "    </tr>\n",
       "    <tr>\n",
       "      <th>25%</th>\n",
       "      <td>0.000000</td>\n",
       "      <td>-3.931806e-01</td>\n",
       "      <td>-1.029428e-02</td>\n",
       "      <td>1.000000</td>\n",
       "      <td>0.000000</td>\n",
       "      <td>67.000000</td>\n",
       "      <td>67.000000</td>\n",
       "      <td>0.389610</td>\n",
       "      <td>0.007163</td>\n",
       "      <td>0.268070</td>\n",
       "      <td>1.000000</td>\n",
       "      <td>16.300000</td>\n",
       "      <td>1.000000</td>\n",
       "      <td>0.500000</td>\n",
       "      <td>17.783333</td>\n",
       "      <td>0.000000</td>\n",
       "      <td>1.000000</td>\n",
       "      <td>0.000000</td>\n",
       "      <td>0.000000</td>\n",
       "      <td>0.000000</td>\n",
       "    </tr>\n",
       "    <tr>\n",
       "      <th>50%</th>\n",
       "      <td>1.000000</td>\n",
       "      <td>-3.931806e-01</td>\n",
       "      <td>-8.370081e-03</td>\n",
       "      <td>1.000000</td>\n",
       "      <td>0.000000</td>\n",
       "      <td>133.000000</td>\n",
       "      <td>133.000000</td>\n",
       "      <td>0.441558</td>\n",
       "      <td>0.010902</td>\n",
       "      <td>0.268070</td>\n",
       "      <td>1.000000</td>\n",
       "      <td>21.450000</td>\n",
       "      <td>1.000000</td>\n",
       "      <td>0.500000</td>\n",
       "      <td>37.933333</td>\n",
       "      <td>0.000000</td>\n",
       "      <td>1.000000</td>\n",
       "      <td>0.000000</td>\n",
       "      <td>0.000000</td>\n",
       "      <td>0.000000</td>\n",
       "    </tr>\n",
       "    <tr>\n",
       "      <th>75%</th>\n",
       "      <td>1.000000</td>\n",
       "      <td>-3.931806e-01</td>\n",
       "      <td>-3.888727e-03</td>\n",
       "      <td>1.000000</td>\n",
       "      <td>0.000000</td>\n",
       "      <td>199.000000</td>\n",
       "      <td>199.000000</td>\n",
       "      <td>0.519481</td>\n",
       "      <td>0.015473</td>\n",
       "      <td>0.268070</td>\n",
       "      <td>1.000000</td>\n",
       "      <td>31.800000</td>\n",
       "      <td>1.000000</td>\n",
       "      <td>0.500000</td>\n",
       "      <td>64.220833</td>\n",
       "      <td>0.000000</td>\n",
       "      <td>1.000000</td>\n",
       "      <td>0.000000</td>\n",
       "      <td>0.000000</td>\n",
       "      <td>0.000000</td>\n",
       "    </tr>\n",
       "    <tr>\n",
       "      <th>max</th>\n",
       "      <td>2.000000</td>\n",
       "      <td>8.717260e+00</td>\n",
       "      <td>3.422461e+02</td>\n",
       "      <td>99.000000</td>\n",
       "      <td>2.000000</td>\n",
       "      <td>264.000000</td>\n",
       "      <td>264.000000</td>\n",
       "      <td>1.000000</td>\n",
       "      <td>1.000000</td>\n",
       "      <td>1.000000</td>\n",
       "      <td>1.000000</td>\n",
       "      <td>587.250000</td>\n",
       "      <td>1.000000</td>\n",
       "      <td>1.000000</td>\n",
       "      <td>1436.950000</td>\n",
       "      <td>1.000000</td>\n",
       "      <td>1.000000</td>\n",
       "      <td>1.000000</td>\n",
       "      <td>1.000000</td>\n",
       "      <td>1.000000</td>\n",
       "    </tr>\n",
       "  </tbody>\n",
       "</table>\n",
       "</div>"
      ],
      "text/plain": [
       "            VendorID  passenger_count  trip_distance     RatecodeID  \\\n",
       "count  175000.000000     1.750000e+05   1.750000e+05  175000.000000   \n",
       "mean        0.728377    -5.548222e-16  -2.385393e-18       1.500309   \n",
       "std         0.445606     1.000003e+00   1.000003e+00       6.401268   \n",
       "min         0.000000    -1.531986e+00  -1.302866e-02       1.000000   \n",
       "25%         0.000000    -3.931806e-01  -1.029428e-02       1.000000   \n",
       "50%         1.000000    -3.931806e-01  -8.370081e-03       1.000000   \n",
       "75%         1.000000    -3.931806e-01  -3.888727e-03       1.000000   \n",
       "max         2.000000     8.717260e+00   3.422461e+02      99.000000   \n",
       "\n",
       "       store_and_fwd_flag   PULocationID   DOLocationID          extra  \\\n",
       "count       175000.000000  175000.000000  175000.000000  175000.000000   \n",
       "mean             0.076274     132.710349     132.701429       0.489981   \n",
       "std              0.374044      76.148799      76.192493       0.101221   \n",
       "min              0.000000       1.000000       1.000000       0.000000   \n",
       "25%              0.000000      67.000000      67.000000       0.389610   \n",
       "50%              0.000000     133.000000     133.000000       0.441558   \n",
       "75%              0.000000     199.000000     199.000000       0.519481   \n",
       "max              2.000000     264.000000     264.000000       1.000000   \n",
       "\n",
       "          tip_amount   tolls_amount  improvement_surcharge   total_amount  \\\n",
       "count  175000.000000  175000.000000          175000.000000  175000.000000   \n",
       "mean        0.012637       0.273987               0.989844      29.633901   \n",
       "std         0.009509       0.021302               0.099387      25.425206   \n",
       "min         0.000000       0.000000               0.000000    -576.750000   \n",
       "25%         0.007163       0.268070               1.000000      16.300000   \n",
       "50%         0.010902       0.268070               1.000000      21.450000   \n",
       "75%         0.015473       0.268070               1.000000      31.800000   \n",
       "max         1.000000       1.000000               1.000000     587.250000   \n",
       "\n",
       "       congestion_surcharge    Airport_fee  total_time_taken_in_minutes  \\\n",
       "count         175000.000000  175000.000000                175000.000000   \n",
       "mean               0.949394       0.545379                    44.191582   \n",
       "std                0.160973       0.143714                    40.849813   \n",
       "min                0.000000       0.000000                     0.000000   \n",
       "25%                1.000000       0.500000                    17.783333   \n",
       "50%                1.000000       0.500000                    37.933333   \n",
       "75%                1.000000       0.500000                    64.220833   \n",
       "max                1.000000       1.000000                  1436.950000   \n",
       "\n",
       "       payment_type_Cash  payment_type_Credit Card  payment_type_UPI  \\\n",
       "count      175000.000000             175000.000000     175000.000000   \n",
       "mean            0.172234                  0.772897          0.006811   \n",
       "std             0.377585                  0.418961          0.082250   \n",
       "min             0.000000                  0.000000          0.000000   \n",
       "25%             0.000000                  1.000000          0.000000   \n",
       "50%             0.000000                  1.000000          0.000000   \n",
       "75%             0.000000                  1.000000          0.000000   \n",
       "max             1.000000                  1.000000          1.000000   \n",
       "\n",
       "       payment_type_Wallet  payment_type_unknown  \n",
       "count        175000.000000         175000.000000  \n",
       "mean              0.034726              0.013331  \n",
       "std               0.183085              0.114690  \n",
       "min               0.000000              0.000000  \n",
       "25%               0.000000              0.000000  \n",
       "50%               0.000000              0.000000  \n",
       "75%               0.000000              0.000000  \n",
       "max               1.000000              1.000000  "
      ]
     },
     "execution_count": 84,
     "metadata": {},
     "output_type": "execute_result"
    }
   ],
   "source": [
    "df_train.describe()"
   ]
  },
  {
   "cell_type": "code",
   "execution_count": 85,
   "id": "97337610",
   "metadata": {
    "execution": {
     "iopub.execute_input": "2023-11-28T04:08:01.295876Z",
     "iopub.status.busy": "2023-11-28T04:08:01.295487Z",
     "iopub.status.idle": "2023-11-28T04:08:01.374134Z",
     "shell.execute_reply": "2023-11-28T04:08:01.373088Z"
    },
    "papermill": {
     "duration": 0.121463,
     "end_time": "2023-11-28T04:08:01.377407",
     "exception": false,
     "start_time": "2023-11-28T04:08:01.255944",
     "status": "completed"
    },
    "tags": []
   },
   "outputs": [
    {
     "data": {
      "text/html": [
       "<div>\n",
       "<style scoped>\n",
       "    .dataframe tbody tr th:only-of-type {\n",
       "        vertical-align: middle;\n",
       "    }\n",
       "\n",
       "    .dataframe tbody tr th {\n",
       "        vertical-align: top;\n",
       "    }\n",
       "\n",
       "    .dataframe thead th {\n",
       "        text-align: right;\n",
       "    }\n",
       "</style>\n",
       "<table border=\"1\" class=\"dataframe\">\n",
       "  <thead>\n",
       "    <tr style=\"text-align: right;\">\n",
       "      <th></th>\n",
       "      <th>VendorID</th>\n",
       "      <th>passenger_count</th>\n",
       "      <th>trip_distance</th>\n",
       "      <th>RatecodeID</th>\n",
       "      <th>store_and_fwd_flag</th>\n",
       "      <th>PULocationID</th>\n",
       "      <th>DOLocationID</th>\n",
       "      <th>extra</th>\n",
       "      <th>tip_amount</th>\n",
       "      <th>tolls_amount</th>\n",
       "      <th>improvement_surcharge</th>\n",
       "      <th>congestion_surcharge</th>\n",
       "      <th>Airport_fee</th>\n",
       "      <th>total_time_taken_in_minutes</th>\n",
       "      <th>payment_type_Cash</th>\n",
       "      <th>payment_type_Credit Card</th>\n",
       "      <th>payment_type_UPI</th>\n",
       "      <th>payment_type_Wallet</th>\n",
       "      <th>payment_type_unknown</th>\n",
       "    </tr>\n",
       "  </thead>\n",
       "  <tbody>\n",
       "    <tr>\n",
       "      <th>count</th>\n",
       "      <td>50000.000000</td>\n",
       "      <td>50000.000000</td>\n",
       "      <td>50000.000000</td>\n",
       "      <td>50000.000000</td>\n",
       "      <td>50000.000000</td>\n",
       "      <td>50000.000000</td>\n",
       "      <td>50000.000000</td>\n",
       "      <td>50000.000000</td>\n",
       "      <td>5.000000e+04</td>\n",
       "      <td>50000.000000</td>\n",
       "      <td>50000.000000</td>\n",
       "      <td>50000.000000</td>\n",
       "      <td>50000.000000</td>\n",
       "      <td>50000.000000</td>\n",
       "      <td>50000.000000</td>\n",
       "      <td>50000.00000</td>\n",
       "      <td>50000.000000</td>\n",
       "      <td>50000.000000</td>\n",
       "      <td>50000.000000</td>\n",
       "    </tr>\n",
       "    <tr>\n",
       "      <th>mean</th>\n",
       "      <td>0.730280</td>\n",
       "      <td>0.000345</td>\n",
       "      <td>-0.002904</td>\n",
       "      <td>1.546840</td>\n",
       "      <td>0.077960</td>\n",
       "      <td>132.208160</td>\n",
       "      <td>132.559300</td>\n",
       "      <td>0.489249</td>\n",
       "      <td>1.259638e-02</td>\n",
       "      <td>0.273704</td>\n",
       "      <td>0.990677</td>\n",
       "      <td>0.951009</td>\n",
       "      <td>0.543535</td>\n",
       "      <td>44.300075</td>\n",
       "      <td>0.171420</td>\n",
       "      <td>0.77344</td>\n",
       "      <td>0.006260</td>\n",
       "      <td>0.035580</td>\n",
       "      <td>0.013300</td>\n",
       "    </tr>\n",
       "    <tr>\n",
       "      <th>std</th>\n",
       "      <td>0.444584</td>\n",
       "      <td>0.986999</td>\n",
       "      <td>0.199911</td>\n",
       "      <td>6.752513</td>\n",
       "      <td>0.378213</td>\n",
       "      <td>76.483766</td>\n",
       "      <td>76.410602</td>\n",
       "      <td>0.100705</td>\n",
       "      <td>9.092162e-03</td>\n",
       "      <td>0.020946</td>\n",
       "      <td>0.095102</td>\n",
       "      <td>0.157755</td>\n",
       "      <td>0.141097</td>\n",
       "      <td>41.670302</td>\n",
       "      <td>0.376879</td>\n",
       "      <td>0.41861</td>\n",
       "      <td>0.078873</td>\n",
       "      <td>0.185242</td>\n",
       "      <td>0.114557</td>\n",
       "    </tr>\n",
       "    <tr>\n",
       "      <th>min</th>\n",
       "      <td>0.000000</td>\n",
       "      <td>-1.531986</td>\n",
       "      <td>-0.013029</td>\n",
       "      <td>1.000000</td>\n",
       "      <td>0.000000</td>\n",
       "      <td>1.000000</td>\n",
       "      <td>1.000000</td>\n",
       "      <td>0.000000</td>\n",
       "      <td>6.803050e-07</td>\n",
       "      <td>0.057640</td>\n",
       "      <td>0.000000</td>\n",
       "      <td>0.000000</td>\n",
       "      <td>0.000000</td>\n",
       "      <td>0.000000</td>\n",
       "      <td>0.000000</td>\n",
       "      <td>0.00000</td>\n",
       "      <td>0.000000</td>\n",
       "      <td>0.000000</td>\n",
       "      <td>0.000000</td>\n",
       "    </tr>\n",
       "    <tr>\n",
       "      <th>25%</th>\n",
       "      <td>0.000000</td>\n",
       "      <td>-0.393181</td>\n",
       "      <td>-0.010269</td>\n",
       "      <td>1.000000</td>\n",
       "      <td>0.000000</td>\n",
       "      <td>66.000000</td>\n",
       "      <td>67.000000</td>\n",
       "      <td>0.389610</td>\n",
       "      <td>7.143967e-03</td>\n",
       "      <td>0.268070</td>\n",
       "      <td>1.000000</td>\n",
       "      <td>1.000000</td>\n",
       "      <td>0.500000</td>\n",
       "      <td>17.850000</td>\n",
       "      <td>0.000000</td>\n",
       "      <td>1.00000</td>\n",
       "      <td>0.000000</td>\n",
       "      <td>0.000000</td>\n",
       "      <td>0.000000</td>\n",
       "    </tr>\n",
       "    <tr>\n",
       "      <th>50%</th>\n",
       "      <td>1.000000</td>\n",
       "      <td>-0.393181</td>\n",
       "      <td>-0.008345</td>\n",
       "      <td>1.000000</td>\n",
       "      <td>0.000000</td>\n",
       "      <td>132.000000</td>\n",
       "      <td>133.000000</td>\n",
       "      <td>0.441558</td>\n",
       "      <td>1.087207e-02</td>\n",
       "      <td>0.268070</td>\n",
       "      <td>1.000000</td>\n",
       "      <td>1.000000</td>\n",
       "      <td>0.500000</td>\n",
       "      <td>37.716667</td>\n",
       "      <td>0.000000</td>\n",
       "      <td>1.00000</td>\n",
       "      <td>0.000000</td>\n",
       "      <td>0.000000</td>\n",
       "      <td>0.000000</td>\n",
       "    </tr>\n",
       "    <tr>\n",
       "      <th>75%</th>\n",
       "      <td>1.000000</td>\n",
       "      <td>-0.393181</td>\n",
       "      <td>-0.003914</td>\n",
       "      <td>1.000000</td>\n",
       "      <td>0.000000</td>\n",
       "      <td>199.000000</td>\n",
       "      <td>199.000000</td>\n",
       "      <td>0.519481</td>\n",
       "      <td>1.547605e-02</td>\n",
       "      <td>0.268070</td>\n",
       "      <td>1.000000</td>\n",
       "      <td>1.000000</td>\n",
       "      <td>0.500000</td>\n",
       "      <td>64.270833</td>\n",
       "      <td>0.000000</td>\n",
       "      <td>1.00000</td>\n",
       "      <td>0.000000</td>\n",
       "      <td>0.000000</td>\n",
       "      <td>0.000000</td>\n",
       "    </tr>\n",
       "    <tr>\n",
       "      <th>max</th>\n",
       "      <td>2.000000</td>\n",
       "      <td>7.578455</td>\n",
       "      <td>44.609179</td>\n",
       "      <td>99.000000</td>\n",
       "      <td>2.000000</td>\n",
       "      <td>264.000000</td>\n",
       "      <td>264.000000</td>\n",
       "      <td>1.000000</td>\n",
       "      <td>1.991257e-01</td>\n",
       "      <td>0.704941</td>\n",
       "      <td>1.000000</td>\n",
       "      <td>1.000000</td>\n",
       "      <td>1.000000</td>\n",
       "      <td>1430.066667</td>\n",
       "      <td>1.000000</td>\n",
       "      <td>1.00000</td>\n",
       "      <td>1.000000</td>\n",
       "      <td>1.000000</td>\n",
       "      <td>1.000000</td>\n",
       "    </tr>\n",
       "  </tbody>\n",
       "</table>\n",
       "</div>"
      ],
      "text/plain": [
       "           VendorID  passenger_count  trip_distance    RatecodeID  \\\n",
       "count  50000.000000     50000.000000   50000.000000  50000.000000   \n",
       "mean       0.730280         0.000345      -0.002904      1.546840   \n",
       "std        0.444584         0.986999       0.199911      6.752513   \n",
       "min        0.000000        -1.531986      -0.013029      1.000000   \n",
       "25%        0.000000        -0.393181      -0.010269      1.000000   \n",
       "50%        1.000000        -0.393181      -0.008345      1.000000   \n",
       "75%        1.000000        -0.393181      -0.003914      1.000000   \n",
       "max        2.000000         7.578455      44.609179     99.000000   \n",
       "\n",
       "       store_and_fwd_flag  PULocationID  DOLocationID         extra  \\\n",
       "count        50000.000000  50000.000000  50000.000000  50000.000000   \n",
       "mean             0.077960    132.208160    132.559300      0.489249   \n",
       "std              0.378213     76.483766     76.410602      0.100705   \n",
       "min              0.000000      1.000000      1.000000      0.000000   \n",
       "25%              0.000000     66.000000     67.000000      0.389610   \n",
       "50%              0.000000    132.000000    133.000000      0.441558   \n",
       "75%              0.000000    199.000000    199.000000      0.519481   \n",
       "max              2.000000    264.000000    264.000000      1.000000   \n",
       "\n",
       "         tip_amount  tolls_amount  improvement_surcharge  \\\n",
       "count  5.000000e+04  50000.000000           50000.000000   \n",
       "mean   1.259638e-02      0.273704               0.990677   \n",
       "std    9.092162e-03      0.020946               0.095102   \n",
       "min    6.803050e-07      0.057640               0.000000   \n",
       "25%    7.143967e-03      0.268070               1.000000   \n",
       "50%    1.087207e-02      0.268070               1.000000   \n",
       "75%    1.547605e-02      0.268070               1.000000   \n",
       "max    1.991257e-01      0.704941               1.000000   \n",
       "\n",
       "       congestion_surcharge   Airport_fee  total_time_taken_in_minutes  \\\n",
       "count          50000.000000  50000.000000                 50000.000000   \n",
       "mean               0.951009      0.543535                    44.300075   \n",
       "std                0.157755      0.141097                    41.670302   \n",
       "min                0.000000      0.000000                     0.000000   \n",
       "25%                1.000000      0.500000                    17.850000   \n",
       "50%                1.000000      0.500000                    37.716667   \n",
       "75%                1.000000      0.500000                    64.270833   \n",
       "max                1.000000      1.000000                  1430.066667   \n",
       "\n",
       "       payment_type_Cash  payment_type_Credit Card  payment_type_UPI  \\\n",
       "count       50000.000000               50000.00000      50000.000000   \n",
       "mean            0.171420                   0.77344          0.006260   \n",
       "std             0.376879                   0.41861          0.078873   \n",
       "min             0.000000                   0.00000          0.000000   \n",
       "25%             0.000000                   1.00000          0.000000   \n",
       "50%             0.000000                   1.00000          0.000000   \n",
       "75%             0.000000                   1.00000          0.000000   \n",
       "max             1.000000                   1.00000          1.000000   \n",
       "\n",
       "       payment_type_Wallet  payment_type_unknown  \n",
       "count         50000.000000          50000.000000  \n",
       "mean              0.035580              0.013300  \n",
       "std               0.185242              0.114557  \n",
       "min               0.000000              0.000000  \n",
       "25%               0.000000              0.000000  \n",
       "50%               0.000000              0.000000  \n",
       "75%               0.000000              0.000000  \n",
       "max               1.000000              1.000000  "
      ]
     },
     "execution_count": 85,
     "metadata": {},
     "output_type": "execute_result"
    }
   ],
   "source": [
    "df_test.describe()"
   ]
  },
  {
   "cell_type": "markdown",
   "id": "244aa106",
   "metadata": {
    "papermill": {
     "duration": 0.039051,
     "end_time": "2023-11-28T04:08:01.463142",
     "exception": false,
     "start_time": "2023-11-28T04:08:01.424091",
     "status": "completed"
    },
    "tags": []
   },
   "source": [
    "## Split the data in test and train"
   ]
  },
  {
   "cell_type": "code",
   "execution_count": 86,
   "id": "78e5ddfe",
   "metadata": {
    "execution": {
     "iopub.execute_input": "2023-11-28T04:08:01.599047Z",
     "iopub.status.busy": "2023-11-28T04:08:01.598718Z",
     "iopub.status.idle": "2023-11-28T04:08:01.671586Z",
     "shell.execute_reply": "2023-11-28T04:08:01.670614Z"
    },
    "papermill": {
     "duration": 0.166401,
     "end_time": "2023-11-28T04:08:01.673791",
     "exception": false,
     "start_time": "2023-11-28T04:08:01.507390",
     "status": "completed"
    },
    "tags": []
   },
   "outputs": [],
   "source": [
    "from sklearn.model_selection import train_test_split\n",
    "\n",
    "x=df_train.drop(columns='total_amount', axis=1) # feature\n",
    "y=df_train['total_amount'] # target\n",
    "\n",
    "# Split the data into training and testing sets\n",
    "x_train, x_test, y_train, y_test = train_test_split(x, y, test_size=0.2, random_state=25)"
   ]
  },
  {
   "cell_type": "markdown",
   "id": "55f7de91",
   "metadata": {
    "papermill": {
     "duration": 0.039042,
     "end_time": "2023-11-28T04:08:01.752694",
     "exception": false,
     "start_time": "2023-11-28T04:08:01.713652",
     "status": "completed"
    },
    "tags": []
   },
   "source": [
    "# Train the model"
   ]
  },
  {
   "cell_type": "markdown",
   "id": "ffdcce4f",
   "metadata": {
    "papermill": {
     "duration": 0.039518,
     "end_time": "2023-11-28T04:08:01.831707",
     "exception": false,
     "start_time": "2023-11-28T04:08:01.792189",
     "status": "completed"
    },
    "tags": []
   },
   "source": [
    "### Importing important library for errors"
   ]
  },
  {
   "cell_type": "code",
   "execution_count": 87,
   "id": "fd9cec8b",
   "metadata": {
    "execution": {
     "iopub.execute_input": "2023-11-28T04:08:01.913005Z",
     "iopub.status.busy": "2023-11-28T04:08:01.912329Z",
     "iopub.status.idle": "2023-11-28T04:08:01.917787Z",
     "shell.execute_reply": "2023-11-28T04:08:01.916663Z"
    },
    "papermill": {
     "duration": 0.048187,
     "end_time": "2023-11-28T04:08:01.919544",
     "exception": false,
     "start_time": "2023-11-28T04:08:01.871357",
     "status": "completed"
    },
    "tags": []
   },
   "outputs": [],
   "source": [
    "from sklearn.metrics import mean_squared_error, mean_absolute_error, r2_score "
   ]
  },
  {
   "cell_type": "markdown",
   "id": "9c89b91c",
   "metadata": {
    "papermill": {
     "duration": 0.04053,
     "end_time": "2023-11-28T04:08:01.999414",
     "exception": false,
     "start_time": "2023-11-28T04:08:01.958884",
     "status": "completed"
    },
    "tags": []
   },
   "source": [
    "## Hyperparameter Tuning\n",
    "\n",
    "Performing hyperparameter tuning for linear regression with Ridge and Lasso involves optimizing the regularization parameter (alpha) for both Ridge and Lasso regressions. The regularization parameter controls the strength of regularization, with higher values leading to stronger regularization."
   ]
  },
  {
   "cell_type": "code",
   "execution_count": 88,
   "id": "3b58e464",
   "metadata": {
    "execution": {
     "iopub.execute_input": "2023-11-28T04:08:02.087860Z",
     "iopub.status.busy": "2023-11-28T04:08:02.086170Z",
     "iopub.status.idle": "2023-11-28T04:08:02.092531Z",
     "shell.execute_reply": "2023-11-28T04:08:02.091504Z"
    },
    "papermill": {
     "duration": 0.053186,
     "end_time": "2023-11-28T04:08:02.094866",
     "exception": false,
     "start_time": "2023-11-28T04:08:02.041680",
     "status": "completed"
    },
    "tags": []
   },
   "outputs": [],
   "source": [
    "from sklearn.model_selection import GridSearchCV\n",
    "param_grid = {'alpha': [0.001, 0.01, 0.1, 1, 10, 100]}  # Regularization Parameter (alpha)"
   ]
  },
  {
   "cell_type": "markdown",
   "id": "215718f0",
   "metadata": {
    "papermill": {
     "duration": 0.040311,
     "end_time": "2023-11-28T04:08:02.177608",
     "exception": false,
     "start_time": "2023-11-28T04:08:02.137297",
     "status": "completed"
    },
    "tags": []
   },
   "source": [
    "### Pipeline\n",
    "\n",
    "A pipeline in machine learning is a way to streamline and organize the workflow by chaining together multiple processing steps. It encapsulates data preprocessing, feature engineering, and model training into a single object. Pipelines ensure that the steps are executed in the correct order, simplifying the code and making it easier to reproduce and deploy machine learning workflows. They are particularly useful for combining transformers and estimators, handling data consistently, and facilitating tasks such as hyperparameter tuning and cross-validation."
   ]
  },
  {
   "cell_type": "markdown",
   "id": "ec45ab35",
   "metadata": {
    "papermill": {
     "duration": 0.039345,
     "end_time": "2023-11-28T04:08:02.255929",
     "exception": false,
     "start_time": "2023-11-28T04:08:02.216584",
     "status": "completed"
    },
    "tags": []
   },
   "source": [
    "#### Important library for Pipeline "
   ]
  },
  {
   "cell_type": "code",
   "execution_count": 89,
   "id": "c73fb7bf",
   "metadata": {
    "execution": {
     "iopub.execute_input": "2023-11-28T04:08:02.336354Z",
     "iopub.status.busy": "2023-11-28T04:08:02.336008Z",
     "iopub.status.idle": "2023-11-28T04:08:02.347598Z",
     "shell.execute_reply": "2023-11-28T04:08:02.346913Z"
    },
    "papermill": {
     "duration": 0.054466,
     "end_time": "2023-11-28T04:08:02.349544",
     "exception": false,
     "start_time": "2023-11-28T04:08:02.295078",
     "status": "completed"
    },
    "tags": []
   },
   "outputs": [],
   "source": [
    "from sklearn.pipeline import Pipeline\n",
    "from sklearn.preprocessing import StandardScaler"
   ]
  },
  {
   "cell_type": "markdown",
   "id": "15a3aacf",
   "metadata": {
    "papermill": {
     "duration": 0.04077,
     "end_time": "2023-11-28T04:08:02.430894",
     "exception": false,
     "start_time": "2023-11-28T04:08:02.390124",
     "status": "completed"
    },
    "tags": []
   },
   "source": [
    "### Grid Search for Ridge Regression"
   ]
  },
  {
   "cell_type": "code",
   "execution_count": 90,
   "id": "6f5de455",
   "metadata": {
    "execution": {
     "iopub.execute_input": "2023-11-28T04:08:02.514375Z",
     "iopub.status.busy": "2023-11-28T04:08:02.513314Z",
     "iopub.status.idle": "2023-11-28T04:08:03.992016Z",
     "shell.execute_reply": "2023-11-28T04:08:03.991326Z"
    },
    "papermill": {
     "duration": 1.522444,
     "end_time": "2023-11-28T04:08:03.994212",
     "exception": false,
     "start_time": "2023-11-28T04:08:02.471768",
     "status": "completed"
    },
    "tags": []
   },
   "outputs": [
    {
     "name": "stdout",
     "output_type": "stream",
     "text": [
      "*** Grid Search for Ridge Regression ***\n",
      "Best Ridge alpha: 0.1\n",
      "Mean Absolute Error: 7.944087513558372\n",
      "Mean Squared Error: 156.85821065179468\n",
      "R-squared (R²): 0.7518698864922191\n"
     ]
    }
   ],
   "source": [
    "from sklearn.linear_model import Ridge\n",
    "\n",
    "# Initialize the Ridge Regression\n",
    "ridge = Ridge()\n",
    "ridge_grid_search = GridSearchCV(ridge, param_grid, cv=5, scoring='neg_mean_squared_error')\n",
    "\n",
    "# Fit the model on the training dataset\n",
    "ridge_grid_search.fit(x_train, y_train)\n",
    "\n",
    "best_ridge = ridge_grid_search.best_estimator_\n",
    "\n",
    "# Make predictions on the test dataset\n",
    "y_pred_ridge = best_ridge.predict(x_test)\n",
    "\n",
    "# Evaluate the model\n",
    "mae = mean_absolute_error(y_test, y_pred_ridge)\n",
    "mse = mean_squared_error(y_test, y_pred_ridge)\n",
    "r2 = r2_score(y_test, y_pred_ridge)\n",
    "\n",
    "print(\"*** Grid Search for Ridge Regression ***\")\n",
    "print(f\"Best Ridge alpha: {ridge_grid_search.best_params_['alpha']}\")\n",
    "print(f\"Mean Absolute Error: {mae}\")\n",
    "print(f\"Mean Squared Error: {mse}\")\n",
    "print(f\"R-squared (R²): {r2}\")\n"
   ]
  },
  {
   "cell_type": "markdown",
   "id": "e47afd97",
   "metadata": {
    "papermill": {
     "duration": 0.05188,
     "end_time": "2023-11-28T04:08:04.101149",
     "exception": false,
     "start_time": "2023-11-28T04:08:04.049269",
     "status": "completed"
    },
    "tags": []
   },
   "source": [
    "#### Pipeline using Standard Scaler with Ridge Regression"
   ]
  },
  {
   "cell_type": "code",
   "execution_count": 91,
   "id": "b0bf71d2",
   "metadata": {
    "execution": {
     "iopub.execute_input": "2023-11-28T04:08:04.182074Z",
     "iopub.status.busy": "2023-11-28T04:08:04.181684Z",
     "iopub.status.idle": "2023-11-28T04:08:04.234469Z",
     "shell.execute_reply": "2023-11-28T04:08:04.233603Z"
    },
    "papermill": {
     "duration": 0.094629,
     "end_time": "2023-11-28T04:08:04.236410",
     "exception": false,
     "start_time": "2023-11-28T04:08:04.141781",
     "status": "completed"
    },
    "tags": []
   },
   "outputs": [
    {
     "name": "stdout",
     "output_type": "stream",
     "text": [
      "*** Pipeline using Standard Scaler with Ridge Regression ***\n",
      "Mean Absolute Error: 7.94373111425434\n",
      "Mean Squared Error: 156.83219449302675\n",
      "R-squared (R²): 0.7519110408086002\n"
     ]
    }
   ],
   "source": [
    "# Create a pipeline with a scaler and a Ridge regression model\n",
    "pipeline = Pipeline([\n",
    "    ('scaler', StandardScaler()),  # Step 1: Standardize the data\n",
    "    ('ridge', Ridge())  # Step 2: Apply Ridge regression\n",
    "])\n",
    "\n",
    "# Train the model using the pipeline\n",
    "pipeline.fit(x_train, y_train)\n",
    "\n",
    "# Predict on the test set\n",
    "y_pred_pipeline = pipeline.predict(x_test)\n",
    "\n",
    "# Evaluate the model\n",
    "mae = mean_absolute_error(y_test, y_pred_pipeline)\n",
    "mse = mean_squared_error(y_test, y_pred_pipeline)\n",
    "r2 = r2_score(y_test, y_pred_pipeline)\n",
    "\n",
    "print(\"*** Pipeline using Standard Scaler with Ridge Regression ***\")\n",
    "print(f\"Mean Absolute Error: {mae}\")\n",
    "print(f\"Mean Squared Error: {mse}\")\n",
    "print(f\"R-squared (R²): {r2}\")"
   ]
  },
  {
   "cell_type": "markdown",
   "id": "f5f3af36",
   "metadata": {
    "papermill": {
     "duration": 0.049783,
     "end_time": "2023-11-28T04:08:04.336260",
     "exception": false,
     "start_time": "2023-11-28T04:08:04.286477",
     "status": "completed"
    },
    "tags": []
   },
   "source": [
    "### Grid Search for Lasso Regression"
   ]
  },
  {
   "cell_type": "code",
   "execution_count": 92,
   "id": "278602ca",
   "metadata": {
    "execution": {
     "iopub.execute_input": "2023-11-28T04:08:04.424281Z",
     "iopub.status.busy": "2023-11-28T04:08:04.423957Z",
     "iopub.status.idle": "2023-11-28T04:08:09.013242Z",
     "shell.execute_reply": "2023-11-28T04:08:09.012370Z"
    },
    "papermill": {
     "duration": 4.636968,
     "end_time": "2023-11-28T04:08:09.015929",
     "exception": false,
     "start_time": "2023-11-28T04:08:04.378961",
     "status": "completed"
    },
    "tags": []
   },
   "outputs": [
    {
     "name": "stdout",
     "output_type": "stream",
     "text": [
      "*** Grid Search for Lasso Regression ***\n",
      "Best Lasso alpha: 0.001\n",
      "Mean Absolute Error: 7.943492388732672\n",
      "Mean Squared Error: 156.89731212377944\n",
      "R-squared (R²): 0.7518080328433627\n"
     ]
    }
   ],
   "source": [
    "from sklearn.linear_model import Lasso\n",
    "\n",
    "# Initialize the Lasso Regression\n",
    "lasso = Lasso()\n",
    "lasso_grid_search = GridSearchCV(lasso, param_grid, cv=5, scoring='neg_mean_squared_error')\n",
    "\n",
    "# Fit the model on the training dataset\n",
    "lasso_grid_search.fit(x_train, y_train)\n",
    "\n",
    "best_lasso = lasso_grid_search.best_estimator_\n",
    "\n",
    "# Make predictions on the test dataset\n",
    "y_pred_lasso = best_lasso.predict(x_test)\n",
    "\n",
    "# Evaluate the model\n",
    "mae = mean_absolute_error(y_test, y_pred_lasso)\n",
    "mse = mean_squared_error(y_test, y_pred_lasso)\n",
    "r2 = r2_score(y_test, y_pred_lasso)\n",
    "\n",
    "print(\"*** Grid Search for Lasso Regression ***\")\n",
    "print(f\"Best Lasso alpha: {lasso_grid_search.best_params_['alpha']}\")\n",
    "print(f\"Mean Absolute Error: {mae}\")\n",
    "print(f\"Mean Squared Error: {mse}\")\n",
    "print(f\"R-squared (R²): {r2}\")\n"
   ]
  },
  {
   "cell_type": "markdown",
   "id": "d8daf885",
   "metadata": {
    "papermill": {
     "duration": 0.038691,
     "end_time": "2023-11-28T04:08:09.158355",
     "exception": false,
     "start_time": "2023-11-28T04:08:09.119664",
     "status": "completed"
    },
    "tags": []
   },
   "source": [
    "#### Pipeline using Standard Scaler with Lasso Regression"
   ]
  },
  {
   "cell_type": "code",
   "execution_count": 93,
   "id": "4aad079d",
   "metadata": {
    "execution": {
     "iopub.execute_input": "2023-11-28T04:08:09.239064Z",
     "iopub.status.busy": "2023-11-28T04:08:09.238678Z",
     "iopub.status.idle": "2023-11-28T04:08:09.312501Z",
     "shell.execute_reply": "2023-11-28T04:08:09.311621Z"
    },
    "papermill": {
     "duration": 0.116591,
     "end_time": "2023-11-28T04:08:09.314503",
     "exception": false,
     "start_time": "2023-11-28T04:08:09.197912",
     "status": "completed"
    },
    "tags": []
   },
   "outputs": [
    {
     "name": "stdout",
     "output_type": "stream",
     "text": [
      "*** Pipeline using Standard Scaler with Ridge Regression ***\n",
      "Mean Absolute Error: 8.105712534671765\n",
      "Mean Squared Error: 165.45833703791786\n",
      "R-squared (R²): 0.7382655598362999\n"
     ]
    }
   ],
   "source": [
    "# Create a pipeline with a scaler and a Lasso regression model\n",
    "pipeline = Pipeline([\n",
    "    ('scaler', StandardScaler()),  # Step 1: Standardize the data\n",
    "    ('lasso', Lasso())  # Step 2: Apply Lasso regression\n",
    "])\n",
    "\n",
    "# Train the model using the pipeline\n",
    "pipeline.fit(x_train, y_train)\n",
    "\n",
    "# Predict on the test set\n",
    "y_pred_pipeline = pipeline.predict(x_test)\n",
    "\n",
    "# Evaluate the model\n",
    "mae = mean_absolute_error(y_test, y_pred_pipeline)\n",
    "mse = mean_squared_error(y_test, y_pred_pipeline)\n",
    "r2 = r2_score(y_test, y_pred_pipeline)\n",
    "\n",
    "print(\"*** Pipeline using Standard Scaler with Ridge Regression ***\")\n",
    "print(f\"Mean Absolute Error: {mae}\")\n",
    "print(f\"Mean Squared Error: {mse}\")\n",
    "print(f\"R-squared (R²): {r2}\")"
   ]
  },
  {
   "cell_type": "markdown",
   "id": "6e0e659f",
   "metadata": {
    "papermill": {
     "duration": 0.050346,
     "end_time": "2023-11-28T04:08:09.418053",
     "exception": false,
     "start_time": "2023-11-28T04:08:09.367707",
     "status": "completed"
    },
    "tags": []
   },
   "source": [
    "## Dummy Regressor\n",
    "\n",
    "A dummy regressor is a simple baseline model used for comparison with more sophisticated regression models. It makes predictions based on basic rules and serves as a reference point to assess the performance of more complex models. In regression tasks, a common dummy regressor might predict the mean or median of the target variable for all instances, providing a straightforward benchmark to evaluate whether a more advanced model adds value beyond this basic prediction strategy. Dummy regressors are helpful for understanding if a model is capturing meaningful patterns in the data or if its performance is comparable to a simple, naive approach."
   ]
  },
  {
   "cell_type": "code",
   "execution_count": 94,
   "id": "b0b253a6",
   "metadata": {
    "execution": {
     "iopub.execute_input": "2023-11-28T04:08:09.501508Z",
     "iopub.status.busy": "2023-11-28T04:08:09.501194Z",
     "iopub.status.idle": "2023-11-28T04:08:09.515806Z",
     "shell.execute_reply": "2023-11-28T04:08:09.514234Z"
    },
    "papermill": {
     "duration": 0.059955,
     "end_time": "2023-11-28T04:08:09.517847",
     "exception": false,
     "start_time": "2023-11-28T04:08:09.457892",
     "status": "completed"
    },
    "tags": []
   },
   "outputs": [
    {
     "name": "stdout",
     "output_type": "stream",
     "text": [
      "*** Dummy Regressor ***\n",
      "Mean Absolute Error: 16.4616843036\n",
      "Mean Squared Error: 632.1612004355376\n",
      "R-squared (R²): -1.2602139332074103e-07\n"
     ]
    }
   ],
   "source": [
    "from sklearn.dummy import DummyRegressor\n",
    "\n",
    "# Initialize the Dummy Regressor\n",
    "dummy_regression = DummyRegressor(strategy=\"mean\") \n",
    "\n",
    "# Fit the model on the training dataset\n",
    "dummy_regression.fit(x_train,y_train)\n",
    "\n",
    "# Make predictions on the test dataset\n",
    "y_pred_dummy = dummy_regression.predict(x_test)\n",
    "\n",
    "# Evaluate the model\n",
    "mae = mean_absolute_error(y_test, y_pred_dummy)\n",
    "mse = mean_squared_error(y_test, y_pred_dummy)\n",
    "r2 = r2_score(y_test, y_pred_dummy)\n",
    "\n",
    "print(\"*** Dummy Regressor ***\")\n",
    "print(f\"Mean Absolute Error: {mae}\")\n",
    "print(f\"Mean Squared Error: {mse}\")\n",
    "print(f\"R-squared (R²): {r2}\")"
   ]
  },
  {
   "cell_type": "markdown",
   "id": "6ff7cc27",
   "metadata": {
    "papermill": {
     "duration": 0.040808,
     "end_time": "2023-11-28T04:08:09.598124",
     "exception": false,
     "start_time": "2023-11-28T04:08:09.557316",
     "status": "completed"
    },
    "tags": []
   },
   "source": [
    "## Baseline Model"
   ]
  },
  {
   "cell_type": "code",
   "execution_count": 95,
   "id": "637e5a3f",
   "metadata": {
    "execution": {
     "iopub.execute_input": "2023-11-28T04:08:09.677998Z",
     "iopub.status.busy": "2023-11-28T04:08:09.676950Z",
     "iopub.status.idle": "2023-11-28T04:08:09.759322Z",
     "shell.execute_reply": "2023-11-28T04:08:09.758377Z"
    },
    "papermill": {
     "duration": 0.124249,
     "end_time": "2023-11-28T04:08:09.761181",
     "exception": false,
     "start_time": "2023-11-28T04:08:09.636932",
     "status": "completed"
    },
    "tags": []
   },
   "outputs": [
    {
     "name": "stdout",
     "output_type": "stream",
     "text": [
      "*** Baseline Model ***\n",
      "Mean Absolute Error: 7.943732315160444\n",
      "Mean Squared Error: 156.8321309594811\n",
      "R-squared (R²): 0.7519111413107404\n"
     ]
    }
   ],
   "source": [
    "from sklearn.linear_model import LinearRegression\n",
    "\n",
    "# Initialize the Linear Regression\n",
    "baseline_model = LinearRegression()\n",
    "\n",
    "# Fit the model on the training dataset\n",
    "baseline_model.fit(x_train, y_train)\n",
    "\n",
    "# Make predictions on the test dataset\n",
    "y_pred1 = baseline_model.predict(x_test)\n",
    "\n",
    "# Evaluate the model\n",
    "mae = mean_absolute_error(y_test, y_pred1)\n",
    "mse = mean_squared_error(y_test, y_pred1)\n",
    "r2 = r2_score(y_test, y_pred1)\n",
    "\n",
    "print(\"*** Baseline Model ***\")\n",
    "print(f\"Mean Absolute Error: {mae}\")\n",
    "print(f\"Mean Squared Error: {mse}\")\n",
    "print(f\"R-squared (R²): {r2}\")"
   ]
  },
  {
   "cell_type": "markdown",
   "id": "426496ae",
   "metadata": {
    "papermill": {
     "duration": 0.040973,
     "end_time": "2023-11-28T04:08:09.901360",
     "exception": false,
     "start_time": "2023-11-28T04:08:09.860387",
     "status": "completed"
    },
    "tags": []
   },
   "source": [
    "## Linear Regression\n",
    "Linear regression is a statistical method that models the relationship between a dependent variable and one or more independent variables by fitting a linear equation to the observed data. It seeks to find the best-fitting line (or hyperplane in multiple dimensions) that minimizes the difference between predicted and actual values. The equation takes the form $$y=mx+b$$, where $$y$$ is the dependent variable,$$x$$ is the independent variable, $$m$$ is the slope, and $$b$$ is the y-intercept."
   ]
  },
  {
   "cell_type": "code",
   "execution_count": 96,
   "id": "3ba764ec",
   "metadata": {
    "execution": {
     "iopub.execute_input": "2023-11-28T04:08:09.980191Z",
     "iopub.status.busy": "2023-11-28T04:08:09.979911Z",
     "iopub.status.idle": "2023-11-28T04:08:10.063368Z",
     "shell.execute_reply": "2023-11-28T04:08:10.062296Z"
    },
    "papermill": {
     "duration": 0.12524,
     "end_time": "2023-11-28T04:08:10.065374",
     "exception": false,
     "start_time": "2023-11-28T04:08:09.940134",
     "status": "completed"
    },
    "tags": []
   },
   "outputs": [
    {
     "name": "stdout",
     "output_type": "stream",
     "text": [
      "*** Linear Regression ***\n",
      "Mean Absolute Error: 7.943732315160444\n",
      "Mean Squared Error: 156.8321309594811\n",
      "R-squared (R²): 0.7519111413107404\n"
     ]
    }
   ],
   "source": [
    "from sklearn.linear_model import LinearRegression\n",
    "\n",
    "# Initialize the Linear Regression\n",
    "lr_model = LinearRegression()\n",
    "\n",
    "# Fit the model on the training dataset\n",
    "lr_model.fit(x_train, y_train)\n",
    "\n",
    "# Make predictions on the test dataset\n",
    "y_pred2 = lr_model.predict(x_test)\n",
    "\n",
    "# Evaluate the model\n",
    "mae = mean_absolute_error(y_test, y_pred2)\n",
    "mse = mean_squared_error(y_test, y_pred2)\n",
    "r2 = r2_score(y_test, y_pred2)\n",
    "\n",
    "print(\"*** Linear Regression ***\")\n",
    "print(f\"Mean Absolute Error: {mae}\")\n",
    "print(f\"Mean Squared Error: {mse}\")\n",
    "print(f\"R-squared (R²): {r2}\")"
   ]
  },
  {
   "cell_type": "markdown",
   "id": "93e7c505",
   "metadata": {
    "papermill": {
     "duration": 0.03997,
     "end_time": "2023-11-28T04:08:10.216861",
     "exception": false,
     "start_time": "2023-11-28T04:08:10.176891",
     "status": "completed"
    },
    "tags": []
   },
   "source": [
    "## Random forest Regressor\n",
    "\n",
    "A Random Forest Regressor is an ensemble machine learning algorithm used for regression tasks. It builds multiple decision trees during training and merges their predictions to obtain a more accurate and stable result. Each tree in the forest is trained on a random subset of the data, and the final prediction is an average (for regression) of the individual tree predictions. Random Forest Regressors are effective in handling complex relationships in data and mitigating overfitting."
   ]
  },
  {
   "cell_type": "code",
   "execution_count": 97,
   "id": "fc327674",
   "metadata": {
    "execution": {
     "iopub.execute_input": "2023-11-28T04:08:10.298050Z",
     "iopub.status.busy": "2023-11-28T04:08:10.297737Z",
     "iopub.status.idle": "2023-11-28T04:09:58.051756Z",
     "shell.execute_reply": "2023-11-28T04:09:58.050719Z"
    },
    "papermill": {
     "duration": 107.833769,
     "end_time": "2023-11-28T04:09:58.090646",
     "exception": false,
     "start_time": "2023-11-28T04:08:10.256877",
     "status": "completed"
    },
    "tags": []
   },
   "outputs": [
    {
     "name": "stdout",
     "output_type": "stream",
     "text": [
      "*** Random Forest Regressor ***\n",
      "Mean Absolute Error: 2.776571751428572\n",
      "Mean Squared Error: 28.23139153840143\n",
      "R-squared (R²): 0.9553414618348766\n"
     ]
    }
   ],
   "source": [
    "from sklearn.ensemble import RandomForestRegressor\n",
    "\n",
    "# Initialize the Random Forest Regressor\n",
    "RFR_model = RandomForestRegressor(n_estimators=100, random_state=25)\n",
    "\n",
    "# Fit the model on the training dataset\n",
    "RFR_model.fit(x_train, y_train)\n",
    "\n",
    "# Make predictions on the test dataset\n",
    "y_pred3 = RFR_model.predict(x_test)\n",
    "\n",
    "# Evaluate the model\n",
    "mae = mean_absolute_error(y_test, y_pred3)\n",
    "mse = mean_squared_error(y_test, y_pred3)\n",
    "r2 = r2_score(y_test, y_pred3)\n",
    "\n",
    "print(\"*** Random Forest Regressor ***\")\n",
    "print(f\"Mean Absolute Error: {mae}\")\n",
    "print(f\"Mean Squared Error: {mse}\")\n",
    "print(f\"R-squared (R²): {r2}\")"
   ]
  },
  {
   "cell_type": "markdown",
   "id": "2dd7ee2a",
   "metadata": {
    "papermill": {
     "duration": 0.038573,
     "end_time": "2023-11-28T04:09:58.167791",
     "exception": false,
     "start_time": "2023-11-28T04:09:58.129218",
     "status": "completed"
    },
    "tags": []
   },
   "source": [
    "## Gradient Boosting Regressor\n",
    "\n",
    "Gradient Boosting Regressor is a machine learning algorithm used for regression tasks, where the goal is to predict a continuous outcome. It works by combining the predictions of multiple weak learners (typically decision trees) in an iterative manner. At each iteration, the algorithm fits a new tree to the errors (residuals) of the combined predictions from the previous trees. The process continues, with each tree addressing the mistakes of the ensemble, gradually improving the overall predictive performance. The term \"gradient\" refers to the optimization technique used to minimize the loss function, and \"boosting\" signifies the boosting of model performance through the sequential addition of weak learners. Gradient Boosting Regressor is known for its high predictive accuracy and robustness. Popular implementations include XGBoost, LightGBM, and Scikit-Learn's GradientBoostingRegressor."
   ]
  },
  {
   "cell_type": "code",
   "execution_count": 98,
   "id": "3ef786ab",
   "metadata": {
    "execution": {
     "iopub.execute_input": "2023-11-28T04:09:58.247778Z",
     "iopub.status.busy": "2023-11-28T04:09:58.247031Z",
     "iopub.status.idle": "2023-11-28T04:10:23.201374Z",
     "shell.execute_reply": "2023-11-28T04:10:23.199791Z"
    },
    "papermill": {
     "duration": 24.996538,
     "end_time": "2023-11-28T04:10:23.203249",
     "exception": false,
     "start_time": "2023-11-28T04:09:58.206711",
     "status": "completed"
    },
    "tags": []
   },
   "outputs": [
    {
     "name": "stdout",
     "output_type": "stream",
     "text": [
      "*** Gradient Boosting Regressor ***\n",
      "Mean Absolute Error: 3.086141092705438\n",
      "Mean Squared Error: 31.359070034642503\n",
      "R-squared (R²): 0.9503938647848826\n"
     ]
    }
   ],
   "source": [
    "from sklearn.ensemble import GradientBoostingRegressor\n",
    "\n",
    "# Initialize the Gradient Boosting Regressor\n",
    "gb_model = GradientBoostingRegressor(random_state=25)\n",
    "\n",
    "# Fit the model on the training dataset\n",
    "gb_model.fit(x_train, y_train)\n",
    "\n",
    "# Make predictions on the test dataset\n",
    "y_pred4 = gb_model.predict(x_test)\n",
    "\n",
    "# Evaluate the model\n",
    "mae = mean_absolute_error(y_test, y_pred4)\n",
    "mse = mean_squared_error(y_test, y_pred4)\n",
    "r2 = r2_score(y_test, y_pred4)\n",
    "\n",
    "print(\"*** Gradient Boosting Regressor ***\")\n",
    "print(f\"Mean Absolute Error: {mae}\")\n",
    "print(f\"Mean Squared Error: {mse}\")\n",
    "print(f\"R-squared (R²): {r2}\")"
   ]
  },
  {
   "cell_type": "markdown",
   "id": "76a3e3da",
   "metadata": {
    "papermill": {
     "duration": 0.039125,
     "end_time": "2023-11-28T04:10:23.281519",
     "exception": false,
     "start_time": "2023-11-28T04:10:23.242394",
     "status": "completed"
    },
    "tags": []
   },
   "source": [
    "## XGBoost Regressor\n",
    "\n",
    "XGBoost (Extreme Gradient Boosting) Regressor is a machine learning algorithm that belongs to the ensemble learning family, specifically gradient boosting. It is designed for regression tasks, where the goal is to predict a continuous numerical output. XGBoost builds an ensemble of weak learners (typically decision trees) and combines their predictions to create a more accurate and robust model. It uses a gradient boosting framework, which means it builds trees sequentially, with each tree correcting the errors of the previous ones."
   ]
  },
  {
   "cell_type": "code",
   "execution_count": 99,
   "id": "143357d2",
   "metadata": {
    "execution": {
     "iopub.execute_input": "2023-11-28T04:10:23.362520Z",
     "iopub.status.busy": "2023-11-28T04:10:23.362210Z",
     "iopub.status.idle": "2023-11-28T04:10:31.520188Z",
     "shell.execute_reply": "2023-11-28T04:10:31.519333Z"
    },
    "papermill": {
     "duration": 8.201798,
     "end_time": "2023-11-28T04:10:31.522147",
     "exception": false,
     "start_time": "2023-11-28T04:10:23.320349",
     "status": "completed"
    },
    "tags": []
   },
   "outputs": [
    {
     "name": "stdout",
     "output_type": "stream",
     "text": [
      "*** XGBoost Regressor ***\n",
      "Mean Absolute Error: 2.7066540498237606\n",
      "Mean Squared Error: 26.893464812101108\n",
      "R-squared (R²): 0.9574578949440042\n"
     ]
    }
   ],
   "source": [
    "# Import necessary libraries\n",
    "import xgboost as xgb\n",
    "\n",
    "# Initialize the XGBoost Regressor\n",
    "xg_reg = xgb.XGBRegressor(objective='reg:squarederror', random_state=25)\n",
    "\n",
    "# Fit the model on the training dataset\n",
    "xg_reg.fit(x_train, y_train)\n",
    "\n",
    "# Make predictions on the test dataset\n",
    "y_pred5 = xg_reg.predict(x_test)\n",
    "\n",
    "# Evaluate the model\n",
    "mae = mean_absolute_error(y_test, y_pred5)\n",
    "mse = mean_squared_error(y_test, y_pred5)\n",
    "r2 = r2_score(y_test, y_pred5)\n",
    "\n",
    "print(\"*** XGBoost Regressor ***\")\n",
    "print(f\"Mean Absolute Error: {mae}\")\n",
    "print(f\"Mean Squared Error: {mse}\")\n",
    "print(f\"R-squared (R²): {r2}\")"
   ]
  },
  {
   "cell_type": "markdown",
   "id": "7014241e",
   "metadata": {
    "papermill": {
     "duration": 0.040307,
     "end_time": "2023-11-28T04:10:31.602124",
     "exception": false,
     "start_time": "2023-11-28T04:10:31.561817",
     "status": "completed"
    },
    "tags": []
   },
   "source": [
    "# Submission File"
   ]
  },
  {
   "cell_type": "code",
   "execution_count": 100,
   "id": "43037b28",
   "metadata": {
    "execution": {
     "iopub.execute_input": "2023-11-28T04:10:31.682625Z",
     "iopub.status.busy": "2023-11-28T04:10:31.682042Z",
     "iopub.status.idle": "2023-11-28T04:10:31.818847Z",
     "shell.execute_reply": "2023-11-28T04:10:31.817682Z"
    },
    "papermill": {
     "duration": 0.179754,
     "end_time": "2023-11-28T04:10:31.821270",
     "exception": false,
     "start_time": "2023-11-28T04:10:31.641516",
     "status": "completed"
    },
    "tags": []
   },
   "outputs": [],
   "source": [
    "prediction = xg_reg.predict(df_test)\n",
    "submission=pd.DataFrame(columns=['ID', 'total_amount'])\n",
    "submission['ID'] = [i for i in range(1,len(prediction)+1)]\n",
    "submission[\"total_amount\"]=prediction\n",
    "submission.to_csv('submission.csv',index=False)"
   ]
  },
  {
   "cell_type": "markdown",
   "id": "2ebe1632",
   "metadata": {
    "papermill": {
     "duration": 0.038775,
     "end_time": "2023-11-28T04:10:31.899114",
     "exception": false,
     "start_time": "2023-11-28T04:10:31.860339",
     "status": "completed"
    },
    "tags": []
   },
   "source": [
    "# Read Submission file"
   ]
  },
  {
   "cell_type": "code",
   "execution_count": 101,
   "id": "7a488dc6",
   "metadata": {
    "execution": {
     "iopub.execute_input": "2023-11-28T04:10:31.980420Z",
     "iopub.status.busy": "2023-11-28T04:10:31.980096Z",
     "iopub.status.idle": "2023-11-28T04:10:32.002330Z",
     "shell.execute_reply": "2023-11-28T04:10:32.001108Z"
    },
    "papermill": {
     "duration": 0.067117,
     "end_time": "2023-11-28T04:10:32.005300",
     "exception": false,
     "start_time": "2023-11-28T04:10:31.938183",
     "status": "completed"
    },
    "tags": []
   },
   "outputs": [
    {
     "data": {
      "text/html": [
       "<div>\n",
       "<style scoped>\n",
       "    .dataframe tbody tr th:only-of-type {\n",
       "        vertical-align: middle;\n",
       "    }\n",
       "\n",
       "    .dataframe tbody tr th {\n",
       "        vertical-align: top;\n",
       "    }\n",
       "\n",
       "    .dataframe thead th {\n",
       "        text-align: right;\n",
       "    }\n",
       "</style>\n",
       "<table border=\"1\" class=\"dataframe\">\n",
       "  <thead>\n",
       "    <tr style=\"text-align: right;\">\n",
       "      <th></th>\n",
       "      <th>ID</th>\n",
       "      <th>total_amount</th>\n",
       "    </tr>\n",
       "  </thead>\n",
       "  <tbody>\n",
       "    <tr>\n",
       "      <th>0</th>\n",
       "      <td>1</td>\n",
       "      <td>33.804684</td>\n",
       "    </tr>\n",
       "    <tr>\n",
       "      <th>1</th>\n",
       "      <td>2</td>\n",
       "      <td>25.219124</td>\n",
       "    </tr>\n",
       "    <tr>\n",
       "      <th>2</th>\n",
       "      <td>3</td>\n",
       "      <td>15.603695</td>\n",
       "    </tr>\n",
       "    <tr>\n",
       "      <th>3</th>\n",
       "      <td>4</td>\n",
       "      <td>14.846210</td>\n",
       "    </tr>\n",
       "    <tr>\n",
       "      <th>4</th>\n",
       "      <td>5</td>\n",
       "      <td>24.109636</td>\n",
       "    </tr>\n",
       "    <tr>\n",
       "      <th>...</th>\n",
       "      <td>...</td>\n",
       "      <td>...</td>\n",
       "    </tr>\n",
       "    <tr>\n",
       "      <th>49995</th>\n",
       "      <td>49996</td>\n",
       "      <td>15.402804</td>\n",
       "    </tr>\n",
       "    <tr>\n",
       "      <th>49996</th>\n",
       "      <td>49997</td>\n",
       "      <td>27.078981</td>\n",
       "    </tr>\n",
       "    <tr>\n",
       "      <th>49997</th>\n",
       "      <td>49998</td>\n",
       "      <td>20.350847</td>\n",
       "    </tr>\n",
       "    <tr>\n",
       "      <th>49998</th>\n",
       "      <td>49999</td>\n",
       "      <td>35.443820</td>\n",
       "    </tr>\n",
       "    <tr>\n",
       "      <th>49999</th>\n",
       "      <td>50000</td>\n",
       "      <td>17.596666</td>\n",
       "    </tr>\n",
       "  </tbody>\n",
       "</table>\n",
       "<p>50000 rows × 2 columns</p>\n",
       "</div>"
      ],
      "text/plain": [
       "          ID  total_amount\n",
       "0          1     33.804684\n",
       "1          2     25.219124\n",
       "2          3     15.603695\n",
       "3          4     14.846210\n",
       "4          5     24.109636\n",
       "...      ...           ...\n",
       "49995  49996     15.402804\n",
       "49996  49997     27.078981\n",
       "49997  49998     20.350847\n",
       "49998  49999     35.443820\n",
       "49999  50000     17.596666\n",
       "\n",
       "[50000 rows x 2 columns]"
      ]
     },
     "execution_count": 101,
     "metadata": {},
     "output_type": "execute_result"
    }
   ],
   "source": [
    "submit = pd.read_csv(\"submission.csv\")\n",
    "submit"
   ]
  }
 ],
 "metadata": {
  "kaggle": {
   "accelerator": "none",
   "dataSources": [
    {
     "databundleVersionId": 6604167,
     "sourceId": 61246,
     "sourceType": "competition"
    },
    {
     "datasetId": 205965,
     "sourceId": 451952,
     "sourceType": "datasetVersion"
    }
   ],
   "dockerImageVersionId": 30558,
   "isGpuEnabled": false,
   "isInternetEnabled": true,
   "language": "python",
   "sourceType": "notebook"
  },
  "kernelspec": {
   "display_name": "Python 3",
   "language": "python",
   "name": "python3"
  },
  "language_info": {
   "codemirror_mode": {
    "name": "ipython",
    "version": 3
   },
   "file_extension": ".py",
   "mimetype": "text/x-python",
   "name": "python",
   "nbconvert_exporter": "python",
   "pygments_lexer": "ipython3",
   "version": "3.10.12"
  },
  "papermill": {
   "default_parameters": {},
   "duration": 174.932025,
   "end_time": "2023-11-28T04:10:32.666943",
   "environment_variables": {},
   "exception": null,
   "input_path": "__notebook__.ipynb",
   "output_path": "__notebook__.ipynb",
   "parameters": {},
   "start_time": "2023-11-28T04:07:37.734918",
   "version": "2.4.0"
  }
 },
 "nbformat": 4,
 "nbformat_minor": 5
}
